{
  "nbformat": 4,
  "nbformat_minor": 0,
  "metadata": {
    "colab": {
      "provenance": [],
      "collapsed_sections": [],
      "authorship_tag": "ABX9TyNXzL+8X0SVtKFV/bQhwg4+",
      "include_colab_link": true
    },
    "kernelspec": {
      "name": "python3",
      "display_name": "Python 3"
    },
    "language_info": {
      "name": "python"
    }
  },
  "cells": [
    {
      "cell_type": "markdown",
      "metadata": {
        "id": "view-in-github",
        "colab_type": "text"
      },
      "source": [
        "<a href=\"https://colab.research.google.com/github/ChairaWandau/MLHomeworks/blob/main/ML_LW4.ipynb\" target=\"_parent\"><img src=\"https://colab.research.google.com/assets/colab-badge.svg\" alt=\"Open In Colab\"/></a>"
      ]
    },
    {
      "cell_type": "markdown",
      "source": [
        "#Лабораторная работа №4\n",
        "Студентка Самсонова Валерия, группа М8О-107М-22"
      ],
      "metadata": {
        "id": "spio_uEQ-IaB"
      }
    },
    {
      "cell_type": "markdown",
      "source": [
        "Оптимизировать алгоритмы градиентного спуска с помощью Optuna"
      ],
      "metadata": {
        "id": "QAnEA47e-LAI"
      }
    },
    {
      "cell_type": "markdown",
      "source": [
        "##Часть 1\n",
        "Проведем оптимизацию градиентного спуска на двух функциях оптимизации"
      ],
      "metadata": {
        "id": "T6Y9_ZPZB-nH"
      }
    },
    {
      "cell_type": "markdown",
      "source": [
        "Установим optuna"
      ],
      "metadata": {
        "id": "mDRncovU-msR"
      }
    },
    {
      "cell_type": "code",
      "source": [
        "!pip install optuna"
      ],
      "metadata": {
        "colab": {
          "base_uri": "https://localhost:8080/"
        },
        "id": "n4GSHatq-mOR",
        "outputId": "b3f3e989-b59c-46d5-a361-d984139aa26e"
      },
      "execution_count": 1,
      "outputs": [
        {
          "output_type": "stream",
          "name": "stdout",
          "text": [
            "Looking in indexes: https://pypi.org/simple, https://us-python.pkg.dev/colab-wheels/public/simple/\n",
            "Collecting optuna\n",
            "  Downloading optuna-3.0.3-py3-none-any.whl (348 kB)\n",
            "\u001b[K     |████████████████████████████████| 348 kB 6.7 MB/s \n",
            "\u001b[?25hCollecting colorlog\n",
            "  Downloading colorlog-6.7.0-py2.py3-none-any.whl (11 kB)\n",
            "Requirement already satisfied: numpy in /usr/local/lib/python3.7/dist-packages (from optuna) (1.21.6)\n",
            "Collecting cmaes>=0.8.2\n",
            "  Downloading cmaes-0.9.0-py3-none-any.whl (23 kB)\n",
            "Requirement already satisfied: sqlalchemy>=1.3.0 in /usr/local/lib/python3.7/dist-packages (from optuna) (1.4.43)\n",
            "Requirement already satisfied: PyYAML in /usr/local/lib/python3.7/dist-packages (from optuna) (6.0)\n",
            "Requirement already satisfied: importlib-metadata<5.0.0 in /usr/local/lib/python3.7/dist-packages (from optuna) (4.13.0)\n",
            "Collecting alembic>=1.5.0\n",
            "  Downloading alembic-1.8.1-py3-none-any.whl (209 kB)\n",
            "\u001b[K     |████████████████████████████████| 209 kB 43.7 MB/s \n",
            "\u001b[?25hRequirement already satisfied: tqdm in /usr/local/lib/python3.7/dist-packages (from optuna) (4.64.1)\n",
            "Collecting cliff\n",
            "  Downloading cliff-3.10.1-py3-none-any.whl (81 kB)\n",
            "\u001b[K     |████████████████████████████████| 81 kB 7.1 MB/s \n",
            "\u001b[?25hRequirement already satisfied: scipy<1.9.0,>=1.7.0 in /usr/local/lib/python3.7/dist-packages (from optuna) (1.7.3)\n",
            "Requirement already satisfied: packaging>=20.0 in /usr/local/lib/python3.7/dist-packages (from optuna) (21.3)\n",
            "Collecting Mako\n",
            "  Downloading Mako-1.2.3-py3-none-any.whl (78 kB)\n",
            "\u001b[K     |████████████████████████████████| 78 kB 7.3 MB/s \n",
            "\u001b[?25hRequirement already satisfied: importlib-resources in /usr/local/lib/python3.7/dist-packages (from alembic>=1.5.0->optuna) (5.10.0)\n",
            "Requirement already satisfied: zipp>=0.5 in /usr/local/lib/python3.7/dist-packages (from importlib-metadata<5.0.0->optuna) (3.10.0)\n",
            "Requirement already satisfied: typing-extensions>=3.6.4 in /usr/local/lib/python3.7/dist-packages (from importlib-metadata<5.0.0->optuna) (4.1.1)\n",
            "Requirement already satisfied: pyparsing!=3.0.5,>=2.0.2 in /usr/local/lib/python3.7/dist-packages (from packaging>=20.0->optuna) (3.0.9)\n",
            "Requirement already satisfied: greenlet!=0.4.17 in /usr/local/lib/python3.7/dist-packages (from sqlalchemy>=1.3.0->optuna) (2.0.1)\n",
            "Requirement already satisfied: PrettyTable>=0.7.2 in /usr/local/lib/python3.7/dist-packages (from cliff->optuna) (3.5.0)\n",
            "Collecting pbr!=2.1.0,>=2.0.0\n",
            "  Downloading pbr-5.11.0-py2.py3-none-any.whl (112 kB)\n",
            "\u001b[K     |████████████████████████████████| 112 kB 66.4 MB/s \n",
            "\u001b[?25hCollecting stevedore>=2.0.1\n",
            "  Downloading stevedore-3.5.2-py3-none-any.whl (50 kB)\n",
            "\u001b[K     |████████████████████████████████| 50 kB 7.1 MB/s \n",
            "\u001b[?25hCollecting cmd2>=1.0.0\n",
            "  Downloading cmd2-2.4.2-py3-none-any.whl (147 kB)\n",
            "\u001b[K     |████████████████████████████████| 147 kB 67.5 MB/s \n",
            "\u001b[?25hCollecting autopage>=0.4.0\n",
            "  Downloading autopage-0.5.1-py3-none-any.whl (29 kB)\n",
            "Collecting pyperclip>=1.6\n",
            "  Downloading pyperclip-1.8.2.tar.gz (20 kB)\n",
            "Requirement already satisfied: attrs>=16.3.0 in /usr/local/lib/python3.7/dist-packages (from cmd2>=1.0.0->cliff->optuna) (22.1.0)\n",
            "Requirement already satisfied: wcwidth>=0.1.7 in /usr/local/lib/python3.7/dist-packages (from cmd2>=1.0.0->cliff->optuna) (0.2.5)\n",
            "Requirement already satisfied: MarkupSafe>=0.9.2 in /usr/local/lib/python3.7/dist-packages (from Mako->alembic>=1.5.0->optuna) (2.0.1)\n",
            "Building wheels for collected packages: pyperclip\n",
            "  Building wheel for pyperclip (setup.py) ... \u001b[?25l\u001b[?25hdone\n",
            "  Created wheel for pyperclip: filename=pyperclip-1.8.2-py3-none-any.whl size=11137 sha256=33a4732c937291f369961e3be917a12e2f586f14bd5e500164dbe131ec07e2b7\n",
            "  Stored in directory: /root/.cache/pip/wheels/9f/18/84/8f69f8b08169c7bae2dde6bd7daf0c19fca8c8e500ee620a28\n",
            "Successfully built pyperclip\n",
            "Installing collected packages: pyperclip, pbr, stevedore, Mako, cmd2, autopage, colorlog, cmaes, cliff, alembic, optuna\n",
            "Successfully installed Mako-1.2.3 alembic-1.8.1 autopage-0.5.1 cliff-3.10.1 cmaes-0.9.0 cmd2-2.4.2 colorlog-6.7.0 optuna-3.0.3 pbr-5.11.0 pyperclip-1.8.2 stevedore-3.5.2\n"
          ]
        }
      ]
    },
    {
      "cell_type": "markdown",
      "source": [
        "Подключаем необходимые библиотеки"
      ],
      "metadata": {
        "id": "ZS-GxPuc-iBK"
      }
    },
    {
      "cell_type": "code",
      "source": [
        "import numpy as np\n",
        "import optuna\n",
        "import sklearn.datasets\n",
        "import sklearn.linear_model\n",
        "import sklearn.model_selection\n",
        "import logging\n",
        "import sys\n",
        "#Графики\n",
        "from optuna.visualization import plot_contour\n",
        "from optuna.visualization import plot_edf\n",
        "from optuna.visualization import plot_intermediate_values\n",
        "from optuna.visualization import plot_optimization_history\n",
        "from optuna.visualization import plot_parallel_coordinate\n",
        "from optuna.visualization import plot_param_importances\n",
        "from optuna.visualization import plot_slice"
      ],
      "metadata": {
        "id": "nmJDzGGK-ihD"
      },
      "execution_count": 52,
      "outputs": []
    },
    {
      "cell_type": "markdown",
      "source": [
        "Записываем функцию Гольдшейна-Прайса"
      ],
      "metadata": {
        "id": "cUBTsMeE_EG5"
      }
    },
    {
      "cell_type": "code",
      "source": [
        "#Функция Гольдшейна-Прайса\n",
        "def GP_E(x,y):\n",
        "    return (1+(x+y+1)**2 * (19-14*x+3*x**2-14*y+6*x*y+3*y**2))*(30+(2*x-3*y)**2 * (18-32*x+12*x**2+48*y-36*x*y+27*y**2))\n",
        "def objective_GP(trial):\n",
        "    x = trial.suggest_float(\"x\", -2, 2)\n",
        "    y = trial.suggest_float(\"y\", -2, 2)\n",
        "    return GP_E(x, y)"
      ],
      "metadata": {
        "id": "20-78wCW_EOk"
      },
      "execution_count": 16,
      "outputs": []
    },
    {
      "cell_type": "markdown",
      "source": [
        "Записываем функцию Химмельблау"
      ],
      "metadata": {
        "id": "3fFA94iK_jhq"
      }
    },
    {
      "cell_type": "code",
      "source": [
        "#Функция Химмельблау\n",
        "def H_E(x,y):\n",
        "  return (x**2+y-11)**2+(x+y**2-7)**2\n",
        "def objective_H(trial):\n",
        "    x = trial.suggest_float(\"x\", -5, 5)\n",
        "    y = trial.suggest_float(\"y\", -5, 5)\n",
        "    return H_E(x, y)"
      ],
      "metadata": {
        "id": "VIv7gYkx_jov"
      },
      "execution_count": 17,
      "outputs": []
    },
    {
      "cell_type": "code",
      "source": [
        "study_GP = optuna.create_study()\n",
        "study_GP.optimize(objective_GP, n_trials=100)\n",
        "\n",
        "study_H = optuna.create_study()\n",
        "study_H.optimize(objective_H, n_trials=100)"
      ],
      "metadata": {
        "colab": {
          "base_uri": "https://localhost:8080/"
        },
        "id": "kcXRsSIl_-7b",
        "outputId": "cc5487e9-2a75-4627-8178-a7023e38232a"
      },
      "execution_count": 18,
      "outputs": [
        {
          "output_type": "stream",
          "name": "stderr",
          "text": [
            "\u001b[32m[I 2022-11-13 17:24:53,167]\u001b[0m A new study created in memory with name: no-name-7cd432f2-f1a7-40d8-86d6-466788925dda\u001b[0m\n",
            "\u001b[32m[I 2022-11-13 17:24:53,172]\u001b[0m Trial 0 finished with value: 8493.95489474492 and parameters: {'x': 0.9084521201629907, 'y': -1.2950879013889605}. Best is trial 0 with value: 8493.95489474492.\u001b[0m\n",
            "\u001b[32m[I 2022-11-13 17:24:53,179]\u001b[0m Trial 1 finished with value: 246789.64161973243 and parameters: {'x': -0.5188203260984414, 'y': 1.615015166605919}. Best is trial 0 with value: 8493.95489474492.\u001b[0m\n",
            "\u001b[32m[I 2022-11-13 17:24:53,184]\u001b[0m Trial 2 finished with value: 105469.7007862363 and parameters: {'x': -0.16436498846361358, 'y': 1.4170148190083496}. Best is trial 0 with value: 8493.95489474492.\u001b[0m\n",
            "\u001b[32m[I 2022-11-13 17:24:53,188]\u001b[0m Trial 3 finished with value: 166.31787068488995 and parameters: {'x': -0.4785289384293847, 'y': -0.8433835216453844}. Best is trial 3 with value: 166.31787068488995.\u001b[0m\n",
            "\u001b[32m[I 2022-11-13 17:24:53,193]\u001b[0m Trial 4 finished with value: 786.8165804903496 and parameters: {'x': 0.12220896836216655, 'y': 0.13807638397703492}. Best is trial 3 with value: 166.31787068488995.\u001b[0m\n",
            "\u001b[32m[I 2022-11-13 17:24:53,197]\u001b[0m Trial 5 finished with value: 4011.3921842674795 and parameters: {'x': 1.5066693744325912, 'y': 1.3623741006713437}. Best is trial 3 with value: 166.31787068488995.\u001b[0m\n",
            "\u001b[32m[I 2022-11-13 17:24:53,201]\u001b[0m Trial 6 finished with value: 323909.2251520564 and parameters: {'x': -1.0551288924460227, 'y': 1.501770542475478}. Best is trial 3 with value: 166.31787068488995.\u001b[0m\n",
            "\u001b[32m[I 2022-11-13 17:24:53,205]\u001b[0m Trial 7 finished with value: 1016.6365365854266 and parameters: {'x': 0.6469099355216898, 'y': -0.9408443057432461}. Best is trial 3 with value: 166.31787068488995.\u001b[0m\n",
            "\u001b[32m[I 2022-11-13 17:24:53,209]\u001b[0m Trial 8 finished with value: 25638.33824791358 and parameters: {'x': 0.05559786623989993, 'y': 1.0012381663022518}. Best is trial 3 with value: 166.31787068488995.\u001b[0m\n",
            "\u001b[32m[I 2022-11-13 17:24:53,212]\u001b[0m Trial 9 finished with value: 1046.3118344744073 and parameters: {'x': 1.173300122679251, 'y': 0.39701396629189434}. Best is trial 3 with value: 166.31787068488995.\u001b[0m\n",
            "\u001b[32m[I 2022-11-13 17:24:53,230]\u001b[0m Trial 10 finished with value: 28192.8396942432 and parameters: {'x': -1.9812100419903287, 'y': -1.8654551570303721}. Best is trial 3 with value: 166.31787068488995.\u001b[0m\n",
            "\u001b[32m[I 2022-11-13 17:24:53,242]\u001b[0m Trial 11 finished with value: 296.26658231052556 and parameters: {'x': -0.9727861994932748, 'y': -0.30606712343608244}. Best is trial 3 with value: 166.31787068488995.\u001b[0m\n",
            "\u001b[32m[I 2022-11-13 17:24:53,254]\u001b[0m Trial 12 finished with value: 1481.458137196179 and parameters: {'x': -1.2042912162458732, 'y': -0.5694673726844393}. Best is trial 3 with value: 166.31787068488995.\u001b[0m\n",
            "\u001b[32m[I 2022-11-13 17:24:53,265]\u001b[0m Trial 13 finished with value: 333.4794236593179 and parameters: {'x': -0.9643596439942115, 'y': -0.43311919094504897}. Best is trial 3 with value: 166.31787068488995.\u001b[0m\n",
            "\u001b[32m[I 2022-11-13 17:24:53,275]\u001b[0m Trial 14 finished with value: 19485.83158066574 and parameters: {'x': -1.9339906507807925, 'y': -1.4731392326203756}. Best is trial 3 with value: 166.31787068488995.\u001b[0m\n",
            "\u001b[32m[I 2022-11-13 17:24:53,287]\u001b[0m Trial 15 finished with value: 51.009261144990894 and parameters: {'x': -0.6007139568888317, 'y': -0.274462184744955}. Best is trial 15 with value: 51.009261144990894.\u001b[0m\n",
            "\u001b[32m[I 2022-11-13 17:24:53,298]\u001b[0m Trial 16 finished with value: 7611.964647418306 and parameters: {'x': -0.35050262024682244, 'y': 0.479048245384517}. Best is trial 15 with value: 51.009261144990894.\u001b[0m\n",
            "\u001b[32m[I 2022-11-13 17:24:53,309]\u001b[0m Trial 17 finished with value: 304.34691466636394 and parameters: {'x': 0.5302713206874484, 'y': -0.8734349403921432}. Best is trial 15 with value: 51.009261144990894.\u001b[0m\n",
            "\u001b[32m[I 2022-11-13 17:24:53,323]\u001b[0m Trial 18 finished with value: 15971.046968100036 and parameters: {'x': -1.5347503337287336, 'y': 0.7769816886234248}. Best is trial 15 with value: 51.009261144990894.\u001b[0m\n",
            "\u001b[32m[I 2022-11-13 17:24:53,334]\u001b[0m Trial 19 finished with value: 1310.2238547631061 and parameters: {'x': 1.9594782025137767, 'y': 0.01168365726573134}. Best is trial 15 with value: 51.009261144990894.\u001b[0m\n",
            "\u001b[32m[I 2022-11-13 17:24:53,346]\u001b[0m Trial 20 finished with value: 32492.250813262996 and parameters: {'x': -0.6227985638999249, 'y': -1.9306503696087882}. Best is trial 15 with value: 51.009261144990894.\u001b[0m\n",
            "\u001b[32m[I 2022-11-13 17:24:53,359]\u001b[0m Trial 21 finished with value: 37.406691054908585 and parameters: {'x': -0.6959721595556262, 'y': -0.29190441299260894}. Best is trial 21 with value: 37.406691054908585.\u001b[0m\n",
            "\u001b[32m[I 2022-11-13 17:24:53,375]\u001b[0m Trial 22 finished with value: 388.57756340358577 and parameters: {'x': -0.6236647449613808, 'y': -0.8533883162021234}. Best is trial 21 with value: 37.406691054908585.\u001b[0m\n",
            "\u001b[32m[I 2022-11-13 17:24:53,388]\u001b[0m Trial 23 finished with value: 678.3122233507777 and parameters: {'x': 0.17557141955924263, 'y': -0.20063772608620234}. Best is trial 21 with value: 37.406691054908585.\u001b[0m\n",
            "\u001b[32m[I 2022-11-13 17:24:53,404]\u001b[0m Trial 24 finished with value: 7621.836036668635 and parameters: {'x': -1.3721597202907194, 'y': -1.303942464435909}. Best is trial 21 with value: 37.406691054908585.\u001b[0m\n",
            "\u001b[32m[I 2022-11-13 17:24:53,418]\u001b[0m Trial 25 finished with value: 544158.6714141424 and parameters: {'x': -0.7300415525722057, 'y': 1.9962973768329773}. Best is trial 21 with value: 37.406691054908585.\u001b[0m\n",
            "\u001b[32m[I 2022-11-13 17:24:53,439]\u001b[0m Trial 26 finished with value: 42.557356721145844 and parameters: {'x': -0.2027441786598228, 'y': -0.6826999055548296}. Best is trial 21 with value: 37.406691054908585.\u001b[0m\n",
            "\u001b[32m[I 2022-11-13 17:24:53,454]\u001b[0m Trial 27 finished with value: 956.538121646132 and parameters: {'x': 0.42792044264187934, 'y': 0.2765910634479206}. Best is trial 21 with value: 37.406691054908585.\u001b[0m\n",
            "\u001b[32m[I 2022-11-13 17:24:53,470]\u001b[0m Trial 28 finished with value: 413.01074846900144 and parameters: {'x': -0.11016405370767951, 'y': -0.1545490559858524}. Best is trial 21 with value: 37.406691054908585.\u001b[0m\n",
            "\u001b[32m[I 2022-11-13 17:24:53,488]\u001b[0m Trial 29 finished with value: 15401.870244240008 and parameters: {'x': -1.6708684339210864, 'y': -0.6167498728373229}. Best is trial 21 with value: 37.406691054908585.\u001b[0m\n",
            "\u001b[32m[I 2022-11-13 17:24:53,502]\u001b[0m Trial 30 finished with value: 28.718378715546958 and parameters: {'x': -0.24850901565647515, 'y': -1.1810266613750626}. Best is trial 30 with value: 28.718378715546958.\u001b[0m\n",
            "\u001b[32m[I 2022-11-13 17:24:53,514]\u001b[0m Trial 31 finished with value: 28.716294560148704 and parameters: {'x': -0.26177510499979073, 'y': -1.1733367856063115}. Best is trial 31 with value: 28.716294560148704.\u001b[0m\n",
            "\u001b[32m[I 2022-11-13 17:24:53,529]\u001b[0m Trial 32 finished with value: 30.273050934247067 and parameters: {'x': -0.24780970505189828, 'y': -1.187269783987873}. Best is trial 31 with value: 28.716294560148704.\u001b[0m\n",
            "\u001b[32m[I 2022-11-13 17:24:53,541]\u001b[0m Trial 33 finished with value: 2510.900744656363 and parameters: {'x': 0.3210177150140242, 'y': -1.595490287094813}. Best is trial 31 with value: 28.716294560148704.\u001b[0m\n",
            "\u001b[32m[I 2022-11-13 17:24:53,555]\u001b[0m Trial 34 finished with value: 112.84108996553945 and parameters: {'x': -0.3267807270038374, 'y': -1.2999945012076148}. Best is trial 31 with value: 28.716294560148704.\u001b[0m\n",
            "\u001b[32m[I 2022-11-13 17:24:53,568]\u001b[0m Trial 35 finished with value: 6489.9489781647635 and parameters: {'x': 0.8994518175612563, 'y': -1.131307983867866}. Best is trial 31 with value: 28.716294560148704.\u001b[0m\n",
            "\u001b[32m[I 2022-11-13 17:24:53,581]\u001b[0m Trial 36 finished with value: 3501.096853465275 and parameters: {'x': -0.8379634226307613, 'y': -1.7470796284175203}. Best is trial 31 with value: 28.716294560148704.\u001b[0m\n",
            "\u001b[32m[I 2022-11-13 17:24:53,594]\u001b[0m Trial 37 finished with value: 100.31437823078187 and parameters: {'x': -0.3863656816666711, 'y': -1.1238074267957996}. Best is trial 31 with value: 28.716294560148704.\u001b[0m\n",
            "\u001b[32m[I 2022-11-13 17:24:53,610]\u001b[0m Trial 38 finished with value: 6.992660513385757 and parameters: {'x': -0.05130718120209837, 'y': -1.0874361953637224}. Best is trial 38 with value: 6.992660513385757.\u001b[0m\n",
            "\u001b[32m[I 2022-11-13 17:24:53,625]\u001b[0m Trial 39 finished with value: 4914.303913299727 and parameters: {'x': -0.03147752634460904, 'y': -1.5957013394613875}. Best is trial 38 with value: 6.992660513385757.\u001b[0m\n",
            "\u001b[32m[I 2022-11-13 17:24:53,638]\u001b[0m Trial 40 finished with value: 3317.069869285876 and parameters: {'x': 0.7648974116103375, 'y': -1.1092978156464013}. Best is trial 38 with value: 6.992660513385757.\u001b[0m\n",
            "\u001b[32m[I 2022-11-13 17:24:53,650]\u001b[0m Trial 41 finished with value: 858.8618737564834 and parameters: {'x': -0.20558296680073046, 'y': -1.4185050989915375}. Best is trial 38 with value: 6.992660513385757.\u001b[0m\n",
            "\u001b[32m[I 2022-11-13 17:24:53,664]\u001b[0m Trial 42 finished with value: 33.61803935534593 and parameters: {'x': 0.23153639284376318, 'y': -0.995498896398233}. Best is trial 38 with value: 6.992660513385757.\u001b[0m\n",
            "\u001b[32m[I 2022-11-13 17:24:53,677]\u001b[0m Trial 43 finished with value: 61.506673050384 and parameters: {'x': 0.24545217173537737, 'y': -1.095767038513018}. Best is trial 38 with value: 6.992660513385757.\u001b[0m\n",
            "\u001b[32m[I 2022-11-13 17:24:53,692]\u001b[0m Trial 44 finished with value: 4.054267070628407 and parameters: {'x': -0.028334203055496804, 'y': -0.9594936140787105}. Best is trial 44 with value: 4.054267070628407.\u001b[0m\n",
            "\u001b[32m[I 2022-11-13 17:24:53,704]\u001b[0m Trial 45 finished with value: 61.10090928148842 and parameters: {'x': -0.4497057357629686, 'y': -0.6905559454922681}. Best is trial 44 with value: 4.054267070628407.\u001b[0m\n",
            "\u001b[32m[I 2022-11-13 17:24:53,716]\u001b[0m Trial 46 finished with value: 10870.257134276066 and parameters: {'x': 0.011443976571375497, 'y': -1.7042027470272014}. Best is trial 44 with value: 4.054267070628407.\u001b[0m\n",
            "\u001b[32m[I 2022-11-13 17:24:53,729]\u001b[0m Trial 47 finished with value: 892.195766770291 and parameters: {'x': 0.07392020429090326, 'y': -1.4215357506136672}. Best is trial 44 with value: 4.054267070628407.\u001b[0m\n",
            "\u001b[32m[I 2022-11-13 17:24:53,742]\u001b[0m Trial 48 finished with value: 210.58295001495426 and parameters: {'x': 0.5456418444540161, 'y': -0.46985802218713385}. Best is trial 44 with value: 4.054267070628407.\u001b[0m\n",
            "\u001b[32m[I 2022-11-13 17:24:53,754]\u001b[0m Trial 49 finished with value: 56.904450217504404 and parameters: {'x': -0.31712336624303683, 'y': -1.2481681774011841}. Best is trial 44 with value: 4.054267070628407.\u001b[0m\n",
            "\u001b[32m[I 2022-11-13 17:24:53,767]\u001b[0m Trial 50 finished with value: 8974.544680576839 and parameters: {'x': 1.3212621636832484, 'y': -0.7392837362016382}. Best is trial 44 with value: 4.054267070628407.\u001b[0m\n",
            "\u001b[32m[I 2022-11-13 17:24:53,780]\u001b[0m Trial 51 finished with value: 35.29943884767356 and parameters: {'x': 0.2555090103745802, 'y': -0.9585724748233937}. Best is trial 44 with value: 4.054267070628407.\u001b[0m\n",
            "\u001b[32m[I 2022-11-13 17:24:53,795]\u001b[0m Trial 52 finished with value: 13.125186987304305 and parameters: {'x': -0.16299225892553962, 'y': -0.9775194633060187}. Best is trial 44 with value: 4.054267070628407.\u001b[0m\n",
            "\u001b[32m[I 2022-11-13 17:24:53,809]\u001b[0m Trial 53 finished with value: 18.997045286780562 and parameters: {'x': -0.10818175466912708, 'y': -0.818607354523729}. Best is trial 44 with value: 4.054267070628407.\u001b[0m\n",
            "\u001b[32m[I 2022-11-13 17:24:53,823]\u001b[0m Trial 54 finished with value: 239.84312504535146 and parameters: {'x': -0.041967405857706086, 'y': -0.48021092437354346}. Best is trial 44 with value: 4.054267070628407.\u001b[0m\n",
            "\u001b[32m[I 2022-11-13 17:24:53,836]\u001b[0m Trial 55 finished with value: 199.08983457545673 and parameters: {'x': -0.45922704767857103, 'y': -0.9466964981021013}. Best is trial 44 with value: 4.054267070628407.\u001b[0m\n",
            "\u001b[32m[I 2022-11-13 17:24:53,849]\u001b[0m Trial 56 finished with value: 20.69018792560982 and parameters: {'x': -0.12635437161505933, 'y': -0.8063383109630435}. Best is trial 44 with value: 4.054267070628407.\u001b[0m\n",
            "\u001b[32m[I 2022-11-13 17:24:53,863]\u001b[0m Trial 57 finished with value: 57.9438406200953 and parameters: {'x': 0.4313004859252175, 'y': -0.7908406874556527}. Best is trial 44 with value: 4.054267070628407.\u001b[0m\n",
            "\u001b[32m[I 2022-11-13 17:24:53,877]\u001b[0m Trial 58 finished with value: 245.1336033999317 and parameters: {'x': 0.06050303326843834, 'y': -0.522747786172481}. Best is trial 44 with value: 4.054267070628407.\u001b[0m\n",
            "\u001b[32m[I 2022-11-13 17:24:53,890]\u001b[0m Trial 59 finished with value: 1826.2109347833762 and parameters: {'x': -0.11624984120947615, 'y': -1.482194288462354}. Best is trial 44 with value: 4.054267070628407.\u001b[0m\n",
            "\u001b[32m[I 2022-11-13 17:24:53,903]\u001b[0m Trial 60 finished with value: 961.1784148359712 and parameters: {'x': -0.8605505571434705, 'y': -0.8564103070185101}. Best is trial 44 with value: 4.054267070628407.\u001b[0m\n",
            "\u001b[32m[I 2022-11-13 17:24:53,916]\u001b[0m Trial 61 finished with value: 340.6249617656021 and parameters: {'x': -0.5288491378554665, 'y': -1.0353371683637407}. Best is trial 44 with value: 4.054267070628407.\u001b[0m\n",
            "\u001b[32m[I 2022-11-13 17:24:53,929]\u001b[0m Trial 62 finished with value: 153.21011229127342 and parameters: {'x': -0.14007311909010078, 'y': -1.2764611472446907}. Best is trial 44 with value: 4.054267070628407.\u001b[0m\n",
            "\u001b[32m[I 2022-11-13 17:24:53,944]\u001b[0m Trial 63 finished with value: 16.614741995678834 and parameters: {'x': 0.14020473562796837, 'y': -0.8368618210629387}. Best is trial 44 with value: 4.054267070628407.\u001b[0m\n",
            "\u001b[32m[I 2022-11-13 17:24:53,958]\u001b[0m Trial 64 finished with value: 465.1150348865497 and parameters: {'x': 0.1443553090343855, 'y': -0.3762612271265192}. Best is trial 44 with value: 4.054267070628407.\u001b[0m\n",
            "\u001b[32m[I 2022-11-13 17:24:53,972]\u001b[0m Trial 65 finished with value: 1008.951641924006 and parameters: {'x': 0.6711256841029309, 'y': -0.03708524445533978}. Best is trial 44 with value: 4.054267070628407.\u001b[0m\n",
            "\u001b[32m[I 2022-11-13 17:24:53,986]\u001b[0m Trial 66 finished with value: 82.99347026307002 and parameters: {'x': 0.35815574956943896, 'y': -0.6465620576833071}. Best is trial 44 with value: 4.054267070628407.\u001b[0m\n",
            "\u001b[32m[I 2022-11-13 17:24:54,001]\u001b[0m Trial 67 finished with value: 41.6627045918691 and parameters: {'x': 0.16306833638861126, 'y': -0.7602233894251935}. Best is trial 44 with value: 4.054267070628407.\u001b[0m\n",
            "\u001b[32m[I 2022-11-13 17:24:54,013]\u001b[0m Trial 68 finished with value: 1732.6297166843 and parameters: {'x': -1.1079596646816263, 'y': -0.8554792721261213}. Best is trial 44 with value: 4.054267070628407.\u001b[0m\n",
            "\u001b[32m[I 2022-11-13 17:24:54,026]\u001b[0m Trial 69 finished with value: 434.24651735715037 and parameters: {'x': -0.05070507208572811, 'y': -1.3475913601887763}. Best is trial 44 with value: 4.054267070628407.\u001b[0m\n",
            "\u001b[32m[I 2022-11-13 17:24:54,045]\u001b[0m Trial 70 finished with value: 88333.28505968873 and parameters: {'x': -0.7431097194486924, 'y': 1.04196105339512}. Best is trial 44 with value: 4.054267070628407.\u001b[0m\n",
            "\u001b[32m[I 2022-11-13 17:24:54,060]\u001b[0m Trial 71 finished with value: 50.49142876603786 and parameters: {'x': -0.28701801868321675, 'y': -1.0108447588687797}. Best is trial 44 with value: 4.054267070628407.\u001b[0m\n",
            "\u001b[32m[I 2022-11-13 17:24:54,072]\u001b[0m Trial 72 finished with value: 70.50783961941208 and parameters: {'x': -0.1934569179663006, 'y': -1.2372468117279174}. Best is trial 44 with value: 4.054267070628407.\u001b[0m\n",
            "\u001b[32m[I 2022-11-13 17:24:54,086]\u001b[0m Trial 73 finished with value: 1943.474825165355 and parameters: {'x': -0.566013560726056, 'y': -1.5878482295058174}. Best is trial 44 with value: 4.054267070628407.\u001b[0m\n",
            "\u001b[32m[I 2022-11-13 17:24:54,098]\u001b[0m Trial 74 finished with value: 83.23022725277475 and parameters: {'x': -0.3753586209957295, 'y': -0.8560687989337248}. Best is trial 44 with value: 4.054267070628407.\u001b[0m\n",
            "\u001b[32m[I 2022-11-13 17:24:54,111]\u001b[0m Trial 75 finished with value: 202.38454074067187 and parameters: {'x': 0.03625196461915839, 'y': -0.5544085027248966}. Best is trial 44 with value: 4.054267070628407.\u001b[0m\n",
            "\u001b[32m[I 2022-11-13 17:24:54,124]\u001b[0m Trial 76 finished with value: 25.962973491988908 and parameters: {'x': -0.23871103297623714, 'y': -1.1713054004893761}. Best is trial 44 with value: 4.054267070628407.\u001b[0m\n",
            "\u001b[32m[I 2022-11-13 17:24:54,146]\u001b[0m Trial 77 finished with value: 348.95212243353154 and parameters: {'x': 0.4577559493995623, 'y': -1.004745974817921}. Best is trial 44 with value: 4.054267070628407.\u001b[0m\n",
            "\u001b[32m[I 2022-11-13 17:24:54,159]\u001b[0m Trial 78 finished with value: 2055.731014948385 and parameters: {'x': -0.11221443218615298, 'y': -1.4944629669228604}. Best is trial 44 with value: 4.054267070628407.\u001b[0m\n",
            "\u001b[32m[I 2022-11-13 17:24:54,172]\u001b[0m Trial 79 finished with value: 16133.659146975479 and parameters: {'x': 0.13390674453530982, 'y': -1.778770158267806}. Best is trial 44 with value: 4.054267070628407.\u001b[0m\n",
            "\u001b[32m[I 2022-11-13 17:24:54,185]\u001b[0m Trial 80 finished with value: 57805.561488023166 and parameters: {'x': -0.39804948829478287, 'y': -1.982961995339357}. Best is trial 44 with value: 4.054267070628407.\u001b[0m\n",
            "\u001b[32m[I 2022-11-13 17:24:54,199]\u001b[0m Trial 81 finished with value: 26.24663140094479 and parameters: {'x': -0.25007155933300007, 'y': -1.1656394818835125}. Best is trial 44 with value: 4.054267070628407.\u001b[0m\n",
            "\u001b[32m[I 2022-11-13 17:24:54,214]\u001b[0m Trial 82 finished with value: 258.1749476694194 and parameters: {'x': -0.5024287558918704, 'y': -1.131935529133348}. Best is trial 44 with value: 4.054267070628407.\u001b[0m\n",
            "\u001b[32m[I 2022-11-13 17:24:54,229]\u001b[0m Trial 83 finished with value: 31.548353930278957 and parameters: {'x': -0.24846464174941263, 'y': -0.9002009332388193}. Best is trial 44 with value: 4.054267070628407.\u001b[0m\n",
            "\u001b[32m[I 2022-11-13 17:24:54,243]\u001b[0m Trial 84 finished with value: 335.81908096110925 and parameters: {'x': -0.04627162402366411, 'y': -1.3268171898862438}. Best is trial 44 with value: 4.054267070628407.\u001b[0m\n",
            "\u001b[32m[I 2022-11-13 17:24:54,255]\u001b[0m Trial 85 finished with value: 161.09340253056786 and parameters: {'x': 0.34187650001834574, 'y': -1.0792636072369295}. Best is trial 44 with value: 4.054267070628407.\u001b[0m\n",
            "\u001b[32m[I 2022-11-13 17:24:54,268]\u001b[0m Trial 86 finished with value: 60.95401855054226 and parameters: {'x': -0.168161301768384, 'y': -0.6527832074581617}. Best is trial 44 with value: 4.054267070628407.\u001b[0m\n",
            "\u001b[32m[I 2022-11-13 17:24:54,281]\u001b[0m Trial 87 finished with value: 332.32811242078105 and parameters: {'x': -0.6544085333738285, 'y': -0.7790289767915938}. Best is trial 44 with value: 4.054267070628407.\u001b[0m\n",
            "\u001b[32m[I 2022-11-13 17:24:54,293]\u001b[0m Trial 88 finished with value: 139.3033147153654 and parameters: {'x': -0.2919199367152284, 'y': -0.379671483267019}. Best is trial 44 with value: 4.054267070628407.\u001b[0m\n",
            "\u001b[32m[I 2022-11-13 17:24:54,306]\u001b[0m Trial 89 finished with value: 117212.06874894978 and parameters: {'x': 1.7681755587762975, 'y': -1.3659908807539893}. Best is trial 44 with value: 4.054267070628407.\u001b[0m\n",
            "\u001b[32m[I 2022-11-13 17:24:54,320]\u001b[0m Trial 90 finished with value: 54.38820958105304 and parameters: {'x': 0.07382253447549991, 'y': -1.2026156734017384}. Best is trial 44 with value: 4.054267070628407.\u001b[0m\n",
            "\u001b[32m[I 2022-11-13 17:24:54,333]\u001b[0m Trial 91 finished with value: 150.8606956764656 and parameters: {'x': -0.4468715345756525, 'y': -1.1584908033950363}. Best is trial 44 with value: 4.054267070628407.\u001b[0m\n",
            "\u001b[32m[I 2022-11-13 17:24:54,346]\u001b[0m Trial 92 finished with value: 23.01132377686877 and parameters: {'x': -0.22007698294974762, 'y': -1.0406895847460056}. Best is trial 44 with value: 4.054267070628407.\u001b[0m\n",
            "\u001b[32m[I 2022-11-13 17:24:54,361]\u001b[0m Trial 93 finished with value: 48.83140968695234 and parameters: {'x': 0.23713074435175563, 'y': -1.055816498473751}. Best is trial 44 with value: 4.054267070628407.\u001b[0m\n",
            "\u001b[32m[I 2022-11-13 17:24:54,377]\u001b[0m Trial 94 finished with value: 6.309672711095062 and parameters: {'x': -0.05494250241408957, 'y': -0.9266777015150081}. Best is trial 44 with value: 4.054267070628407.\u001b[0m\n",
            "\u001b[32m[I 2022-11-13 17:24:54,395]\u001b[0m Trial 95 finished with value: 5.9570879144459425 and parameters: {'x': -0.01951194360071168, 'y': -0.9215485695967467}. Best is trial 44 with value: 4.054267070628407.\u001b[0m\n",
            "\u001b[32m[I 2022-11-13 17:24:54,407]\u001b[0m Trial 96 finished with value: 3.9894198326836223 and parameters: {'x': -0.016585135340439733, 'y': -0.956219127535605}. Best is trial 96 with value: 3.9894198326836223.\u001b[0m\n",
            "\u001b[32m[I 2022-11-13 17:24:54,421]\u001b[0m Trial 97 finished with value: 125.63780923341426 and parameters: {'x': -0.0686213715932848, 'y': -0.5980648321810123}. Best is trial 96 with value: 3.9894198326836223.\u001b[0m\n",
            "\u001b[32m[I 2022-11-13 17:24:54,433]\u001b[0m Trial 98 finished with value: 5.208974044697159 and parameters: {'x': 0.09238627207788978, 'y': -0.943774707127934}. Best is trial 96 with value: 3.9894198326836223.\u001b[0m\n",
            "\u001b[32m[I 2022-11-13 17:24:54,446]\u001b[0m Trial 99 finished with value: 4.165593974909532 and parameters: {'x': 0.02201284670245776, 'y': -0.9458813230400234}. Best is trial 96 with value: 3.9894198326836223.\u001b[0m\n",
            "\u001b[32m[I 2022-11-13 17:24:54,449]\u001b[0m A new study created in memory with name: no-name-12d8eff3-bc77-413d-a720-c58a933ed70c\u001b[0m\n",
            "\u001b[32m[I 2022-11-13 17:24:54,455]\u001b[0m Trial 0 finished with value: 136.03030169084144 and parameters: {'x': -0.6727692105735734, 'y': 0.9923021201104838}. Best is trial 0 with value: 136.03030169084144.\u001b[0m\n",
            "\u001b[32m[I 2022-11-13 17:24:54,459]\u001b[0m Trial 1 finished with value: 250.2022174042459 and parameters: {'x': -4.6405375093326064, 'y': 0.736810679084245}. Best is trial 0 with value: 136.03030169084144.\u001b[0m\n",
            "\u001b[32m[I 2022-11-13 17:24:54,464]\u001b[0m Trial 2 finished with value: 13.079029870243136 and parameters: {'x': -2.2093092284397975, 'y': 3.405982214869102}. Best is trial 2 with value: 13.079029870243136.\u001b[0m\n",
            "\u001b[32m[I 2022-11-13 17:24:54,467]\u001b[0m Trial 3 finished with value: 165.14065553061081 and parameters: {'x': 0.667175770879429, 'y': -2.2177588295195805}. Best is trial 2 with value: 13.079029870243136.\u001b[0m\n",
            "\u001b[32m[I 2022-11-13 17:24:54,471]\u001b[0m Trial 4 finished with value: 37.03999613552891 and parameters: {'x': -4.467838272980355, 'y': -3.122674850200702}. Best is trial 2 with value: 13.079029870243136.\u001b[0m\n",
            "\u001b[32m[I 2022-11-13 17:24:54,475]\u001b[0m Trial 5 finished with value: 140.48510170759468 and parameters: {'x': -4.936346141447904, 'y': -2.6300528844651083}. Best is trial 2 with value: 13.079029870243136.\u001b[0m\n",
            "\u001b[32m[I 2022-11-13 17:24:54,479]\u001b[0m Trial 6 finished with value: 102.91736210149107 and parameters: {'x': 4.79450996859107, 'y': -2.2398312576683788}. Best is trial 2 with value: 13.079029870243136.\u001b[0m\n",
            "\u001b[32m[I 2022-11-13 17:24:54,483]\u001b[0m Trial 7 finished with value: 103.54909326183845 and parameters: {'x': 3.3024347504094393, 'y': 3.638172203249942}. Best is trial 2 with value: 13.079029870243136.\u001b[0m\n",
            "\u001b[32m[I 2022-11-13 17:24:54,486]\u001b[0m Trial 8 finished with value: 77.49027857230371 and parameters: {'x': 2.4189386558158965, 'y': -2.8669765794569058}. Best is trial 2 with value: 13.079029870243136.\u001b[0m\n",
            "\u001b[32m[I 2022-11-13 17:24:54,489]\u001b[0m Trial 9 finished with value: 297.4830679609923 and parameters: {'x': 4.983399049401662, 'y': 2.658026054135286}. Best is trial 2 with value: 13.079029870243136.\u001b[0m\n",
            "\u001b[32m[I 2022-11-13 17:24:54,509]\u001b[0m Trial 10 finished with value: 101.3845594408869 and parameters: {'x': -1.8687357770571023, 'y': 4.290680300266348}. Best is trial 2 with value: 13.079029870243136.\u001b[0m\n",
            "\u001b[32m[I 2022-11-13 17:24:54,525]\u001b[0m Trial 11 finished with value: 202.89898652773525 and parameters: {'x': -2.6637703830735933, 'y': -4.593028921077069}. Best is trial 2 with value: 13.079029870243136.\u001b[0m\n",
            "\u001b[32m[I 2022-11-13 17:24:54,538]\u001b[0m Trial 12 finished with value: 104.98148360357983 and parameters: {'x': -3.2607912108345323, 'y': -0.16978596834641524}. Best is trial 2 with value: 13.079029870243136.\u001b[0m\n",
            "\u001b[32m[I 2022-11-13 17:24:54,553]\u001b[0m Trial 13 finished with value: 36.78906092996707 and parameters: {'x': -3.54300981660282, 'y': 2.445911094975743}. Best is trial 2 with value: 13.079029870243136.\u001b[0m\n",
            "\u001b[32m[I 2022-11-13 17:24:54,566]\u001b[0m Trial 14 finished with value: 59.907774010286325 and parameters: {'x': -1.048056203875591, 'y': 2.444369185758687}. Best is trial 2 with value: 13.079029870243136.\u001b[0m\n",
            "\u001b[32m[I 2022-11-13 17:24:54,579]\u001b[0m Trial 15 finished with value: 64.65538142597057 and parameters: {'x': 0.8084946608766729, 'y': 2.338178728899517}. Best is trial 2 with value: 13.079029870243136.\u001b[0m\n",
            "\u001b[32m[I 2022-11-13 17:24:54,591]\u001b[0m Trial 16 finished with value: 160.64884174152724 and parameters: {'x': -3.0370198915507918, 'y': 4.728962304542206}. Best is trial 2 with value: 13.079029870243136.\u001b[0m\n",
            "\u001b[32m[I 2022-11-13 17:24:54,604]\u001b[0m Trial 17 finished with value: 18.937282758194037 and parameters: {'x': -1.9899295612159529, 'y': 3.364419993050194}. Best is trial 2 with value: 13.079029870243136.\u001b[0m\n",
            "\u001b[32m[I 2022-11-13 17:24:54,616]\u001b[0m Trial 18 finished with value: 146.34725465667023 and parameters: {'x': -1.6773157605558129, 'y': -0.61357609164079}. Best is trial 2 with value: 13.079029870243136.\u001b[0m\n",
            "\u001b[32m[I 2022-11-13 17:24:54,629]\u001b[0m Trial 19 finished with value: 80.4966432705739 and parameters: {'x': 0.09265507672916717, 'y': 3.4246460740924536}. Best is trial 2 with value: 13.079029870243136.\u001b[0m\n",
            "\u001b[32m[I 2022-11-13 17:24:54,643]\u001b[0m Trial 20 finished with value: 58.3307434789637 and parameters: {'x': 1.7059359738156565, 'y': 1.3235159805761936}. Best is trial 2 with value: 13.079029870243136.\u001b[0m\n",
            "\u001b[32m[I 2022-11-13 17:24:54,656]\u001b[0m Trial 21 finished with value: 25.861958759153868 and parameters: {'x': -3.553857732780547, 'y': 3.3802279281752186}. Best is trial 2 with value: 13.079029870243136.\u001b[0m\n",
            "\u001b[32m[I 2022-11-13 17:24:54,668]\u001b[0m Trial 22 finished with value: 224.3275241559682 and parameters: {'x': -2.5199518803986423, 'y': 4.949194622977462}. Best is trial 2 with value: 13.079029870243136.\u001b[0m\n",
            "\u001b[32m[I 2022-11-13 17:24:54,685]\u001b[0m Trial 23 finished with value: 66.43810120312075 and parameters: {'x': -3.8593558952849056, 'y': 3.712909559804407}. Best is trial 2 with value: 13.079029870243136.\u001b[0m\n",
            "\u001b[32m[I 2022-11-13 17:24:54,699]\u001b[0m Trial 24 finished with value: 63.138566180092965 and parameters: {'x': -1.8281446819840683, 'y': 1.8463971534404247}. Best is trial 2 with value: 13.079029870243136.\u001b[0m\n",
            "\u001b[32m[I 2022-11-13 17:24:54,712]\u001b[0m Trial 25 finished with value: 56.24065405741745 and parameters: {'x': -0.9433546596745672, 'y': 3.3429841261378765}. Best is trial 2 with value: 13.079029870243136.\u001b[0m\n",
            "\u001b[32m[I 2022-11-13 17:24:54,731]\u001b[0m Trial 26 finished with value: 105.60373907605822 and parameters: {'x': -3.8112100957636557, 'y': -0.9314460816438306}. Best is trial 2 with value: 13.079029870243136.\u001b[0m\n",
            "\u001b[32m[I 2022-11-13 17:24:54,744]\u001b[0m Trial 27 finished with value: 66.39304646007162 and parameters: {'x': -2.147524768280649, 'y': 4.119908580076933}. Best is trial 2 with value: 13.079029870243136.\u001b[0m\n",
            "\u001b[32m[I 2022-11-13 17:24:54,756]\u001b[0m Trial 28 finished with value: 61.66726831506405 and parameters: {'x': -0.533265422245466, 'y': 2.991901631212443}. Best is trial 2 with value: 13.079029870243136.\u001b[0m\n",
            "\u001b[32m[I 2022-11-13 17:24:54,770]\u001b[0m Trial 29 finished with value: 138.83295333583573 and parameters: {'x': -1.2867233162179774, 'y': 0.612636345165205}. Best is trial 2 with value: 13.079029870243136.\u001b[0m\n",
            "\u001b[32m[I 2022-11-13 17:24:54,782]\u001b[0m Trial 30 finished with value: 118.45372959528372 and parameters: {'x': -0.4837000773367932, 'y': 1.395572043555021}. Best is trial 2 with value: 13.079029870243136.\u001b[0m\n",
            "\u001b[32m[I 2022-11-13 17:24:54,798]\u001b[0m Trial 31 finished with value: 63.49610602807594 and parameters: {'x': -3.6346584878486716, 'y': 1.9609936721466665}. Best is trial 2 with value: 13.079029870243136.\u001b[0m\n",
            "\u001b[32m[I 2022-11-13 17:24:54,811]\u001b[0m Trial 32 finished with value: 153.47077431090005 and parameters: {'x': -4.243379440883896, 'y': 4.092331951990723}. Best is trial 2 with value: 13.079029870243136.\u001b[0m\n",
            "\u001b[32m[I 2022-11-13 17:24:54,827]\u001b[0m Trial 33 finished with value: 1.7764678799512212 and parameters: {'x': -3.006923647295956, 'y': 3.0371149892801115}. Best is trial 33 with value: 1.7764678799512212.\u001b[0m\n",
            "\u001b[32m[I 2022-11-13 17:24:54,840]\u001b[0m Trial 34 finished with value: 0.7251417697341881 and parameters: {'x': -2.74501531414102, 'y': 3.004744729792382}. Best is trial 34 with value: 0.7251417697341881.\u001b[0m\n",
            "\u001b[32m[I 2022-11-13 17:24:54,853]\u001b[0m Trial 35 finished with value: 93.945386677649 and parameters: {'x': -2.534602086662181, 'y': 0.78393643963296}. Best is trial 34 with value: 0.7251417697341881.\u001b[0m\n",
            "\u001b[32m[I 2022-11-13 17:24:54,869]\u001b[0m Trial 36 finished with value: 0.8068483500822091 and parameters: {'x': -2.901117007417577, 'y': 3.019206367104231}. Best is trial 34 with value: 0.7251417697341881.\u001b[0m\n",
            "\u001b[32m[I 2022-11-13 17:24:54,882]\u001b[0m Trial 37 finished with value: 322.7587876057213 and parameters: {'x': -4.987968226002853, 'y': 1.7881307294702542}. Best is trial 34 with value: 0.7251417697341881.\u001b[0m\n",
            "\u001b[32m[I 2022-11-13 17:24:54,894]\u001b[0m Trial 38 finished with value: 101.63716547570435 and parameters: {'x': -2.93044797614231, 'y': 0.2782401126117082}. Best is trial 34 with value: 0.7251417697341881.\u001b[0m\n",
            "\u001b[32m[I 2022-11-13 17:24:54,905]\u001b[0m Trial 39 finished with value: 124.24182862711828 and parameters: {'x': -4.338381572695452, 'y': 2.8488367457138057}. Best is trial 34 with value: 0.7251417697341881.\u001b[0m\n",
            "\u001b[32m[I 2022-11-13 17:24:54,917]\u001b[0m Trial 40 finished with value: 188.81224864245792 and parameters: {'x': -0.0765905826257205, 'y': 4.372259104863398}. Best is trial 34 with value: 0.7251417697341881.\u001b[0m\n",
            "\u001b[32m[I 2022-11-13 17:24:54,931]\u001b[0m Trial 41 finished with value: 8.330713915292563 and parameters: {'x': -2.2586615525699445, 'y': 3.0165410193553743}. Best is trial 34 with value: 0.7251417697341881.\u001b[0m\n",
            "\u001b[32m[I 2022-11-13 17:24:54,948]\u001b[0m Trial 42 finished with value: 8.811719082140637 and parameters: {'x': -2.31904707718518, 'y': 2.8662837938006236}. Best is trial 34 with value: 0.7251417697341881.\u001b[0m\n",
            "\u001b[32m[I 2022-11-13 17:24:54,964]\u001b[0m Trial 43 finished with value: 31.008754695144937 and parameters: {'x': -1.5608559340513366, 'y': 3.0293998333640033}. Best is trial 34 with value: 0.7251417697341881.\u001b[0m\n",
            "\u001b[32m[I 2022-11-13 17:24:54,982]\u001b[0m Trial 44 finished with value: 28.952457459764183 and parameters: {'x': -2.4591020744646963, 'y': 3.8370423376319036}. Best is trial 34 with value: 0.7251417697341881.\u001b[0m\n",
            "\u001b[32m[I 2022-11-13 17:24:54,996]\u001b[0m Trial 45 finished with value: 33.21456893168921 and parameters: {'x': -3.1499162697632475, 'y': 2.1168627078660016}. Best is trial 34 with value: 0.7251417697341881.\u001b[0m\n",
            "\u001b[32m[I 2022-11-13 17:24:55,008]\u001b[0m Trial 46 finished with value: 144.7741078021029 and parameters: {'x': -4.206495927366966, 'y': 1.5685697241018244}. Best is trial 34 with value: 0.7251417697341881.\u001b[0m\n",
            "\u001b[32m[I 2022-11-13 17:24:55,021]\u001b[0m Trial 47 finished with value: 3.764690327616044 and parameters: {'x': -2.9604802674908455, 'y': 2.8495451253920754}. Best is trial 34 with value: 0.7251417697341881.\u001b[0m\n",
            "\u001b[32m[I 2022-11-13 17:24:55,034]\u001b[0m Trial 48 finished with value: 74.05968869344767 and parameters: {'x': -2.927084119096845, 'y': -1.50888894605393}. Best is trial 34 with value: 0.7251417697341881.\u001b[0m\n",
            "\u001b[32m[I 2022-11-13 17:24:55,047]\u001b[0m Trial 49 finished with value: 204.52067508538096 and parameters: {'x': -4.692438459462772, 'y': -4.964754787987947}. Best is trial 34 with value: 0.7251417697341881.\u001b[0m\n",
            "\u001b[32m[I 2022-11-13 17:24:55,061]\u001b[0m Trial 50 finished with value: 134.41110444481205 and parameters: {'x': -3.350022311325844, 'y': 4.572262663521864}. Best is trial 34 with value: 0.7251417697341881.\u001b[0m\n",
            "\u001b[32m[I 2022-11-13 17:24:55,074]\u001b[0m Trial 51 finished with value: 10.778573431283693 and parameters: {'x': -2.339197716758055, 'y': 2.753849897634103}. Best is trial 34 with value: 0.7251417697341881.\u001b[0m\n",
            "\u001b[32m[I 2022-11-13 17:24:55,088]\u001b[0m Trial 52 finished with value: 16.605168479667558 and parameters: {'x': -2.8540533464361837, 'y': 2.409048869266247}. Best is trial 34 with value: 0.7251417697341881.\u001b[0m\n",
            "\u001b[32m[I 2022-11-13 17:24:55,103]\u001b[0m Trial 53 finished with value: 13.389758753148158 and parameters: {'x': -2.069461163272143, 'y': 3.087801447581969}. Best is trial 34 with value: 0.7251417697341881.\u001b[0m\n",
            "\u001b[32m[I 2022-11-13 17:24:55,117]\u001b[0m Trial 54 finished with value: 114.46916037837329 and parameters: {'x': -1.4173194057518979, 'y': 1.0946767952953007}. Best is trial 34 with value: 0.7251417697341881.\u001b[0m\n",
            "\u001b[32m[I 2022-11-13 17:24:55,131]\u001b[0m Trial 55 finished with value: 94.18644376722827 and parameters: {'x': -3.981707190403153, 'y': 3.8961008116896045}. Best is trial 34 with value: 0.7251417697341881.\u001b[0m\n",
            "\u001b[32m[I 2022-11-13 17:24:55,143]\u001b[0m Trial 56 finished with value: 29.13967831877874 and parameters: {'x': -3.1868684899307844, 'y': 2.2292489885657516}. Best is trial 34 with value: 0.7251417697341881.\u001b[0m\n",
            "\u001b[32m[I 2022-11-13 17:24:55,163]\u001b[0m Trial 57 finished with value: 6.750073098900677 and parameters: {'x': 2.7922719391881543, 'y': 2.5949187503771554}. Best is trial 34 with value: 0.7251417697341881.\u001b[0m\n",
            "\u001b[32m[I 2022-11-13 17:24:55,178]\u001b[0m Trial 58 finished with value: 255.45047542961575 and parameters: {'x': 4.407455284712272, 'y': 3.6191681779999065}. Best is trial 34 with value: 0.7251417697341881.\u001b[0m\n",
            "\u001b[32m[I 2022-11-13 17:24:55,190]\u001b[0m Trial 59 finished with value: 42.1826928455647 and parameters: {'x': 1.4195008465668604, 'y': 2.63671833336671}. Best is trial 34 with value: 0.7251417697341881.\u001b[0m\n",
            "\u001b[32m[I 2022-11-13 17:24:55,201]\u001b[0m Trial 60 finished with value: 126.53766069725125 and parameters: {'x': 3.1614532031630156, 'y': -3.7462873061154083}. Best is trial 34 with value: 0.7251417697341881.\u001b[0m\n",
            "\u001b[32m[I 2022-11-13 17:24:55,215]\u001b[0m Trial 61 finished with value: 148.42395090953755 and parameters: {'x': 4.203160608432894, 'y': 3.1616671718660876}. Best is trial 34 with value: 0.7251417697341881.\u001b[0m\n",
            "\u001b[32m[I 2022-11-13 17:24:55,230]\u001b[0m Trial 62 finished with value: 7.914480804719148 and parameters: {'x': -2.723564450492179, 'y': 3.5406958400783584}. Best is trial 34 with value: 0.7251417697341881.\u001b[0m\n",
            "\u001b[32m[I 2022-11-13 17:24:55,244]\u001b[0m Trial 63 finished with value: 9.316059981289328 and parameters: {'x': -2.7133684026792526, 'y': 3.572800291892542}. Best is trial 34 with value: 0.7251417697341881.\u001b[0m\n",
            "\u001b[32m[I 2022-11-13 17:24:55,256]\u001b[0m Trial 64 finished with value: 179.3064259792508 and parameters: {'x': 3.3280740047052433, 'y': 4.050999180142958}. Best is trial 34 with value: 0.7251417697341881.\u001b[0m\n",
            "\u001b[32m[I 2022-11-13 17:24:55,272]\u001b[0m Trial 65 finished with value: 106.23631650965184 and parameters: {'x': -3.3156462364828068, 'y': 4.430038377722459}. Best is trial 34 with value: 0.7251417697341881.\u001b[0m\n",
            "\u001b[32m[I 2022-11-13 17:24:55,284]\u001b[0m Trial 66 finished with value: 344.25646746463997 and parameters: {'x': 0.8892332645115371, 'y': 4.887255070368486}. Best is trial 34 with value: 0.7251417697341881.\u001b[0m\n",
            "\u001b[32m[I 2022-11-13 17:24:55,298]\u001b[0m Trial 67 finished with value: 60.94886049861277 and parameters: {'x': -0.98696191667129, 'y': 2.4611625296315536}. Best is trial 34 with value: 0.7251417697341881.\u001b[0m\n",
            "\u001b[32m[I 2022-11-13 17:24:55,314]\u001b[0m Trial 68 finished with value: 22.099851375554376 and parameters: {'x': -1.8404549994888055, 'y': 3.25721770864525}. Best is trial 34 with value: 0.7251417697341881.\u001b[0m\n",
            "\u001b[32m[I 2022-11-13 17:24:55,331]\u001b[0m Trial 69 finished with value: 10.755766072630204 and parameters: {'x': 2.50443907211784, 'y': 1.7603979013993025}. Best is trial 34 with value: 0.7251417697341881.\u001b[0m\n",
            "\u001b[32m[I 2022-11-13 17:24:55,349]\u001b[0m Trial 70 finished with value: 19.783158312127014 and parameters: {'x': -3.3630432114015356, 'y': 2.6546972173848973}. Best is trial 34 with value: 0.7251417697341881.\u001b[0m\n",
            "\u001b[32m[I 2022-11-13 17:24:55,362]\u001b[0m Trial 71 finished with value: 8.804699767025587 and parameters: {'x': -2.2623853691796554, 'y': 2.958469952143152}. Best is trial 34 with value: 0.7251417697341881.\u001b[0m\n",
            "\u001b[32m[I 2022-11-13 17:24:55,374]\u001b[0m Trial 72 finished with value: 29.780651332043963 and parameters: {'x': -2.6652688205375954, 'y': 2.1223769897669738}. Best is trial 34 with value: 0.7251417697341881.\u001b[0m\n",
            "\u001b[32m[I 2022-11-13 17:24:55,387]\u001b[0m Trial 73 finished with value: 27.283254320790007 and parameters: {'x': -1.9828001269358984, 'y': 3.5886113083675966}. Best is trial 34 with value: 0.7251417697341881.\u001b[0m\n",
            "\u001b[32m[I 2022-11-13 17:24:55,403]\u001b[0m Trial 74 finished with value: 43.534295597136776 and parameters: {'x': -3.770190715634186, 'y': 3.3621053491470123}. Best is trial 34 with value: 0.7251417697341881.\u001b[0m\n",
            "\u001b[32m[I 2022-11-13 17:24:55,415]\u001b[0m Trial 75 finished with value: 8.402301448966353 and parameters: {'x': -2.2620803657943713, 'y': 2.9975588623073017}. Best is trial 34 with value: 0.7251417697341881.\u001b[0m\n",
            "\u001b[32m[I 2022-11-13 17:24:55,429]\u001b[0m Trial 76 finished with value: 23.092733191401937 and parameters: {'x': -2.9926837562670396, 'y': 3.8032248390684478}. Best is trial 34 with value: 0.7251417697341881.\u001b[0m\n",
            "\u001b[32m[I 2022-11-13 17:24:55,444]\u001b[0m Trial 77 finished with value: 32.61366908460753 and parameters: {'x': -3.5061238437256765, 'y': 2.4967756338949822}. Best is trial 34 with value: 0.7251417697341881.\u001b[0m\n",
            "\u001b[32m[I 2022-11-13 17:24:55,458]\u001b[0m Trial 78 finished with value: 106.40996944470456 and parameters: {'x': -1.1980630242009145, 'y': 4.1180664404630445}. Best is trial 34 with value: 0.7251417697341881.\u001b[0m\n",
            "\u001b[32m[I 2022-11-13 17:24:55,471]\u001b[0m Trial 79 finished with value: 25.772660067338922 and parameters: {'x': -1.7331254963999105, 'y': 3.242753662332374}. Best is trial 34 with value: 0.7251417697341881.\u001b[0m\n",
            "\u001b[32m[I 2022-11-13 17:24:55,486]\u001b[0m Trial 80 finished with value: 112.33023384371697 and parameters: {'x': 0.3005048499625671, 'y': 1.4124411585856484}. Best is trial 34 with value: 0.7251417697341881.\u001b[0m\n",
            "\u001b[32m[I 2022-11-13 17:24:55,500]\u001b[0m Trial 81 finished with value: 10.49818704673413 and parameters: {'x': -2.1931626292347266, 'y': 2.970834041214114}. Best is trial 34 with value: 0.7251417697341881.\u001b[0m\n",
            "\u001b[32m[I 2022-11-13 17:24:55,512]\u001b[0m Trial 82 finished with value: 8.25609913929609 and parameters: {'x': -2.3551191486959056, 'y': 2.8521370104157406}. Best is trial 34 with value: 0.7251417697341881.\u001b[0m\n",
            "\u001b[32m[I 2022-11-13 17:24:55,528]\u001b[0m Trial 83 finished with value: 86.098108961521 and parameters: {'x': -0.7499174015102612, 'y': 1.9820856326061334}. Best is trial 34 with value: 0.7251417697341881.\u001b[0m\n",
            "\u001b[32m[I 2022-11-13 17:24:55,543]\u001b[0m Trial 84 finished with value: 10.664169227437952 and parameters: {'x': -2.6033932230325254, 'y': 2.601608143833573}. Best is trial 34 with value: 0.7251417697341881.\u001b[0m\n",
            "\u001b[32m[I 2022-11-13 17:24:55,567]\u001b[0m Trial 85 finished with value: 8.077601385398632 and parameters: {'x': -2.808922028778331, 'y': 3.551964679508201}. Best is trial 34 with value: 0.7251417697341881.\u001b[0m\n",
            "\u001b[32m[I 2022-11-13 17:24:55,581]\u001b[0m Trial 86 finished with value: 5.4026042715223035 and parameters: {'x': -2.750888895406185, 'y': 3.4748891546539684}. Best is trial 34 with value: 0.7251417697341881.\u001b[0m\n",
            "\u001b[32m[I 2022-11-13 17:24:55,594]\u001b[0m Trial 87 finished with value: 67.07020785720177 and parameters: {'x': -2.785503738660391, 'y': 4.232598189433595}. Best is trial 34 with value: 0.7251417697341881.\u001b[0m\n",
            "\u001b[32m[I 2022-11-13 17:24:55,608]\u001b[0m Trial 88 finished with value: 75.2955072569751 and parameters: {'x': -4.018020119377602, 'y': 3.4712657582580566}. Best is trial 34 with value: 0.7251417697341881.\u001b[0m\n",
            "\u001b[32m[I 2022-11-13 17:24:55,622]\u001b[0m Trial 89 finished with value: 163.19552269473198 and parameters: {'x': -3.5503435951269156, 'y': 4.65674569616489}. Best is trial 34 with value: 0.7251417697341881.\u001b[0m\n",
            "\u001b[32m[I 2022-11-13 17:24:55,635]\u001b[0m Trial 90 finished with value: 25.298321892240555 and parameters: {'x': -3.103431123522113, 'y': 3.8081502140817083}. Best is trial 34 with value: 0.7251417697341881.\u001b[0m\n",
            "\u001b[32m[I 2022-11-13 17:24:55,654]\u001b[0m Trial 91 finished with value: 5.298112282496043 and parameters: {'x': -2.5740682708407054, 'y': 2.808370913078153}. Best is trial 34 with value: 0.7251417697341881.\u001b[0m\n",
            "\u001b[32m[I 2022-11-13 17:24:55,669]\u001b[0m Trial 92 finished with value: 23.742864929657927 and parameters: {'x': -2.558073714734174, 'y': 2.2799998331203195}. Best is trial 34 with value: 0.7251417697341881.\u001b[0m\n",
            "\u001b[32m[I 2022-11-13 17:24:55,683]\u001b[0m Trial 93 finished with value: 5.123801303335893 and parameters: {'x': -2.74037082458563, 'y': 2.7566300168131073}. Best is trial 34 with value: 0.7251417697341881.\u001b[0m\n",
            "\u001b[32m[I 2022-11-13 17:24:55,697]\u001b[0m Trial 94 finished with value: 196.2427971477875 and parameters: {'x': -4.659599349888552, 'y': 3.257548275655047}. Best is trial 34 with value: 0.7251417697341881.\u001b[0m\n",
            "\u001b[32m[I 2022-11-13 17:24:55,713]\u001b[0m Trial 95 finished with value: 13.958158038551671 and parameters: {'x': -2.901855894474993, 'y': 3.6708165441569687}. Best is trial 34 with value: 0.7251417697341881.\u001b[0m\n",
            "\u001b[32m[I 2022-11-13 17:24:55,725]\u001b[0m Trial 96 finished with value: 32.97433797920567 and parameters: {'x': -1.6108005614624838, 'y': 2.7547241914165004}. Best is trial 34 with value: 0.7251417697341881.\u001b[0m\n",
            "\u001b[32m[I 2022-11-13 17:24:55,740]\u001b[0m Trial 97 finished with value: 37.293521657536324 and parameters: {'x': -3.121877991035455, 'y': 3.9498611501782563}. Best is trial 34 with value: 0.7251417697341881.\u001b[0m\n",
            "\u001b[32m[I 2022-11-13 17:24:55,754]\u001b[0m Trial 98 finished with value: 124.68132994215165 and parameters: {'x': -3.7581873054868815, 'y': -0.09870221590645833}. Best is trial 34 with value: 0.7251417697341881.\u001b[0m\n",
            "\u001b[32m[I 2022-11-13 17:24:55,769]\u001b[0m Trial 99 finished with value: 17.142914707164 and parameters: {'x': -1.9618619742996577, 'y': 3.1870771734939094}. Best is trial 34 with value: 0.7251417697341881.\u001b[0m\n"
          ]
        }
      ]
    },
    {
      "cell_type": "markdown",
      "source": [
        "Выводим результат"
      ],
      "metadata": {
        "id": "kkJ28ZYxCRSY"
      }
    },
    {
      "cell_type": "code",
      "source": [
        "best_params_GP = study_GP.best_params\n",
        "found_x = best_params_GP[\"x\"]\n",
        "found_y = best_params_GP[\"y\"]\n",
        "print(\"Функция Гольдшейна-Прайса:\")\n",
        "print(f\"x: {found_x}, y: {found_y}, E: {GP_E(found_x, found_y)}\")\n",
        "best_params_H = study_H.best_params\n",
        "found_x = best_params_H[\"x\"]\n",
        "found_y = best_params_H[\"y\"]\n",
        "print(\"Функция Химмельблау:\")\n",
        "print(f\"x: {found_x}, y: {found_y}, E: {H_E(found_x, found_y)}\")"
      ],
      "metadata": {
        "colab": {
          "base_uri": "https://localhost:8080/"
        },
        "id": "6xxUwnX2ALHx",
        "outputId": "8076e819-69de-455c-d92b-3987870588aa"
      },
      "execution_count": 20,
      "outputs": [
        {
          "output_type": "stream",
          "name": "stdout",
          "text": [
            "Функция Гольдшейна-Прайса:\n",
            "x: -0.016585135340439733, y: -0.956219127535605, E: 3.9894198326836223\n",
            "Функция Химмельблау:\n",
            "x: -2.74501531414102, y: 3.004744729792382, E: 0.7251417697341881\n"
          ]
        }
      ]
    },
    {
      "cell_type": "markdown",
      "source": [
        "##Часть 2\n",
        "Проведем оптимизацию градиентного спуска на датасете Diabetes"
      ],
      "metadata": {
        "id": "_EOewlRkDXRX"
      }
    },
    {
      "cell_type": "code",
      "source": [
        "def objective(trial):\n",
        "    BC = sklearn.datasets.load_diabetes()\n",
        "    classes = list(set(BC.target))\n",
        "    train_x, valid_x, train_y, valid_y = sklearn.model_selection.train_test_split(\n",
        "        BC.data, BC.target, test_size=0.25, random_state=0)\n",
        "    alpha = trial.suggest_float(\"alpha\", 1e-5, 1e-1, log=True)\n",
        "    clf = sklearn.linear_model.SGDClassifier(alpha=alpha)\n",
        "    for step in range(100):\n",
        "        clf.partial_fit(train_x, train_y, classes=classes)\n",
        "        intermediate_value = 1.0 - clf.score(valid_x, valid_y)\n",
        "        trial.report(intermediate_value, step)\n",
        "        if trial.should_prune():\n",
        "            raise optuna.TrialPruned()\n",
        "    return 1.0 - clf.score(valid_x, valid_y)"
      ],
      "metadata": {
        "id": "pzzr01kdDeT2"
      },
      "execution_count": 44,
      "outputs": []
    },
    {
      "cell_type": "code",
      "source": [
        "optuna.logging.get_logger(\"optuna\").addHandler(logging.StreamHandler(sys.stdout))\n",
        "study = optuna.create_study(pruner=optuna.pruners.MedianPruner())\n",
        "study.optimize(objective, n_trials=20)"
      ],
      "metadata": {
        "colab": {
          "base_uri": "https://localhost:8080/"
        },
        "id": "e1MSA40MFPVr",
        "outputId": "3bbb45bf-d5fc-4250-ecd5-05704b1d1ce5"
      },
      "execution_count": 45,
      "outputs": [
        {
          "output_type": "stream",
          "name": "stderr",
          "text": [
            "\u001b[32m[I 2022-11-13 18:07:13,844]\u001b[0m A new study created in memory with name: no-name-3ae68bbf-8d38-4f38-91ae-df88fad04afc\u001b[0m\n"
          ]
        },
        {
          "output_type": "stream",
          "name": "stdout",
          "text": [
            "A new study created in memory with name: no-name-3ae68bbf-8d38-4f38-91ae-df88fad04afc\n",
            "A new study created in memory with name: no-name-3ae68bbf-8d38-4f38-91ae-df88fad04afc\n",
            "A new study created in memory with name: no-name-3ae68bbf-8d38-4f38-91ae-df88fad04afc\n",
            "A new study created in memory with name: no-name-3ae68bbf-8d38-4f38-91ae-df88fad04afc\n"
          ]
        },
        {
          "output_type": "stream",
          "name": "stderr",
          "text": [
            "\u001b[32m[I 2022-11-13 18:07:22,159]\u001b[0m Trial 0 finished with value: 1.0 and parameters: {'alpha': 0.00017496238466290127}. Best is trial 0 with value: 1.0.\u001b[0m\n"
          ]
        },
        {
          "output_type": "stream",
          "name": "stdout",
          "text": [
            "Trial 0 finished with value: 1.0 and parameters: {'alpha': 0.00017496238466290127}. Best is trial 0 with value: 1.0.\n",
            "Trial 0 finished with value: 1.0 and parameters: {'alpha': 0.00017496238466290127}. Best is trial 0 with value: 1.0.\n",
            "Trial 0 finished with value: 1.0 and parameters: {'alpha': 0.00017496238466290127}. Best is trial 0 with value: 1.0.\n",
            "Trial 0 finished with value: 1.0 and parameters: {'alpha': 0.00017496238466290127}. Best is trial 0 with value: 1.0.\n"
          ]
        },
        {
          "output_type": "stream",
          "name": "stderr",
          "text": [
            "\u001b[32m[I 2022-11-13 18:07:30,369]\u001b[0m Trial 1 finished with value: 1.0 and parameters: {'alpha': 0.0016142203351917478}. Best is trial 0 with value: 1.0.\u001b[0m\n"
          ]
        },
        {
          "output_type": "stream",
          "name": "stdout",
          "text": [
            "Trial 1 finished with value: 1.0 and parameters: {'alpha': 0.0016142203351917478}. Best is trial 0 with value: 1.0.\n",
            "Trial 1 finished with value: 1.0 and parameters: {'alpha': 0.0016142203351917478}. Best is trial 0 with value: 1.0.\n",
            "Trial 1 finished with value: 1.0 and parameters: {'alpha': 0.0016142203351917478}. Best is trial 0 with value: 1.0.\n",
            "Trial 1 finished with value: 1.0 and parameters: {'alpha': 0.0016142203351917478}. Best is trial 0 with value: 1.0.\n"
          ]
        },
        {
          "output_type": "stream",
          "name": "stderr",
          "text": [
            "\u001b[32m[I 2022-11-13 18:07:38,615]\u001b[0m Trial 2 finished with value: 0.990990990990991 and parameters: {'alpha': 1.4483832834261326e-05}. Best is trial 2 with value: 0.990990990990991.\u001b[0m\n"
          ]
        },
        {
          "output_type": "stream",
          "name": "stdout",
          "text": [
            "Trial 2 finished with value: 0.990990990990991 and parameters: {'alpha': 1.4483832834261326e-05}. Best is trial 2 with value: 0.990990990990991.\n",
            "Trial 2 finished with value: 0.990990990990991 and parameters: {'alpha': 1.4483832834261326e-05}. Best is trial 2 with value: 0.990990990990991.\n",
            "Trial 2 finished with value: 0.990990990990991 and parameters: {'alpha': 1.4483832834261326e-05}. Best is trial 2 with value: 0.990990990990991.\n",
            "Trial 2 finished with value: 0.990990990990991 and parameters: {'alpha': 1.4483832834261326e-05}. Best is trial 2 with value: 0.990990990990991.\n"
          ]
        },
        {
          "output_type": "stream",
          "name": "stderr",
          "text": [
            "\u001b[32m[I 2022-11-13 18:07:46,817]\u001b[0m Trial 3 finished with value: 0.990990990990991 and parameters: {'alpha': 0.03955128688733634}. Best is trial 2 with value: 0.990990990990991.\u001b[0m\n"
          ]
        },
        {
          "output_type": "stream",
          "name": "stdout",
          "text": [
            "Trial 3 finished with value: 0.990990990990991 and parameters: {'alpha': 0.03955128688733634}. Best is trial 2 with value: 0.990990990990991.\n",
            "Trial 3 finished with value: 0.990990990990991 and parameters: {'alpha': 0.03955128688733634}. Best is trial 2 with value: 0.990990990990991.\n",
            "Trial 3 finished with value: 0.990990990990991 and parameters: {'alpha': 0.03955128688733634}. Best is trial 2 with value: 0.990990990990991.\n",
            "Trial 3 finished with value: 0.990990990990991 and parameters: {'alpha': 0.03955128688733634}. Best is trial 2 with value: 0.990990990990991.\n"
          ]
        },
        {
          "output_type": "stream",
          "name": "stderr",
          "text": [
            "\u001b[32m[I 2022-11-13 18:07:55,934]\u001b[0m Trial 4 finished with value: 0.990990990990991 and parameters: {'alpha': 2.3484371132479736e-05}. Best is trial 2 with value: 0.990990990990991.\u001b[0m\n"
          ]
        },
        {
          "output_type": "stream",
          "name": "stdout",
          "text": [
            "Trial 4 finished with value: 0.990990990990991 and parameters: {'alpha': 2.3484371132479736e-05}. Best is trial 2 with value: 0.990990990990991.\n",
            "Trial 4 finished with value: 0.990990990990991 and parameters: {'alpha': 2.3484371132479736e-05}. Best is trial 2 with value: 0.990990990990991.\n",
            "Trial 4 finished with value: 0.990990990990991 and parameters: {'alpha': 2.3484371132479736e-05}. Best is trial 2 with value: 0.990990990990991.\n",
            "Trial 4 finished with value: 0.990990990990991 and parameters: {'alpha': 2.3484371132479736e-05}. Best is trial 2 with value: 0.990990990990991.\n"
          ]
        },
        {
          "output_type": "stream",
          "name": "stderr",
          "text": [
            "\u001b[32m[I 2022-11-13 18:07:57,437]\u001b[0m Trial 5 pruned. \u001b[0m\n"
          ]
        },
        {
          "output_type": "stream",
          "name": "stdout",
          "text": [
            "Trial 5 pruned. \n",
            "Trial 5 pruned. \n",
            "Trial 5 pruned. \n",
            "Trial 5 pruned. \n"
          ]
        },
        {
          "output_type": "stream",
          "name": "stderr",
          "text": [
            "\u001b[32m[I 2022-11-13 18:07:57,634]\u001b[0m Trial 6 pruned. \u001b[0m\n"
          ]
        },
        {
          "output_type": "stream",
          "name": "stdout",
          "text": [
            "Trial 6 pruned. \n",
            "Trial 6 pruned. \n",
            "Trial 6 pruned. \n",
            "Trial 6 pruned. \n"
          ]
        },
        {
          "output_type": "stream",
          "name": "stderr",
          "text": [
            "\u001b[32m[I 2022-11-13 18:07:59,147]\u001b[0m Trial 7 pruned. \u001b[0m\n"
          ]
        },
        {
          "output_type": "stream",
          "name": "stdout",
          "text": [
            "Trial 7 pruned. \n",
            "Trial 7 pruned. \n",
            "Trial 7 pruned. \n",
            "Trial 7 pruned. \n"
          ]
        },
        {
          "output_type": "stream",
          "name": "stderr",
          "text": [
            "\u001b[32m[I 2022-11-13 18:08:07,393]\u001b[0m Trial 8 finished with value: 1.0 and parameters: {'alpha': 0.0001706053184721144}. Best is trial 2 with value: 0.990990990990991.\u001b[0m\n"
          ]
        },
        {
          "output_type": "stream",
          "name": "stdout",
          "text": [
            "Trial 8 finished with value: 1.0 and parameters: {'alpha': 0.0001706053184721144}. Best is trial 2 with value: 0.990990990990991.\n",
            "Trial 8 finished with value: 1.0 and parameters: {'alpha': 0.0001706053184721144}. Best is trial 2 with value: 0.990990990990991.\n",
            "Trial 8 finished with value: 1.0 and parameters: {'alpha': 0.0001706053184721144}. Best is trial 2 with value: 0.990990990990991.\n",
            "Trial 8 finished with value: 1.0 and parameters: {'alpha': 0.0001706053184721144}. Best is trial 2 with value: 0.990990990990991.\n"
          ]
        },
        {
          "output_type": "stream",
          "name": "stderr",
          "text": [
            "\u001b[32m[I 2022-11-13 18:08:08,896]\u001b[0m Trial 9 pruned. \u001b[0m\n"
          ]
        },
        {
          "output_type": "stream",
          "name": "stdout",
          "text": [
            "Trial 9 pruned. \n",
            "Trial 9 pruned. \n",
            "Trial 9 pruned. \n",
            "Trial 9 pruned. \n"
          ]
        },
        {
          "output_type": "stream",
          "name": "stderr",
          "text": [
            "\u001b[32m[I 2022-11-13 18:08:09,097]\u001b[0m Trial 10 pruned. \u001b[0m\n"
          ]
        },
        {
          "output_type": "stream",
          "name": "stdout",
          "text": [
            "Trial 10 pruned. \n",
            "Trial 10 pruned. \n",
            "Trial 10 pruned. \n",
            "Trial 10 pruned. \n"
          ]
        },
        {
          "output_type": "stream",
          "name": "stderr",
          "text": [
            "\u001b[32m[I 2022-11-13 18:08:09,292]\u001b[0m Trial 11 pruned. \u001b[0m\n"
          ]
        },
        {
          "output_type": "stream",
          "name": "stdout",
          "text": [
            "Trial 11 pruned. \n",
            "Trial 11 pruned. \n",
            "Trial 11 pruned. \n",
            "Trial 11 pruned. \n"
          ]
        },
        {
          "output_type": "stream",
          "name": "stderr",
          "text": [
            "\u001b[32m[I 2022-11-13 18:08:10,795]\u001b[0m Trial 12 pruned. \u001b[0m\n"
          ]
        },
        {
          "output_type": "stream",
          "name": "stdout",
          "text": [
            "Trial 12 pruned. \n",
            "Trial 12 pruned. \n",
            "Trial 12 pruned. \n",
            "Trial 12 pruned. \n"
          ]
        },
        {
          "output_type": "stream",
          "name": "stderr",
          "text": [
            "\u001b[32m[I 2022-11-13 18:08:12,305]\u001b[0m Trial 13 pruned. \u001b[0m\n"
          ]
        },
        {
          "output_type": "stream",
          "name": "stdout",
          "text": [
            "Trial 13 pruned. \n",
            "Trial 13 pruned. \n",
            "Trial 13 pruned. \n",
            "Trial 13 pruned. \n"
          ]
        },
        {
          "output_type": "stream",
          "name": "stderr",
          "text": [
            "\u001b[32m[I 2022-11-13 18:08:20,552]\u001b[0m Trial 14 finished with value: 0.990990990990991 and parameters: {'alpha': 0.021434493469228568}. Best is trial 2 with value: 0.990990990990991.\u001b[0m\n"
          ]
        },
        {
          "output_type": "stream",
          "name": "stdout",
          "text": [
            "Trial 14 finished with value: 0.990990990990991 and parameters: {'alpha': 0.021434493469228568}. Best is trial 2 with value: 0.990990990990991.\n",
            "Trial 14 finished with value: 0.990990990990991 and parameters: {'alpha': 0.021434493469228568}. Best is trial 2 with value: 0.990990990990991.\n",
            "Trial 14 finished with value: 0.990990990990991 and parameters: {'alpha': 0.021434493469228568}. Best is trial 2 with value: 0.990990990990991.\n",
            "Trial 14 finished with value: 0.990990990990991 and parameters: {'alpha': 0.021434493469228568}. Best is trial 2 with value: 0.990990990990991.\n"
          ]
        },
        {
          "output_type": "stream",
          "name": "stderr",
          "text": [
            "\u001b[32m[I 2022-11-13 18:08:28,794]\u001b[0m Trial 15 finished with value: 1.0 and parameters: {'alpha': 0.0013700512931635281}. Best is trial 2 with value: 0.990990990990991.\u001b[0m\n"
          ]
        },
        {
          "output_type": "stream",
          "name": "stdout",
          "text": [
            "Trial 15 finished with value: 1.0 and parameters: {'alpha': 0.0013700512931635281}. Best is trial 2 with value: 0.990990990990991.\n",
            "Trial 15 finished with value: 1.0 and parameters: {'alpha': 0.0013700512931635281}. Best is trial 2 with value: 0.990990990990991.\n",
            "Trial 15 finished with value: 1.0 and parameters: {'alpha': 0.0013700512931635281}. Best is trial 2 with value: 0.990990990990991.\n",
            "Trial 15 finished with value: 1.0 and parameters: {'alpha': 0.0013700512931635281}. Best is trial 2 with value: 0.990990990990991.\n"
          ]
        },
        {
          "output_type": "stream",
          "name": "stderr",
          "text": [
            "\u001b[32m[I 2022-11-13 18:08:28,989]\u001b[0m Trial 16 pruned. \u001b[0m\n"
          ]
        },
        {
          "output_type": "stream",
          "name": "stdout",
          "text": [
            "Trial 16 pruned. \n",
            "Trial 16 pruned. \n",
            "Trial 16 pruned. \n",
            "Trial 16 pruned. \n"
          ]
        },
        {
          "output_type": "stream",
          "name": "stderr",
          "text": [
            "\u001b[32m[I 2022-11-13 18:08:37,214]\u001b[0m Trial 17 finished with value: 1.0 and parameters: {'alpha': 0.009919987407471208}. Best is trial 2 with value: 0.990990990990991.\u001b[0m\n"
          ]
        },
        {
          "output_type": "stream",
          "name": "stdout",
          "text": [
            "Trial 17 finished with value: 1.0 and parameters: {'alpha': 0.009919987407471208}. Best is trial 2 with value: 0.990990990990991.\n",
            "Trial 17 finished with value: 1.0 and parameters: {'alpha': 0.009919987407471208}. Best is trial 2 with value: 0.990990990990991.\n",
            "Trial 17 finished with value: 1.0 and parameters: {'alpha': 0.009919987407471208}. Best is trial 2 with value: 0.990990990990991.\n",
            "Trial 17 finished with value: 1.0 and parameters: {'alpha': 0.009919987407471208}. Best is trial 2 with value: 0.990990990990991.\n"
          ]
        },
        {
          "output_type": "stream",
          "name": "stderr",
          "text": [
            "\u001b[32m[I 2022-11-13 18:08:45,646]\u001b[0m Trial 18 finished with value: 1.0 and parameters: {'alpha': 0.00041391643021731144}. Best is trial 2 with value: 0.990990990990991.\u001b[0m\n"
          ]
        },
        {
          "output_type": "stream",
          "name": "stdout",
          "text": [
            "Trial 18 finished with value: 1.0 and parameters: {'alpha': 0.00041391643021731144}. Best is trial 2 with value: 0.990990990990991.\n",
            "Trial 18 finished with value: 1.0 and parameters: {'alpha': 0.00041391643021731144}. Best is trial 2 with value: 0.990990990990991.\n",
            "Trial 18 finished with value: 1.0 and parameters: {'alpha': 0.00041391643021731144}. Best is trial 2 with value: 0.990990990990991.\n",
            "Trial 18 finished with value: 1.0 and parameters: {'alpha': 0.00041391643021731144}. Best is trial 2 with value: 0.990990990990991.\n"
          ]
        },
        {
          "output_type": "stream",
          "name": "stderr",
          "text": [
            "\u001b[32m[I 2022-11-13 18:08:54,571]\u001b[0m Trial 19 finished with value: 1.0 and parameters: {'alpha': 0.003447198232149919}. Best is trial 2 with value: 0.990990990990991.\u001b[0m\n"
          ]
        },
        {
          "output_type": "stream",
          "name": "stdout",
          "text": [
            "Trial 19 finished with value: 1.0 and parameters: {'alpha': 0.003447198232149919}. Best is trial 2 with value: 0.990990990990991.\n",
            "Trial 19 finished with value: 1.0 and parameters: {'alpha': 0.003447198232149919}. Best is trial 2 with value: 0.990990990990991.\n",
            "Trial 19 finished with value: 1.0 and parameters: {'alpha': 0.003447198232149919}. Best is trial 2 with value: 0.990990990990991.\n",
            "Trial 19 finished with value: 1.0 and parameters: {'alpha': 0.003447198232149919}. Best is trial 2 with value: 0.990990990990991.\n"
          ]
        }
      ]
    },
    {
      "cell_type": "code",
      "source": [
        "plot_optimization_history(study)"
      ],
      "metadata": {
        "colab": {
          "base_uri": "https://localhost:8080/",
          "height": 542
        },
        "id": "wuWzO5EgFX9p",
        "outputId": "26c32ab5-d61e-4708-fdd2-7fc12af97884"
      },
      "execution_count": 46,
      "outputs": [
        {
          "output_type": "display_data",
          "data": {
            "text/html": [
              "<html>\n",
              "<head><meta charset=\"utf-8\" /></head>\n",
              "<body>\n",
              "    <div>            <script src=\"https://cdnjs.cloudflare.com/ajax/libs/mathjax/2.7.5/MathJax.js?config=TeX-AMS-MML_SVG\"></script><script type=\"text/javascript\">if (window.MathJax) {MathJax.Hub.Config({SVG: {font: \"STIX-Web\"}});}</script>                <script type=\"text/javascript\">window.PlotlyConfig = {MathJaxConfig: 'local'};</script>\n",
              "        <script src=\"https://cdn.plot.ly/plotly-2.8.3.min.js\"></script>                <div id=\"150e5d1c-ae40-47ff-bb59-6b48a3dd7cff\" class=\"plotly-graph-div\" style=\"height:525px; width:100%;\"></div>            <script type=\"text/javascript\">                                    window.PLOTLYENV=window.PLOTLYENV || {};                                    if (document.getElementById(\"150e5d1c-ae40-47ff-bb59-6b48a3dd7cff\")) {                    Plotly.newPlot(                        \"150e5d1c-ae40-47ff-bb59-6b48a3dd7cff\",                        [{\"mode\":\"markers\",\"name\":\"Objective Value\",\"x\":[0,1,2,3,4,8,14,15,17,18,19],\"y\":[1.0,1.0,0.990990990990991,0.990990990990991,0.990990990990991,1.0,0.990990990990991,1.0,1.0,1.0,1.0],\"type\":\"scatter\"},{\"name\":\"Best Value\",\"x\":[0,1,2,3,4,8,14,15,17,18,19],\"y\":[1.0,1.0,0.990990990990991,0.990990990990991,0.990990990990991,0.990990990990991,0.990990990990991,0.990990990990991,0.990990990990991,0.990990990990991,0.990990990990991],\"type\":\"scatter\"}],                        {\"title\":{\"text\":\"Optimization History Plot\"},\"xaxis\":{\"title\":{\"text\":\"Trial\"}},\"yaxis\":{\"title\":{\"text\":\"Objective Value\"}},\"template\":{\"data\":{\"bar\":[{\"error_x\":{\"color\":\"#2a3f5f\"},\"error_y\":{\"color\":\"#2a3f5f\"},\"marker\":{\"line\":{\"color\":\"#E5ECF6\",\"width\":0.5},\"pattern\":{\"fillmode\":\"overlay\",\"size\":10,\"solidity\":0.2}},\"type\":\"bar\"}],\"barpolar\":[{\"marker\":{\"line\":{\"color\":\"#E5ECF6\",\"width\":0.5},\"pattern\":{\"fillmode\":\"overlay\",\"size\":10,\"solidity\":0.2}},\"type\":\"barpolar\"}],\"carpet\":[{\"aaxis\":{\"endlinecolor\":\"#2a3f5f\",\"gridcolor\":\"white\",\"linecolor\":\"white\",\"minorgridcolor\":\"white\",\"startlinecolor\":\"#2a3f5f\"},\"baxis\":{\"endlinecolor\":\"#2a3f5f\",\"gridcolor\":\"white\",\"linecolor\":\"white\",\"minorgridcolor\":\"white\",\"startlinecolor\":\"#2a3f5f\"},\"type\":\"carpet\"}],\"choropleth\":[{\"colorbar\":{\"outlinewidth\":0,\"ticks\":\"\"},\"type\":\"choropleth\"}],\"contour\":[{\"colorbar\":{\"outlinewidth\":0,\"ticks\":\"\"},\"colorscale\":[[0.0,\"#0d0887\"],[0.1111111111111111,\"#46039f\"],[0.2222222222222222,\"#7201a8\"],[0.3333333333333333,\"#9c179e\"],[0.4444444444444444,\"#bd3786\"],[0.5555555555555556,\"#d8576b\"],[0.6666666666666666,\"#ed7953\"],[0.7777777777777778,\"#fb9f3a\"],[0.8888888888888888,\"#fdca26\"],[1.0,\"#f0f921\"]],\"type\":\"contour\"}],\"contourcarpet\":[{\"colorbar\":{\"outlinewidth\":0,\"ticks\":\"\"},\"type\":\"contourcarpet\"}],\"heatmap\":[{\"colorbar\":{\"outlinewidth\":0,\"ticks\":\"\"},\"colorscale\":[[0.0,\"#0d0887\"],[0.1111111111111111,\"#46039f\"],[0.2222222222222222,\"#7201a8\"],[0.3333333333333333,\"#9c179e\"],[0.4444444444444444,\"#bd3786\"],[0.5555555555555556,\"#d8576b\"],[0.6666666666666666,\"#ed7953\"],[0.7777777777777778,\"#fb9f3a\"],[0.8888888888888888,\"#fdca26\"],[1.0,\"#f0f921\"]],\"type\":\"heatmap\"}],\"heatmapgl\":[{\"colorbar\":{\"outlinewidth\":0,\"ticks\":\"\"},\"colorscale\":[[0.0,\"#0d0887\"],[0.1111111111111111,\"#46039f\"],[0.2222222222222222,\"#7201a8\"],[0.3333333333333333,\"#9c179e\"],[0.4444444444444444,\"#bd3786\"],[0.5555555555555556,\"#d8576b\"],[0.6666666666666666,\"#ed7953\"],[0.7777777777777778,\"#fb9f3a\"],[0.8888888888888888,\"#fdca26\"],[1.0,\"#f0f921\"]],\"type\":\"heatmapgl\"}],\"histogram\":[{\"marker\":{\"pattern\":{\"fillmode\":\"overlay\",\"size\":10,\"solidity\":0.2}},\"type\":\"histogram\"}],\"histogram2d\":[{\"colorbar\":{\"outlinewidth\":0,\"ticks\":\"\"},\"colorscale\":[[0.0,\"#0d0887\"],[0.1111111111111111,\"#46039f\"],[0.2222222222222222,\"#7201a8\"],[0.3333333333333333,\"#9c179e\"],[0.4444444444444444,\"#bd3786\"],[0.5555555555555556,\"#d8576b\"],[0.6666666666666666,\"#ed7953\"],[0.7777777777777778,\"#fb9f3a\"],[0.8888888888888888,\"#fdca26\"],[1.0,\"#f0f921\"]],\"type\":\"histogram2d\"}],\"histogram2dcontour\":[{\"colorbar\":{\"outlinewidth\":0,\"ticks\":\"\"},\"colorscale\":[[0.0,\"#0d0887\"],[0.1111111111111111,\"#46039f\"],[0.2222222222222222,\"#7201a8\"],[0.3333333333333333,\"#9c179e\"],[0.4444444444444444,\"#bd3786\"],[0.5555555555555556,\"#d8576b\"],[0.6666666666666666,\"#ed7953\"],[0.7777777777777778,\"#fb9f3a\"],[0.8888888888888888,\"#fdca26\"],[1.0,\"#f0f921\"]],\"type\":\"histogram2dcontour\"}],\"mesh3d\":[{\"colorbar\":{\"outlinewidth\":0,\"ticks\":\"\"},\"type\":\"mesh3d\"}],\"parcoords\":[{\"line\":{\"colorbar\":{\"outlinewidth\":0,\"ticks\":\"\"}},\"type\":\"parcoords\"}],\"pie\":[{\"automargin\":true,\"type\":\"pie\"}],\"scatter\":[{\"marker\":{\"colorbar\":{\"outlinewidth\":0,\"ticks\":\"\"}},\"type\":\"scatter\"}],\"scatter3d\":[{\"line\":{\"colorbar\":{\"outlinewidth\":0,\"ticks\":\"\"}},\"marker\":{\"colorbar\":{\"outlinewidth\":0,\"ticks\":\"\"}},\"type\":\"scatter3d\"}],\"scattercarpet\":[{\"marker\":{\"colorbar\":{\"outlinewidth\":0,\"ticks\":\"\"}},\"type\":\"scattercarpet\"}],\"scattergeo\":[{\"marker\":{\"colorbar\":{\"outlinewidth\":0,\"ticks\":\"\"}},\"type\":\"scattergeo\"}],\"scattergl\":[{\"marker\":{\"colorbar\":{\"outlinewidth\":0,\"ticks\":\"\"}},\"type\":\"scattergl\"}],\"scattermapbox\":[{\"marker\":{\"colorbar\":{\"outlinewidth\":0,\"ticks\":\"\"}},\"type\":\"scattermapbox\"}],\"scatterpolar\":[{\"marker\":{\"colorbar\":{\"outlinewidth\":0,\"ticks\":\"\"}},\"type\":\"scatterpolar\"}],\"scatterpolargl\":[{\"marker\":{\"colorbar\":{\"outlinewidth\":0,\"ticks\":\"\"}},\"type\":\"scatterpolargl\"}],\"scatterternary\":[{\"marker\":{\"colorbar\":{\"outlinewidth\":0,\"ticks\":\"\"}},\"type\":\"scatterternary\"}],\"surface\":[{\"colorbar\":{\"outlinewidth\":0,\"ticks\":\"\"},\"colorscale\":[[0.0,\"#0d0887\"],[0.1111111111111111,\"#46039f\"],[0.2222222222222222,\"#7201a8\"],[0.3333333333333333,\"#9c179e\"],[0.4444444444444444,\"#bd3786\"],[0.5555555555555556,\"#d8576b\"],[0.6666666666666666,\"#ed7953\"],[0.7777777777777778,\"#fb9f3a\"],[0.8888888888888888,\"#fdca26\"],[1.0,\"#f0f921\"]],\"type\":\"surface\"}],\"table\":[{\"cells\":{\"fill\":{\"color\":\"#EBF0F8\"},\"line\":{\"color\":\"white\"}},\"header\":{\"fill\":{\"color\":\"#C8D4E3\"},\"line\":{\"color\":\"white\"}},\"type\":\"table\"}]},\"layout\":{\"annotationdefaults\":{\"arrowcolor\":\"#2a3f5f\",\"arrowhead\":0,\"arrowwidth\":1},\"autotypenumbers\":\"strict\",\"coloraxis\":{\"colorbar\":{\"outlinewidth\":0,\"ticks\":\"\"}},\"colorscale\":{\"diverging\":[[0,\"#8e0152\"],[0.1,\"#c51b7d\"],[0.2,\"#de77ae\"],[0.3,\"#f1b6da\"],[0.4,\"#fde0ef\"],[0.5,\"#f7f7f7\"],[0.6,\"#e6f5d0\"],[0.7,\"#b8e186\"],[0.8,\"#7fbc41\"],[0.9,\"#4d9221\"],[1,\"#276419\"]],\"sequential\":[[0.0,\"#0d0887\"],[0.1111111111111111,\"#46039f\"],[0.2222222222222222,\"#7201a8\"],[0.3333333333333333,\"#9c179e\"],[0.4444444444444444,\"#bd3786\"],[0.5555555555555556,\"#d8576b\"],[0.6666666666666666,\"#ed7953\"],[0.7777777777777778,\"#fb9f3a\"],[0.8888888888888888,\"#fdca26\"],[1.0,\"#f0f921\"]],\"sequentialminus\":[[0.0,\"#0d0887\"],[0.1111111111111111,\"#46039f\"],[0.2222222222222222,\"#7201a8\"],[0.3333333333333333,\"#9c179e\"],[0.4444444444444444,\"#bd3786\"],[0.5555555555555556,\"#d8576b\"],[0.6666666666666666,\"#ed7953\"],[0.7777777777777778,\"#fb9f3a\"],[0.8888888888888888,\"#fdca26\"],[1.0,\"#f0f921\"]]},\"colorway\":[\"#636efa\",\"#EF553B\",\"#00cc96\",\"#ab63fa\",\"#FFA15A\",\"#19d3f3\",\"#FF6692\",\"#B6E880\",\"#FF97FF\",\"#FECB52\"],\"font\":{\"color\":\"#2a3f5f\"},\"geo\":{\"bgcolor\":\"white\",\"lakecolor\":\"white\",\"landcolor\":\"#E5ECF6\",\"showlakes\":true,\"showland\":true,\"subunitcolor\":\"white\"},\"hoverlabel\":{\"align\":\"left\"},\"hovermode\":\"closest\",\"mapbox\":{\"style\":\"light\"},\"paper_bgcolor\":\"white\",\"plot_bgcolor\":\"#E5ECF6\",\"polar\":{\"angularaxis\":{\"gridcolor\":\"white\",\"linecolor\":\"white\",\"ticks\":\"\"},\"bgcolor\":\"#E5ECF6\",\"radialaxis\":{\"gridcolor\":\"white\",\"linecolor\":\"white\",\"ticks\":\"\"}},\"scene\":{\"xaxis\":{\"backgroundcolor\":\"#E5ECF6\",\"gridcolor\":\"white\",\"gridwidth\":2,\"linecolor\":\"white\",\"showbackground\":true,\"ticks\":\"\",\"zerolinecolor\":\"white\"},\"yaxis\":{\"backgroundcolor\":\"#E5ECF6\",\"gridcolor\":\"white\",\"gridwidth\":2,\"linecolor\":\"white\",\"showbackground\":true,\"ticks\":\"\",\"zerolinecolor\":\"white\"},\"zaxis\":{\"backgroundcolor\":\"#E5ECF6\",\"gridcolor\":\"white\",\"gridwidth\":2,\"linecolor\":\"white\",\"showbackground\":true,\"ticks\":\"\",\"zerolinecolor\":\"white\"}},\"shapedefaults\":{\"line\":{\"color\":\"#2a3f5f\"}},\"ternary\":{\"aaxis\":{\"gridcolor\":\"white\",\"linecolor\":\"white\",\"ticks\":\"\"},\"baxis\":{\"gridcolor\":\"white\",\"linecolor\":\"white\",\"ticks\":\"\"},\"bgcolor\":\"#E5ECF6\",\"caxis\":{\"gridcolor\":\"white\",\"linecolor\":\"white\",\"ticks\":\"\"}},\"title\":{\"x\":0.05},\"xaxis\":{\"automargin\":true,\"gridcolor\":\"white\",\"linecolor\":\"white\",\"ticks\":\"\",\"title\":{\"standoff\":15},\"zerolinecolor\":\"white\",\"zerolinewidth\":2},\"yaxis\":{\"automargin\":true,\"gridcolor\":\"white\",\"linecolor\":\"white\",\"ticks\":\"\",\"title\":{\"standoff\":15},\"zerolinecolor\":\"white\",\"zerolinewidth\":2}}}},                        {\"responsive\": true}                    ).then(function(){\n",
              "                            \n",
              "var gd = document.getElementById('150e5d1c-ae40-47ff-bb59-6b48a3dd7cff');\n",
              "var x = new MutationObserver(function (mutations, observer) {{\n",
              "        var display = window.getComputedStyle(gd).display;\n",
              "        if (!display || display === 'none') {{\n",
              "            console.log([gd, 'removed!']);\n",
              "            Plotly.purge(gd);\n",
              "            observer.disconnect();\n",
              "        }}\n",
              "}});\n",
              "\n",
              "// Listen for the removal of the full notebook cells\n",
              "var notebookContainer = gd.closest('#notebook-container');\n",
              "if (notebookContainer) {{\n",
              "    x.observe(notebookContainer, {childList: true});\n",
              "}}\n",
              "\n",
              "// Listen for the clearing of the current output cell\n",
              "var outputEl = gd.closest('.output');\n",
              "if (outputEl) {{\n",
              "    x.observe(outputEl, {childList: true});\n",
              "}}\n",
              "\n",
              "                        })                };                            </script>        </div>\n",
              "</body>\n",
              "</html>"
            ]
          },
          "metadata": {}
        }
      ]
    },
    {
      "cell_type": "code",
      "source": [
        "plot_intermediate_values(study)"
      ],
      "metadata": {
        "colab": {
          "base_uri": "https://localhost:8080/",
          "height": 542
        },
        "id": "m377KxZiFY5V",
        "outputId": "75425909-6a4a-4d1d-fa1e-4a63013da20c"
      },
      "execution_count": 47,
      "outputs": [
        {
          "output_type": "display_data",
          "data": {
            "text/html": [
              "<html>\n",
              "<head><meta charset=\"utf-8\" /></head>\n",
              "<body>\n",
              "    <div>            <script src=\"https://cdnjs.cloudflare.com/ajax/libs/mathjax/2.7.5/MathJax.js?config=TeX-AMS-MML_SVG\"></script><script type=\"text/javascript\">if (window.MathJax) {MathJax.Hub.Config({SVG: {font: \"STIX-Web\"}});}</script>                <script type=\"text/javascript\">window.PlotlyConfig = {MathJaxConfig: 'local'};</script>\n",
              "        <script src=\"https://cdn.plot.ly/plotly-2.8.3.min.js\"></script>                <div id=\"2a1f7fe6-4211-40fa-b1ab-1c4e4de95979\" class=\"plotly-graph-div\" style=\"height:525px; width:100%;\"></div>            <script type=\"text/javascript\">                                    window.PLOTLYENV=window.PLOTLYENV || {};                                    if (document.getElementById(\"2a1f7fe6-4211-40fa-b1ab-1c4e4de95979\")) {                    Plotly.newPlot(                        \"2a1f7fe6-4211-40fa-b1ab-1c4e4de95979\",                        [{\"marker\":{\"maxdisplayed\":10},\"mode\":\"lines+markers\",\"name\":\"Trial0\",\"x\":[0,1,2,3,4,5,6,7,8,9,10,11,12,13,14,15,16,17,18,19,20,21,22,23,24,25,26,27,28,29,30,31,32,33,34,35,36,37,38,39,40,41,42,43,44,45,46,47,48,49,50,51,52,53,54,55,56,57,58,59,60,61,62,63,64,65,66,67,68,69,70,71,72,73,74,75,76,77,78,79,80,81,82,83,84,85,86,87,88,89,90,91,92,93,94,95,96,97,98,99],\"y\":[1.0,0.990990990990991,1.0,1.0,0.990990990990991,1.0,0.990990990990991,1.0,0.990990990990991,1.0,1.0,0.990990990990991,1.0,0.990990990990991,1.0,1.0,1.0,0.9819819819819819,0.9819819819819819,1.0,0.972972972972973,0.990990990990991,0.990990990990991,1.0,0.990990990990991,0.9819819819819819,1.0,1.0,1.0,1.0,1.0,1.0,1.0,0.990990990990991,0.990990990990991,0.990990990990991,0.990990990990991,1.0,0.990990990990991,1.0,1.0,0.990990990990991,0.990990990990991,0.990990990990991,0.990990990990991,0.990990990990991,1.0,0.9819819819819819,1.0,1.0,1.0,1.0,0.990990990990991,1.0,1.0,1.0,1.0,1.0,1.0,1.0,1.0,1.0,1.0,1.0,0.990990990990991,1.0,0.990990990990991,1.0,0.990990990990991,0.990990990990991,0.990990990990991,1.0,1.0,1.0,1.0,1.0,0.990990990990991,1.0,0.990990990990991,0.9819819819819819,0.990990990990991,0.9819819819819819,1.0,1.0,1.0,0.9819819819819819,1.0,1.0,0.990990990990991,1.0,0.990990990990991,0.990990990990991,1.0,1.0,1.0,1.0,1.0,1.0,0.990990990990991,1.0],\"type\":\"scatter\"},{\"marker\":{\"maxdisplayed\":10},\"mode\":\"lines+markers\",\"name\":\"Trial1\",\"x\":[0,1,2,3,4,5,6,7,8,9,10,11,12,13,14,15,16,17,18,19,20,21,22,23,24,25,26,27,28,29,30,31,32,33,34,35,36,37,38,39,40,41,42,43,44,45,46,47,48,49,50,51,52,53,54,55,56,57,58,59,60,61,62,63,64,65,66,67,68,69,70,71,72,73,74,75,76,77,78,79,80,81,82,83,84,85,86,87,88,89,90,91,92,93,94,95,96,97,98,99],\"y\":[0.990990990990991,0.990990990990991,0.990990990990991,1.0,1.0,0.990990990990991,0.990990990990991,0.990990990990991,1.0,1.0,1.0,0.990990990990991,0.990990990990991,1.0,1.0,1.0,1.0,0.9819819819819819,1.0,1.0,1.0,1.0,1.0,0.990990990990991,0.990990990990991,1.0,1.0,0.990990990990991,0.990990990990991,0.990990990990991,0.990990990990991,1.0,0.990990990990991,1.0,1.0,0.990990990990991,1.0,1.0,1.0,0.990990990990991,1.0,0.990990990990991,1.0,1.0,0.990990990990991,0.990990990990991,1.0,1.0,1.0,1.0,1.0,0.990990990990991,1.0,1.0,0.990990990990991,0.990990990990991,0.990990990990991,1.0,1.0,0.990990990990991,1.0,1.0,0.990990990990991,1.0,0.9819819819819819,0.990990990990991,1.0,1.0,1.0,1.0,0.990990990990991,1.0,0.990990990990991,0.990990990990991,0.9819819819819819,1.0,1.0,0.990990990990991,1.0,0.9819819819819819,0.990990990990991,0.990990990990991,1.0,0.9819819819819819,1.0,0.990990990990991,0.990990990990991,1.0,1.0,1.0,0.990990990990991,1.0,0.990990990990991,0.990990990990991,0.990990990990991,1.0,0.990990990990991,1.0,1.0,1.0],\"type\":\"scatter\"},{\"marker\":{\"maxdisplayed\":10},\"mode\":\"lines+markers\",\"name\":\"Trial2\",\"x\":[0,1,2,3,4,5,6,7,8,9,10,11,12,13,14,15,16,17,18,19,20,21,22,23,24,25,26,27,28,29,30,31,32,33,34,35,36,37,38,39,40,41,42,43,44,45,46,47,48,49,50,51,52,53,54,55,56,57,58,59,60,61,62,63,64,65,66,67,68,69,70,71,72,73,74,75,76,77,78,79,80,81,82,83,84,85,86,87,88,89,90,91,92,93,94,95,96,97,98,99],\"y\":[1.0,1.0,1.0,1.0,1.0,1.0,0.990990990990991,1.0,1.0,1.0,1.0,1.0,1.0,1.0,1.0,1.0,1.0,0.990990990990991,1.0,1.0,0.990990990990991,1.0,0.990990990990991,1.0,1.0,0.990990990990991,0.990990990990991,1.0,1.0,1.0,1.0,0.990990990990991,1.0,1.0,1.0,1.0,1.0,1.0,1.0,1.0,1.0,1.0,1.0,0.990990990990991,0.990990990990991,0.990990990990991,1.0,0.990990990990991,1.0,1.0,0.9819819819819819,1.0,0.990990990990991,0.990990990990991,0.990990990990991,0.9819819819819819,1.0,1.0,1.0,1.0,1.0,1.0,1.0,1.0,1.0,1.0,0.990990990990991,1.0,1.0,1.0,1.0,0.990990990990991,0.990990990990991,1.0,0.972972972972973,0.9819819819819819,1.0,0.990990990990991,1.0,0.990990990990991,1.0,0.990990990990991,1.0,0.990990990990991,1.0,1.0,1.0,1.0,1.0,1.0,1.0,1.0,0.990990990990991,1.0,1.0,1.0,1.0,1.0,1.0,0.990990990990991],\"type\":\"scatter\"},{\"marker\":{\"maxdisplayed\":10},\"mode\":\"lines+markers\",\"name\":\"Trial3\",\"x\":[0,1,2,3,4,5,6,7,8,9,10,11,12,13,14,15,16,17,18,19,20,21,22,23,24,25,26,27,28,29,30,31,32,33,34,35,36,37,38,39,40,41,42,43,44,45,46,47,48,49,50,51,52,53,54,55,56,57,58,59,60,61,62,63,64,65,66,67,68,69,70,71,72,73,74,75,76,77,78,79,80,81,82,83,84,85,86,87,88,89,90,91,92,93,94,95,96,97,98,99],\"y\":[1.0,1.0,1.0,1.0,1.0,0.990990990990991,0.990990990990991,0.990990990990991,1.0,1.0,1.0,1.0,0.990990990990991,1.0,1.0,1.0,0.990990990990991,1.0,1.0,1.0,1.0,1.0,1.0,1.0,0.990990990990991,1.0,1.0,0.990990990990991,1.0,1.0,0.990990990990991,0.990990990990991,1.0,1.0,0.990990990990991,1.0,1.0,0.990990990990991,1.0,1.0,1.0,1.0,1.0,1.0,1.0,0.990990990990991,1.0,1.0,1.0,1.0,1.0,0.990990990990991,1.0,0.9819819819819819,0.990990990990991,0.990990990990991,0.990990990990991,0.990990990990991,1.0,0.990990990990991,0.990990990990991,1.0,1.0,1.0,0.990990990990991,0.990990990990991,1.0,1.0,1.0,1.0,0.990990990990991,1.0,1.0,0.9819819819819819,1.0,1.0,1.0,1.0,1.0,1.0,0.990990990990991,1.0,0.990990990990991,1.0,0.990990990990991,1.0,0.9819819819819819,1.0,0.990990990990991,0.990990990990991,0.990990990990991,0.990990990990991,0.9819819819819819,0.9819819819819819,0.990990990990991,0.990990990990991,1.0,1.0,0.990990990990991,0.990990990990991],\"type\":\"scatter\"},{\"marker\":{\"maxdisplayed\":10},\"mode\":\"lines+markers\",\"name\":\"Trial4\",\"x\":[0,1,2,3,4,5,6,7,8,9,10,11,12,13,14,15,16,17,18,19,20,21,22,23,24,25,26,27,28,29,30,31,32,33,34,35,36,37,38,39,40,41,42,43,44,45,46,47,48,49,50,51,52,53,54,55,56,57,58,59,60,61,62,63,64,65,66,67,68,69,70,71,72,73,74,75,76,77,78,79,80,81,82,83,84,85,86,87,88,89,90,91,92,93,94,95,96,97,98,99],\"y\":[1.0,0.9819819819819819,0.990990990990991,1.0,1.0,0.990990990990991,1.0,1.0,1.0,1.0,0.990990990990991,1.0,1.0,0.990990990990991,0.990990990990991,0.990990990990991,1.0,0.9819819819819819,1.0,1.0,1.0,1.0,1.0,0.990990990990991,0.990990990990991,1.0,0.990990990990991,0.990990990990991,1.0,1.0,0.990990990990991,1.0,1.0,0.990990990990991,1.0,1.0,1.0,1.0,1.0,1.0,1.0,1.0,1.0,0.990990990990991,1.0,0.990990990990991,1.0,1.0,1.0,0.990990990990991,0.990990990990991,0.990990990990991,1.0,1.0,0.9819819819819819,0.990990990990991,1.0,1.0,1.0,1.0,0.990990990990991,0.9819819819819819,0.990990990990991,1.0,1.0,1.0,0.990990990990991,0.990990990990991,1.0,0.990990990990991,0.990990990990991,1.0,1.0,1.0,1.0,0.990990990990991,1.0,1.0,1.0,0.990990990990991,1.0,1.0,1.0,1.0,0.990990990990991,1.0,1.0,0.990990990990991,0.972972972972973,0.990990990990991,1.0,0.9819819819819819,0.990990990990991,1.0,1.0,1.0,1.0,1.0,0.990990990990991,0.990990990990991],\"type\":\"scatter\"},{\"marker\":{\"maxdisplayed\":10},\"mode\":\"lines+markers\",\"name\":\"Trial5\",\"x\":[0,1,2,3,4,5,6,7,8,9,10,11,12,13,14,15,16,17],\"y\":[1.0,0.990990990990991,0.990990990990991,0.990990990990991,0.990990990990991,1.0,1.0,1.0,0.990990990990991,0.990990990990991,1.0,1.0,0.990990990990991,0.990990990990991,1.0,1.0,1.0,0.990990990990991],\"type\":\"scatter\"},{\"marker\":{\"maxdisplayed\":10},\"mode\":\"lines+markers\",\"name\":\"Trial6\",\"x\":[0,1],\"y\":[1.0,1.0],\"type\":\"scatter\"},{\"marker\":{\"maxdisplayed\":10},\"mode\":\"lines+markers\",\"name\":\"Trial7\",\"x\":[0,1,2,3,4,5,6,7,8,9,10,11,12,13,14,15,16,17],\"y\":[0.990990990990991,0.990990990990991,1.0,1.0,1.0,1.0,1.0,0.990990990990991,0.990990990990991,0.990990990990991,0.990990990990991,1.0,0.990990990990991,0.990990990990991,0.990990990990991,1.0,1.0,1.0],\"type\":\"scatter\"},{\"marker\":{\"maxdisplayed\":10},\"mode\":\"lines+markers\",\"name\":\"Trial8\",\"x\":[0,1,2,3,4,5,6,7,8,9,10,11,12,13,14,15,16,17,18,19,20,21,22,23,24,25,26,27,28,29,30,31,32,33,34,35,36,37,38,39,40,41,42,43,44,45,46,47,48,49,50,51,52,53,54,55,56,57,58,59,60,61,62,63,64,65,66,67,68,69,70,71,72,73,74,75,76,77,78,79,80,81,82,83,84,85,86,87,88,89,90,91,92,93,94,95,96,97,98,99],\"y\":[1.0,0.9819819819819819,0.990990990990991,0.990990990990991,1.0,1.0,1.0,1.0,1.0,0.9819819819819819,0.990990990990991,0.990990990990991,1.0,1.0,1.0,1.0,0.990990990990991,1.0,1.0,1.0,1.0,1.0,1.0,1.0,1.0,1.0,0.990990990990991,0.990990990990991,0.990990990990991,1.0,1.0,1.0,1.0,0.990990990990991,1.0,1.0,1.0,1.0,0.9819819819819819,0.990990990990991,1.0,1.0,1.0,1.0,1.0,1.0,0.990990990990991,1.0,0.990990990990991,0.990990990990991,1.0,0.9819819819819819,0.990990990990991,0.990990990990991,1.0,1.0,1.0,1.0,1.0,1.0,1.0,1.0,0.990990990990991,0.990990990990991,0.990990990990991,1.0,0.990990990990991,0.990990990990991,0.990990990990991,0.990990990990991,1.0,0.990990990990991,1.0,1.0,1.0,1.0,1.0,0.990990990990991,1.0,1.0,1.0,0.990990990990991,0.990990990990991,0.990990990990991,0.9819819819819819,1.0,0.990990990990991,1.0,1.0,1.0,0.990990990990991,1.0,0.990990990990991,1.0,0.990990990990991,1.0,1.0,1.0,1.0,1.0],\"type\":\"scatter\"},{\"marker\":{\"maxdisplayed\":10},\"mode\":\"lines+markers\",\"name\":\"Trial9\",\"x\":[0,1,2,3,4,5,6,7,8,9,10,11,12,13,14,15,16,17],\"y\":[1.0,0.990990990990991,1.0,1.0,1.0,1.0,0.990990990990991,1.0,1.0,1.0,0.990990990990991,1.0,1.0,1.0,1.0,1.0,1.0,1.0],\"type\":\"scatter\"},{\"marker\":{\"maxdisplayed\":10},\"mode\":\"lines+markers\",\"name\":\"Trial10\",\"x\":[0,1],\"y\":[1.0,1.0],\"type\":\"scatter\"},{\"marker\":{\"maxdisplayed\":10},\"mode\":\"lines+markers\",\"name\":\"Trial11\",\"x\":[0,1],\"y\":[1.0,1.0],\"type\":\"scatter\"},{\"marker\":{\"maxdisplayed\":10},\"mode\":\"lines+markers\",\"name\":\"Trial12\",\"x\":[0,1,2,3,4,5,6,7,8,9,10,11,12,13,14,15,16,17],\"y\":[0.990990990990991,0.990990990990991,1.0,0.990990990990991,1.0,1.0,0.990990990990991,1.0,1.0,0.990990990990991,1.0,1.0,1.0,1.0,0.990990990990991,0.990990990990991,1.0,1.0],\"type\":\"scatter\"},{\"marker\":{\"maxdisplayed\":10},\"mode\":\"lines+markers\",\"name\":\"Trial13\",\"x\":[0,1,2,3,4,5,6,7,8,9,10,11,12,13,14,15,16,17],\"y\":[0.990990990990991,1.0,1.0,0.990990990990991,1.0,1.0,0.990990990990991,1.0,1.0,0.990990990990991,1.0,1.0,1.0,0.990990990990991,0.990990990990991,0.990990990990991,1.0,0.990990990990991],\"type\":\"scatter\"},{\"marker\":{\"maxdisplayed\":10},\"mode\":\"lines+markers\",\"name\":\"Trial14\",\"x\":[0,1,2,3,4,5,6,7,8,9,10,11,12,13,14,15,16,17,18,19,20,21,22,23,24,25,26,27,28,29,30,31,32,33,34,35,36,37,38,39,40,41,42,43,44,45,46,47,48,49,50,51,52,53,54,55,56,57,58,59,60,61,62,63,64,65,66,67,68,69,70,71,72,73,74,75,76,77,78,79,80,81,82,83,84,85,86,87,88,89,90,91,92,93,94,95,96,97,98,99],\"y\":[1.0,0.990990990990991,0.990990990990991,1.0,1.0,0.990990990990991,0.9819819819819819,1.0,0.990990990990991,0.990990990990991,1.0,1.0,1.0,1.0,1.0,1.0,0.990990990990991,1.0,1.0,0.990990990990991,1.0,1.0,1.0,0.990990990990991,0.990990990990991,1.0,1.0,1.0,1.0,0.990990990990991,1.0,1.0,1.0,1.0,1.0,0.990990990990991,0.990990990990991,0.990990990990991,1.0,0.990990990990991,0.990990990990991,0.990990990990991,1.0,0.990990990990991,1.0,1.0,1.0,0.990990990990991,0.990990990990991,0.990990990990991,1.0,1.0,1.0,0.990990990990991,1.0,0.990990990990991,1.0,1.0,0.990990990990991,0.990990990990991,1.0,0.9819819819819819,1.0,0.9819819819819819,1.0,0.990990990990991,0.990990990990991,1.0,1.0,0.990990990990991,1.0,1.0,1.0,1.0,1.0,1.0,0.990990990990991,1.0,1.0,1.0,1.0,0.990990990990991,0.990990990990991,0.990990990990991,1.0,0.990990990990991,1.0,0.9819819819819819,1.0,1.0,1.0,1.0,1.0,1.0,1.0,0.990990990990991,1.0,1.0,1.0,0.990990990990991],\"type\":\"scatter\"},{\"marker\":{\"maxdisplayed\":10},\"mode\":\"lines+markers\",\"name\":\"Trial15\",\"x\":[0,1,2,3,4,5,6,7,8,9,10,11,12,13,14,15,16,17,18,19,20,21,22,23,24,25,26,27,28,29,30,31,32,33,34,35,36,37,38,39,40,41,42,43,44,45,46,47,48,49,50,51,52,53,54,55,56,57,58,59,60,61,62,63,64,65,66,67,68,69,70,71,72,73,74,75,76,77,78,79,80,81,82,83,84,85,86,87,88,89,90,91,92,93,94,95,96,97,98,99],\"y\":[0.990990990990991,1.0,0.990990990990991,1.0,0.990990990990991,0.990990990990991,0.9819819819819819,1.0,0.990990990990991,1.0,0.990990990990991,1.0,0.990990990990991,1.0,1.0,0.990990990990991,1.0,1.0,1.0,0.990990990990991,0.9819819819819819,0.990990990990991,0.990990990990991,1.0,1.0,1.0,0.990990990990991,0.990990990990991,0.990990990990991,1.0,0.990990990990991,0.990990990990991,1.0,0.990990990990991,0.9819819819819819,1.0,1.0,0.990990990990991,1.0,1.0,1.0,1.0,1.0,1.0,0.990990990990991,0.990990990990991,1.0,1.0,0.990990990990991,1.0,1.0,0.990990990990991,0.990990990990991,0.990990990990991,1.0,1.0,1.0,0.990990990990991,0.990990990990991,1.0,0.990990990990991,1.0,0.9819819819819819,1.0,1.0,0.9819819819819819,1.0,1.0,1.0,1.0,0.990990990990991,1.0,0.990990990990991,0.990990990990991,1.0,0.990990990990991,0.990990990990991,1.0,1.0,0.990990990990991,0.990990990990991,1.0,0.990990990990991,1.0,0.990990990990991,1.0,1.0,0.990990990990991,0.990990990990991,1.0,0.990990990990991,1.0,0.972972972972973,1.0,1.0,0.990990990990991,1.0,1.0,1.0,1.0],\"type\":\"scatter\"},{\"marker\":{\"maxdisplayed\":10},\"mode\":\"lines+markers\",\"name\":\"Trial16\",\"x\":[0,1],\"y\":[1.0,1.0],\"type\":\"scatter\"},{\"marker\":{\"maxdisplayed\":10},\"mode\":\"lines+markers\",\"name\":\"Trial17\",\"x\":[0,1,2,3,4,5,6,7,8,9,10,11,12,13,14,15,16,17,18,19,20,21,22,23,24,25,26,27,28,29,30,31,32,33,34,35,36,37,38,39,40,41,42,43,44,45,46,47,48,49,50,51,52,53,54,55,56,57,58,59,60,61,62,63,64,65,66,67,68,69,70,71,72,73,74,75,76,77,78,79,80,81,82,83,84,85,86,87,88,89,90,91,92,93,94,95,96,97,98,99],\"y\":[0.990990990990991,0.990990990990991,0.990990990990991,0.990990990990991,0.990990990990991,1.0,1.0,1.0,1.0,0.990990990990991,1.0,0.9819819819819819,0.990990990990991,1.0,0.990990990990991,1.0,1.0,0.990990990990991,0.990990990990991,1.0,1.0,1.0,1.0,0.990990990990991,1.0,0.990990990990991,1.0,1.0,0.9819819819819819,1.0,1.0,1.0,1.0,1.0,0.972972972972973,0.990990990990991,1.0,1.0,1.0,0.990990990990991,1.0,0.990990990990991,1.0,0.990990990990991,1.0,1.0,1.0,0.990990990990991,1.0,0.990990990990991,1.0,1.0,1.0,1.0,1.0,1.0,0.990990990990991,0.990990990990991,0.990990990990991,0.9819819819819819,1.0,0.9819819819819819,0.9819819819819819,0.990990990990991,0.990990990990991,0.990990990990991,1.0,1.0,0.990990990990991,1.0,0.9819819819819819,1.0,1.0,1.0,0.990990990990991,0.9819819819819819,0.990990990990991,1.0,0.990990990990991,1.0,0.990990990990991,1.0,1.0,1.0,0.990990990990991,0.990990990990991,0.990990990990991,0.990990990990991,1.0,1.0,1.0,1.0,0.990990990990991,1.0,1.0,1.0,1.0,1.0,1.0,1.0],\"type\":\"scatter\"},{\"marker\":{\"maxdisplayed\":10},\"mode\":\"lines+markers\",\"name\":\"Trial18\",\"x\":[0,1,2,3,4,5,6,7,8,9,10,11,12,13,14,15,16,17,18,19,20,21,22,23,24,25,26,27,28,29,30,31,32,33,34,35,36,37,38,39,40,41,42,43,44,45,46,47,48,49,50,51,52,53,54,55,56,57,58,59,60,61,62,63,64,65,66,67,68,69,70,71,72,73,74,75,76,77,78,79,80,81,82,83,84,85,86,87,88,89,90,91,92,93,94,95,96,97,98,99],\"y\":[0.990990990990991,0.990990990990991,1.0,1.0,1.0,1.0,1.0,0.990990990990991,0.990990990990991,0.990990990990991,1.0,0.990990990990991,0.990990990990991,0.990990990990991,0.990990990990991,1.0,0.990990990990991,0.990990990990991,1.0,0.9819819819819819,1.0,0.990990990990991,1.0,0.990990990990991,1.0,1.0,1.0,1.0,1.0,0.9819819819819819,1.0,1.0,0.990990990990991,1.0,1.0,0.9819819819819819,0.990990990990991,0.990990990990991,1.0,1.0,1.0,1.0,0.990990990990991,0.990990990990991,1.0,1.0,0.990990990990991,0.9819819819819819,1.0,0.990990990990991,1.0,1.0,0.990990990990991,1.0,0.990990990990991,1.0,0.990990990990991,1.0,1.0,0.990990990990991,1.0,1.0,1.0,1.0,0.990990990990991,1.0,1.0,1.0,1.0,1.0,1.0,1.0,1.0,1.0,0.990990990990991,0.990990990990991,1.0,1.0,0.990990990990991,0.990990990990991,0.990990990990991,0.9819819819819819,1.0,1.0,1.0,1.0,1.0,0.990990990990991,1.0,0.990990990990991,1.0,0.990990990990991,1.0,1.0,0.990990990990991,1.0,0.9819819819819819,0.990990990990991,0.990990990990991,1.0],\"type\":\"scatter\"},{\"marker\":{\"maxdisplayed\":10},\"mode\":\"lines+markers\",\"name\":\"Trial19\",\"x\":[0,1,2,3,4,5,6,7,8,9,10,11,12,13,14,15,16,17,18,19,20,21,22,23,24,25,26,27,28,29,30,31,32,33,34,35,36,37,38,39,40,41,42,43,44,45,46,47,48,49,50,51,52,53,54,55,56,57,58,59,60,61,62,63,64,65,66,67,68,69,70,71,72,73,74,75,76,77,78,79,80,81,82,83,84,85,86,87,88,89,90,91,92,93,94,95,96,97,98,99],\"y\":[1.0,0.990990990990991,0.990990990990991,1.0,1.0,0.990990990990991,1.0,1.0,0.990990990990991,1.0,1.0,0.990990990990991,1.0,0.990990990990991,0.9819819819819819,1.0,1.0,1.0,1.0,0.990990990990991,1.0,0.990990990990991,0.990990990990991,1.0,1.0,1.0,1.0,0.990990990990991,1.0,1.0,1.0,1.0,0.990990990990991,0.990990990990991,0.990990990990991,0.972972972972973,0.990990990990991,0.990990990990991,0.990990990990991,0.990990990990991,0.990990990990991,1.0,0.990990990990991,1.0,0.9819819819819819,1.0,1.0,1.0,1.0,1.0,0.9819819819819819,1.0,0.990990990990991,1.0,1.0,1.0,0.990990990990991,0.990990990990991,0.990990990990991,1.0,1.0,1.0,1.0,0.990990990990991,1.0,0.990990990990991,0.990990990990991,0.9819819819819819,1.0,0.990990990990991,1.0,0.9819819819819819,1.0,1.0,1.0,1.0,1.0,1.0,0.990990990990991,1.0,1.0,1.0,0.990990990990991,1.0,1.0,1.0,0.990990990990991,1.0,1.0,0.990990990990991,0.990990990990991,1.0,1.0,0.990990990990991,1.0,0.990990990990991,1.0,0.990990990990991,0.990990990990991,1.0],\"type\":\"scatter\"}],                        {\"showlegend\":false,\"title\":{\"text\":\"Intermediate Values Plot\"},\"xaxis\":{\"title\":{\"text\":\"Step\"}},\"yaxis\":{\"title\":{\"text\":\"Intermediate Value\"}},\"template\":{\"data\":{\"bar\":[{\"error_x\":{\"color\":\"#2a3f5f\"},\"error_y\":{\"color\":\"#2a3f5f\"},\"marker\":{\"line\":{\"color\":\"#E5ECF6\",\"width\":0.5},\"pattern\":{\"fillmode\":\"overlay\",\"size\":10,\"solidity\":0.2}},\"type\":\"bar\"}],\"barpolar\":[{\"marker\":{\"line\":{\"color\":\"#E5ECF6\",\"width\":0.5},\"pattern\":{\"fillmode\":\"overlay\",\"size\":10,\"solidity\":0.2}},\"type\":\"barpolar\"}],\"carpet\":[{\"aaxis\":{\"endlinecolor\":\"#2a3f5f\",\"gridcolor\":\"white\",\"linecolor\":\"white\",\"minorgridcolor\":\"white\",\"startlinecolor\":\"#2a3f5f\"},\"baxis\":{\"endlinecolor\":\"#2a3f5f\",\"gridcolor\":\"white\",\"linecolor\":\"white\",\"minorgridcolor\":\"white\",\"startlinecolor\":\"#2a3f5f\"},\"type\":\"carpet\"}],\"choropleth\":[{\"colorbar\":{\"outlinewidth\":0,\"ticks\":\"\"},\"type\":\"choropleth\"}],\"contour\":[{\"colorbar\":{\"outlinewidth\":0,\"ticks\":\"\"},\"colorscale\":[[0.0,\"#0d0887\"],[0.1111111111111111,\"#46039f\"],[0.2222222222222222,\"#7201a8\"],[0.3333333333333333,\"#9c179e\"],[0.4444444444444444,\"#bd3786\"],[0.5555555555555556,\"#d8576b\"],[0.6666666666666666,\"#ed7953\"],[0.7777777777777778,\"#fb9f3a\"],[0.8888888888888888,\"#fdca26\"],[1.0,\"#f0f921\"]],\"type\":\"contour\"}],\"contourcarpet\":[{\"colorbar\":{\"outlinewidth\":0,\"ticks\":\"\"},\"type\":\"contourcarpet\"}],\"heatmap\":[{\"colorbar\":{\"outlinewidth\":0,\"ticks\":\"\"},\"colorscale\":[[0.0,\"#0d0887\"],[0.1111111111111111,\"#46039f\"],[0.2222222222222222,\"#7201a8\"],[0.3333333333333333,\"#9c179e\"],[0.4444444444444444,\"#bd3786\"],[0.5555555555555556,\"#d8576b\"],[0.6666666666666666,\"#ed7953\"],[0.7777777777777778,\"#fb9f3a\"],[0.8888888888888888,\"#fdca26\"],[1.0,\"#f0f921\"]],\"type\":\"heatmap\"}],\"heatmapgl\":[{\"colorbar\":{\"outlinewidth\":0,\"ticks\":\"\"},\"colorscale\":[[0.0,\"#0d0887\"],[0.1111111111111111,\"#46039f\"],[0.2222222222222222,\"#7201a8\"],[0.3333333333333333,\"#9c179e\"],[0.4444444444444444,\"#bd3786\"],[0.5555555555555556,\"#d8576b\"],[0.6666666666666666,\"#ed7953\"],[0.7777777777777778,\"#fb9f3a\"],[0.8888888888888888,\"#fdca26\"],[1.0,\"#f0f921\"]],\"type\":\"heatmapgl\"}],\"histogram\":[{\"marker\":{\"pattern\":{\"fillmode\":\"overlay\",\"size\":10,\"solidity\":0.2}},\"type\":\"histogram\"}],\"histogram2d\":[{\"colorbar\":{\"outlinewidth\":0,\"ticks\":\"\"},\"colorscale\":[[0.0,\"#0d0887\"],[0.1111111111111111,\"#46039f\"],[0.2222222222222222,\"#7201a8\"],[0.3333333333333333,\"#9c179e\"],[0.4444444444444444,\"#bd3786\"],[0.5555555555555556,\"#d8576b\"],[0.6666666666666666,\"#ed7953\"],[0.7777777777777778,\"#fb9f3a\"],[0.8888888888888888,\"#fdca26\"],[1.0,\"#f0f921\"]],\"type\":\"histogram2d\"}],\"histogram2dcontour\":[{\"colorbar\":{\"outlinewidth\":0,\"ticks\":\"\"},\"colorscale\":[[0.0,\"#0d0887\"],[0.1111111111111111,\"#46039f\"],[0.2222222222222222,\"#7201a8\"],[0.3333333333333333,\"#9c179e\"],[0.4444444444444444,\"#bd3786\"],[0.5555555555555556,\"#d8576b\"],[0.6666666666666666,\"#ed7953\"],[0.7777777777777778,\"#fb9f3a\"],[0.8888888888888888,\"#fdca26\"],[1.0,\"#f0f921\"]],\"type\":\"histogram2dcontour\"}],\"mesh3d\":[{\"colorbar\":{\"outlinewidth\":0,\"ticks\":\"\"},\"type\":\"mesh3d\"}],\"parcoords\":[{\"line\":{\"colorbar\":{\"outlinewidth\":0,\"ticks\":\"\"}},\"type\":\"parcoords\"}],\"pie\":[{\"automargin\":true,\"type\":\"pie\"}],\"scatter\":[{\"marker\":{\"colorbar\":{\"outlinewidth\":0,\"ticks\":\"\"}},\"type\":\"scatter\"}],\"scatter3d\":[{\"line\":{\"colorbar\":{\"outlinewidth\":0,\"ticks\":\"\"}},\"marker\":{\"colorbar\":{\"outlinewidth\":0,\"ticks\":\"\"}},\"type\":\"scatter3d\"}],\"scattercarpet\":[{\"marker\":{\"colorbar\":{\"outlinewidth\":0,\"ticks\":\"\"}},\"type\":\"scattercarpet\"}],\"scattergeo\":[{\"marker\":{\"colorbar\":{\"outlinewidth\":0,\"ticks\":\"\"}},\"type\":\"scattergeo\"}],\"scattergl\":[{\"marker\":{\"colorbar\":{\"outlinewidth\":0,\"ticks\":\"\"}},\"type\":\"scattergl\"}],\"scattermapbox\":[{\"marker\":{\"colorbar\":{\"outlinewidth\":0,\"ticks\":\"\"}},\"type\":\"scattermapbox\"}],\"scatterpolar\":[{\"marker\":{\"colorbar\":{\"outlinewidth\":0,\"ticks\":\"\"}},\"type\":\"scatterpolar\"}],\"scatterpolargl\":[{\"marker\":{\"colorbar\":{\"outlinewidth\":0,\"ticks\":\"\"}},\"type\":\"scatterpolargl\"}],\"scatterternary\":[{\"marker\":{\"colorbar\":{\"outlinewidth\":0,\"ticks\":\"\"}},\"type\":\"scatterternary\"}],\"surface\":[{\"colorbar\":{\"outlinewidth\":0,\"ticks\":\"\"},\"colorscale\":[[0.0,\"#0d0887\"],[0.1111111111111111,\"#46039f\"],[0.2222222222222222,\"#7201a8\"],[0.3333333333333333,\"#9c179e\"],[0.4444444444444444,\"#bd3786\"],[0.5555555555555556,\"#d8576b\"],[0.6666666666666666,\"#ed7953\"],[0.7777777777777778,\"#fb9f3a\"],[0.8888888888888888,\"#fdca26\"],[1.0,\"#f0f921\"]],\"type\":\"surface\"}],\"table\":[{\"cells\":{\"fill\":{\"color\":\"#EBF0F8\"},\"line\":{\"color\":\"white\"}},\"header\":{\"fill\":{\"color\":\"#C8D4E3\"},\"line\":{\"color\":\"white\"}},\"type\":\"table\"}]},\"layout\":{\"annotationdefaults\":{\"arrowcolor\":\"#2a3f5f\",\"arrowhead\":0,\"arrowwidth\":1},\"autotypenumbers\":\"strict\",\"coloraxis\":{\"colorbar\":{\"outlinewidth\":0,\"ticks\":\"\"}},\"colorscale\":{\"diverging\":[[0,\"#8e0152\"],[0.1,\"#c51b7d\"],[0.2,\"#de77ae\"],[0.3,\"#f1b6da\"],[0.4,\"#fde0ef\"],[0.5,\"#f7f7f7\"],[0.6,\"#e6f5d0\"],[0.7,\"#b8e186\"],[0.8,\"#7fbc41\"],[0.9,\"#4d9221\"],[1,\"#276419\"]],\"sequential\":[[0.0,\"#0d0887\"],[0.1111111111111111,\"#46039f\"],[0.2222222222222222,\"#7201a8\"],[0.3333333333333333,\"#9c179e\"],[0.4444444444444444,\"#bd3786\"],[0.5555555555555556,\"#d8576b\"],[0.6666666666666666,\"#ed7953\"],[0.7777777777777778,\"#fb9f3a\"],[0.8888888888888888,\"#fdca26\"],[1.0,\"#f0f921\"]],\"sequentialminus\":[[0.0,\"#0d0887\"],[0.1111111111111111,\"#46039f\"],[0.2222222222222222,\"#7201a8\"],[0.3333333333333333,\"#9c179e\"],[0.4444444444444444,\"#bd3786\"],[0.5555555555555556,\"#d8576b\"],[0.6666666666666666,\"#ed7953\"],[0.7777777777777778,\"#fb9f3a\"],[0.8888888888888888,\"#fdca26\"],[1.0,\"#f0f921\"]]},\"colorway\":[\"#636efa\",\"#EF553B\",\"#00cc96\",\"#ab63fa\",\"#FFA15A\",\"#19d3f3\",\"#FF6692\",\"#B6E880\",\"#FF97FF\",\"#FECB52\"],\"font\":{\"color\":\"#2a3f5f\"},\"geo\":{\"bgcolor\":\"white\",\"lakecolor\":\"white\",\"landcolor\":\"#E5ECF6\",\"showlakes\":true,\"showland\":true,\"subunitcolor\":\"white\"},\"hoverlabel\":{\"align\":\"left\"},\"hovermode\":\"closest\",\"mapbox\":{\"style\":\"light\"},\"paper_bgcolor\":\"white\",\"plot_bgcolor\":\"#E5ECF6\",\"polar\":{\"angularaxis\":{\"gridcolor\":\"white\",\"linecolor\":\"white\",\"ticks\":\"\"},\"bgcolor\":\"#E5ECF6\",\"radialaxis\":{\"gridcolor\":\"white\",\"linecolor\":\"white\",\"ticks\":\"\"}},\"scene\":{\"xaxis\":{\"backgroundcolor\":\"#E5ECF6\",\"gridcolor\":\"white\",\"gridwidth\":2,\"linecolor\":\"white\",\"showbackground\":true,\"ticks\":\"\",\"zerolinecolor\":\"white\"},\"yaxis\":{\"backgroundcolor\":\"#E5ECF6\",\"gridcolor\":\"white\",\"gridwidth\":2,\"linecolor\":\"white\",\"showbackground\":true,\"ticks\":\"\",\"zerolinecolor\":\"white\"},\"zaxis\":{\"backgroundcolor\":\"#E5ECF6\",\"gridcolor\":\"white\",\"gridwidth\":2,\"linecolor\":\"white\",\"showbackground\":true,\"ticks\":\"\",\"zerolinecolor\":\"white\"}},\"shapedefaults\":{\"line\":{\"color\":\"#2a3f5f\"}},\"ternary\":{\"aaxis\":{\"gridcolor\":\"white\",\"linecolor\":\"white\",\"ticks\":\"\"},\"baxis\":{\"gridcolor\":\"white\",\"linecolor\":\"white\",\"ticks\":\"\"},\"bgcolor\":\"#E5ECF6\",\"caxis\":{\"gridcolor\":\"white\",\"linecolor\":\"white\",\"ticks\":\"\"}},\"title\":{\"x\":0.05},\"xaxis\":{\"automargin\":true,\"gridcolor\":\"white\",\"linecolor\":\"white\",\"ticks\":\"\",\"title\":{\"standoff\":15},\"zerolinecolor\":\"white\",\"zerolinewidth\":2},\"yaxis\":{\"automargin\":true,\"gridcolor\":\"white\",\"linecolor\":\"white\",\"ticks\":\"\",\"title\":{\"standoff\":15},\"zerolinecolor\":\"white\",\"zerolinewidth\":2}}}},                        {\"responsive\": true}                    ).then(function(){\n",
              "                            \n",
              "var gd = document.getElementById('2a1f7fe6-4211-40fa-b1ab-1c4e4de95979');\n",
              "var x = new MutationObserver(function (mutations, observer) {{\n",
              "        var display = window.getComputedStyle(gd).display;\n",
              "        if (!display || display === 'none') {{\n",
              "            console.log([gd, 'removed!']);\n",
              "            Plotly.purge(gd);\n",
              "            observer.disconnect();\n",
              "        }}\n",
              "}});\n",
              "\n",
              "// Listen for the removal of the full notebook cells\n",
              "var notebookContainer = gd.closest('#notebook-container');\n",
              "if (notebookContainer) {{\n",
              "    x.observe(notebookContainer, {childList: true});\n",
              "}}\n",
              "\n",
              "// Listen for the clearing of the current output cell\n",
              "var outputEl = gd.closest('.output');\n",
              "if (outputEl) {{\n",
              "    x.observe(outputEl, {childList: true});\n",
              "}}\n",
              "\n",
              "                        })                };                            </script>        </div>\n",
              "</body>\n",
              "</html>"
            ]
          },
          "metadata": {}
        }
      ]
    },
    {
      "cell_type": "code",
      "source": [
        "plot_parallel_coordinate(study)"
      ],
      "metadata": {
        "colab": {
          "base_uri": "https://localhost:8080/",
          "height": 542
        },
        "id": "LDE-pHolFZcP",
        "outputId": "a3091e07-0414-40b0-f169-a57701f11fd5"
      },
      "execution_count": 48,
      "outputs": [
        {
          "output_type": "display_data",
          "data": {
            "text/html": [
              "<html>\n",
              "<head><meta charset=\"utf-8\" /></head>\n",
              "<body>\n",
              "    <div>            <script src=\"https://cdnjs.cloudflare.com/ajax/libs/mathjax/2.7.5/MathJax.js?config=TeX-AMS-MML_SVG\"></script><script type=\"text/javascript\">if (window.MathJax) {MathJax.Hub.Config({SVG: {font: \"STIX-Web\"}});}</script>                <script type=\"text/javascript\">window.PlotlyConfig = {MathJaxConfig: 'local'};</script>\n",
              "        <script src=\"https://cdn.plot.ly/plotly-2.8.3.min.js\"></script>                <div id=\"c4374ee7-2c8e-4f09-a2a2-cf51d500a599\" class=\"plotly-graph-div\" style=\"height:525px; width:100%;\"></div>            <script type=\"text/javascript\">                                    window.PLOTLYENV=window.PLOTLYENV || {};                                    if (document.getElementById(\"c4374ee7-2c8e-4f09-a2a2-cf51d500a599\")) {                    Plotly.newPlot(                        \"c4374ee7-2c8e-4f09-a2a2-cf51d500a599\",                        [{\"dimensions\":[{\"label\":\"Objective Value\",\"range\":[0.990990990990991,1.0],\"values\":[1.0,1.0,0.990990990990991,0.990990990990991,0.990990990990991,1.0,0.990990990990991,1.0,1.0,1.0,1.0]},{\"label\":\"alpha\",\"range\":[-4.8391164962533155,-1.4028393812187299],\"ticktext\":[\"1.45e-05\",\"0.0001\",\"0.001\",\"0.01\",\"0.0396\"],\"tickvals\":[-4.8391164962533155,-4,-3,-2,-1.4028393812187299],\"values\":[-3.757055310680973,-2.7920371859541246,-4.8391164962533155,-1.4028393812187299,-4.629221064918697,-3.768007434205493,-1.668886775093316,-2.863263173047335,-2.0034888791431236,-3.383087334142628,-2.46253374164182]}],\"labelangle\":30,\"labelside\":\"bottom\",\"line\":{\"color\":[1.0,1.0,0.990990990990991,0.990990990990991,0.990990990990991,1.0,0.990990990990991,1.0,1.0,1.0,1.0],\"colorbar\":{\"title\":{\"text\":\"Objective Value\"}},\"colorscale\":[[0.0,\"rgb(247,251,255)\"],[0.125,\"rgb(222,235,247)\"],[0.25,\"rgb(198,219,239)\"],[0.375,\"rgb(158,202,225)\"],[0.5,\"rgb(107,174,214)\"],[0.625,\"rgb(66,146,198)\"],[0.75,\"rgb(33,113,181)\"],[0.875,\"rgb(8,81,156)\"],[1.0,\"rgb(8,48,107)\"]],\"reversescale\":true,\"showscale\":true},\"type\":\"parcoords\"}],                        {\"title\":{\"text\":\"Parallel Coordinate Plot\"},\"template\":{\"data\":{\"bar\":[{\"error_x\":{\"color\":\"#2a3f5f\"},\"error_y\":{\"color\":\"#2a3f5f\"},\"marker\":{\"line\":{\"color\":\"#E5ECF6\",\"width\":0.5},\"pattern\":{\"fillmode\":\"overlay\",\"size\":10,\"solidity\":0.2}},\"type\":\"bar\"}],\"barpolar\":[{\"marker\":{\"line\":{\"color\":\"#E5ECF6\",\"width\":0.5},\"pattern\":{\"fillmode\":\"overlay\",\"size\":10,\"solidity\":0.2}},\"type\":\"barpolar\"}],\"carpet\":[{\"aaxis\":{\"endlinecolor\":\"#2a3f5f\",\"gridcolor\":\"white\",\"linecolor\":\"white\",\"minorgridcolor\":\"white\",\"startlinecolor\":\"#2a3f5f\"},\"baxis\":{\"endlinecolor\":\"#2a3f5f\",\"gridcolor\":\"white\",\"linecolor\":\"white\",\"minorgridcolor\":\"white\",\"startlinecolor\":\"#2a3f5f\"},\"type\":\"carpet\"}],\"choropleth\":[{\"colorbar\":{\"outlinewidth\":0,\"ticks\":\"\"},\"type\":\"choropleth\"}],\"contour\":[{\"colorbar\":{\"outlinewidth\":0,\"ticks\":\"\"},\"colorscale\":[[0.0,\"#0d0887\"],[0.1111111111111111,\"#46039f\"],[0.2222222222222222,\"#7201a8\"],[0.3333333333333333,\"#9c179e\"],[0.4444444444444444,\"#bd3786\"],[0.5555555555555556,\"#d8576b\"],[0.6666666666666666,\"#ed7953\"],[0.7777777777777778,\"#fb9f3a\"],[0.8888888888888888,\"#fdca26\"],[1.0,\"#f0f921\"]],\"type\":\"contour\"}],\"contourcarpet\":[{\"colorbar\":{\"outlinewidth\":0,\"ticks\":\"\"},\"type\":\"contourcarpet\"}],\"heatmap\":[{\"colorbar\":{\"outlinewidth\":0,\"ticks\":\"\"},\"colorscale\":[[0.0,\"#0d0887\"],[0.1111111111111111,\"#46039f\"],[0.2222222222222222,\"#7201a8\"],[0.3333333333333333,\"#9c179e\"],[0.4444444444444444,\"#bd3786\"],[0.5555555555555556,\"#d8576b\"],[0.6666666666666666,\"#ed7953\"],[0.7777777777777778,\"#fb9f3a\"],[0.8888888888888888,\"#fdca26\"],[1.0,\"#f0f921\"]],\"type\":\"heatmap\"}],\"heatmapgl\":[{\"colorbar\":{\"outlinewidth\":0,\"ticks\":\"\"},\"colorscale\":[[0.0,\"#0d0887\"],[0.1111111111111111,\"#46039f\"],[0.2222222222222222,\"#7201a8\"],[0.3333333333333333,\"#9c179e\"],[0.4444444444444444,\"#bd3786\"],[0.5555555555555556,\"#d8576b\"],[0.6666666666666666,\"#ed7953\"],[0.7777777777777778,\"#fb9f3a\"],[0.8888888888888888,\"#fdca26\"],[1.0,\"#f0f921\"]],\"type\":\"heatmapgl\"}],\"histogram\":[{\"marker\":{\"pattern\":{\"fillmode\":\"overlay\",\"size\":10,\"solidity\":0.2}},\"type\":\"histogram\"}],\"histogram2d\":[{\"colorbar\":{\"outlinewidth\":0,\"ticks\":\"\"},\"colorscale\":[[0.0,\"#0d0887\"],[0.1111111111111111,\"#46039f\"],[0.2222222222222222,\"#7201a8\"],[0.3333333333333333,\"#9c179e\"],[0.4444444444444444,\"#bd3786\"],[0.5555555555555556,\"#d8576b\"],[0.6666666666666666,\"#ed7953\"],[0.7777777777777778,\"#fb9f3a\"],[0.8888888888888888,\"#fdca26\"],[1.0,\"#f0f921\"]],\"type\":\"histogram2d\"}],\"histogram2dcontour\":[{\"colorbar\":{\"outlinewidth\":0,\"ticks\":\"\"},\"colorscale\":[[0.0,\"#0d0887\"],[0.1111111111111111,\"#46039f\"],[0.2222222222222222,\"#7201a8\"],[0.3333333333333333,\"#9c179e\"],[0.4444444444444444,\"#bd3786\"],[0.5555555555555556,\"#d8576b\"],[0.6666666666666666,\"#ed7953\"],[0.7777777777777778,\"#fb9f3a\"],[0.8888888888888888,\"#fdca26\"],[1.0,\"#f0f921\"]],\"type\":\"histogram2dcontour\"}],\"mesh3d\":[{\"colorbar\":{\"outlinewidth\":0,\"ticks\":\"\"},\"type\":\"mesh3d\"}],\"parcoords\":[{\"line\":{\"colorbar\":{\"outlinewidth\":0,\"ticks\":\"\"}},\"type\":\"parcoords\"}],\"pie\":[{\"automargin\":true,\"type\":\"pie\"}],\"scatter\":[{\"marker\":{\"colorbar\":{\"outlinewidth\":0,\"ticks\":\"\"}},\"type\":\"scatter\"}],\"scatter3d\":[{\"line\":{\"colorbar\":{\"outlinewidth\":0,\"ticks\":\"\"}},\"marker\":{\"colorbar\":{\"outlinewidth\":0,\"ticks\":\"\"}},\"type\":\"scatter3d\"}],\"scattercarpet\":[{\"marker\":{\"colorbar\":{\"outlinewidth\":0,\"ticks\":\"\"}},\"type\":\"scattercarpet\"}],\"scattergeo\":[{\"marker\":{\"colorbar\":{\"outlinewidth\":0,\"ticks\":\"\"}},\"type\":\"scattergeo\"}],\"scattergl\":[{\"marker\":{\"colorbar\":{\"outlinewidth\":0,\"ticks\":\"\"}},\"type\":\"scattergl\"}],\"scattermapbox\":[{\"marker\":{\"colorbar\":{\"outlinewidth\":0,\"ticks\":\"\"}},\"type\":\"scattermapbox\"}],\"scatterpolar\":[{\"marker\":{\"colorbar\":{\"outlinewidth\":0,\"ticks\":\"\"}},\"type\":\"scatterpolar\"}],\"scatterpolargl\":[{\"marker\":{\"colorbar\":{\"outlinewidth\":0,\"ticks\":\"\"}},\"type\":\"scatterpolargl\"}],\"scatterternary\":[{\"marker\":{\"colorbar\":{\"outlinewidth\":0,\"ticks\":\"\"}},\"type\":\"scatterternary\"}],\"surface\":[{\"colorbar\":{\"outlinewidth\":0,\"ticks\":\"\"},\"colorscale\":[[0.0,\"#0d0887\"],[0.1111111111111111,\"#46039f\"],[0.2222222222222222,\"#7201a8\"],[0.3333333333333333,\"#9c179e\"],[0.4444444444444444,\"#bd3786\"],[0.5555555555555556,\"#d8576b\"],[0.6666666666666666,\"#ed7953\"],[0.7777777777777778,\"#fb9f3a\"],[0.8888888888888888,\"#fdca26\"],[1.0,\"#f0f921\"]],\"type\":\"surface\"}],\"table\":[{\"cells\":{\"fill\":{\"color\":\"#EBF0F8\"},\"line\":{\"color\":\"white\"}},\"header\":{\"fill\":{\"color\":\"#C8D4E3\"},\"line\":{\"color\":\"white\"}},\"type\":\"table\"}]},\"layout\":{\"annotationdefaults\":{\"arrowcolor\":\"#2a3f5f\",\"arrowhead\":0,\"arrowwidth\":1},\"autotypenumbers\":\"strict\",\"coloraxis\":{\"colorbar\":{\"outlinewidth\":0,\"ticks\":\"\"}},\"colorscale\":{\"diverging\":[[0,\"#8e0152\"],[0.1,\"#c51b7d\"],[0.2,\"#de77ae\"],[0.3,\"#f1b6da\"],[0.4,\"#fde0ef\"],[0.5,\"#f7f7f7\"],[0.6,\"#e6f5d0\"],[0.7,\"#b8e186\"],[0.8,\"#7fbc41\"],[0.9,\"#4d9221\"],[1,\"#276419\"]],\"sequential\":[[0.0,\"#0d0887\"],[0.1111111111111111,\"#46039f\"],[0.2222222222222222,\"#7201a8\"],[0.3333333333333333,\"#9c179e\"],[0.4444444444444444,\"#bd3786\"],[0.5555555555555556,\"#d8576b\"],[0.6666666666666666,\"#ed7953\"],[0.7777777777777778,\"#fb9f3a\"],[0.8888888888888888,\"#fdca26\"],[1.0,\"#f0f921\"]],\"sequentialminus\":[[0.0,\"#0d0887\"],[0.1111111111111111,\"#46039f\"],[0.2222222222222222,\"#7201a8\"],[0.3333333333333333,\"#9c179e\"],[0.4444444444444444,\"#bd3786\"],[0.5555555555555556,\"#d8576b\"],[0.6666666666666666,\"#ed7953\"],[0.7777777777777778,\"#fb9f3a\"],[0.8888888888888888,\"#fdca26\"],[1.0,\"#f0f921\"]]},\"colorway\":[\"#636efa\",\"#EF553B\",\"#00cc96\",\"#ab63fa\",\"#FFA15A\",\"#19d3f3\",\"#FF6692\",\"#B6E880\",\"#FF97FF\",\"#FECB52\"],\"font\":{\"color\":\"#2a3f5f\"},\"geo\":{\"bgcolor\":\"white\",\"lakecolor\":\"white\",\"landcolor\":\"#E5ECF6\",\"showlakes\":true,\"showland\":true,\"subunitcolor\":\"white\"},\"hoverlabel\":{\"align\":\"left\"},\"hovermode\":\"closest\",\"mapbox\":{\"style\":\"light\"},\"paper_bgcolor\":\"white\",\"plot_bgcolor\":\"#E5ECF6\",\"polar\":{\"angularaxis\":{\"gridcolor\":\"white\",\"linecolor\":\"white\",\"ticks\":\"\"},\"bgcolor\":\"#E5ECF6\",\"radialaxis\":{\"gridcolor\":\"white\",\"linecolor\":\"white\",\"ticks\":\"\"}},\"scene\":{\"xaxis\":{\"backgroundcolor\":\"#E5ECF6\",\"gridcolor\":\"white\",\"gridwidth\":2,\"linecolor\":\"white\",\"showbackground\":true,\"ticks\":\"\",\"zerolinecolor\":\"white\"},\"yaxis\":{\"backgroundcolor\":\"#E5ECF6\",\"gridcolor\":\"white\",\"gridwidth\":2,\"linecolor\":\"white\",\"showbackground\":true,\"ticks\":\"\",\"zerolinecolor\":\"white\"},\"zaxis\":{\"backgroundcolor\":\"#E5ECF6\",\"gridcolor\":\"white\",\"gridwidth\":2,\"linecolor\":\"white\",\"showbackground\":true,\"ticks\":\"\",\"zerolinecolor\":\"white\"}},\"shapedefaults\":{\"line\":{\"color\":\"#2a3f5f\"}},\"ternary\":{\"aaxis\":{\"gridcolor\":\"white\",\"linecolor\":\"white\",\"ticks\":\"\"},\"baxis\":{\"gridcolor\":\"white\",\"linecolor\":\"white\",\"ticks\":\"\"},\"bgcolor\":\"#E5ECF6\",\"caxis\":{\"gridcolor\":\"white\",\"linecolor\":\"white\",\"ticks\":\"\"}},\"title\":{\"x\":0.05},\"xaxis\":{\"automargin\":true,\"gridcolor\":\"white\",\"linecolor\":\"white\",\"ticks\":\"\",\"title\":{\"standoff\":15},\"zerolinecolor\":\"white\",\"zerolinewidth\":2},\"yaxis\":{\"automargin\":true,\"gridcolor\":\"white\",\"linecolor\":\"white\",\"ticks\":\"\",\"title\":{\"standoff\":15},\"zerolinecolor\":\"white\",\"zerolinewidth\":2}}}},                        {\"responsive\": true}                    ).then(function(){\n",
              "                            \n",
              "var gd = document.getElementById('c4374ee7-2c8e-4f09-a2a2-cf51d500a599');\n",
              "var x = new MutationObserver(function (mutations, observer) {{\n",
              "        var display = window.getComputedStyle(gd).display;\n",
              "        if (!display || display === 'none') {{\n",
              "            console.log([gd, 'removed!']);\n",
              "            Plotly.purge(gd);\n",
              "            observer.disconnect();\n",
              "        }}\n",
              "}});\n",
              "\n",
              "// Listen for the removal of the full notebook cells\n",
              "var notebookContainer = gd.closest('#notebook-container');\n",
              "if (notebookContainer) {{\n",
              "    x.observe(notebookContainer, {childList: true});\n",
              "}}\n",
              "\n",
              "// Listen for the clearing of the current output cell\n",
              "var outputEl = gd.closest('.output');\n",
              "if (outputEl) {{\n",
              "    x.observe(outputEl, {childList: true});\n",
              "}}\n",
              "\n",
              "                        })                };                            </script>        </div>\n",
              "</body>\n",
              "</html>"
            ]
          },
          "metadata": {}
        }
      ]
    },
    {
      "cell_type": "code",
      "source": [
        "plot_slice(study)"
      ],
      "metadata": {
        "colab": {
          "base_uri": "https://localhost:8080/",
          "height": 542
        },
        "id": "SJLv78IqFaJm",
        "outputId": "280e77e4-bbc5-4f37-82ab-8e720b54dae6"
      },
      "execution_count": 49,
      "outputs": [
        {
          "output_type": "display_data",
          "data": {
            "text/html": [
              "<html>\n",
              "<head><meta charset=\"utf-8\" /></head>\n",
              "<body>\n",
              "    <div>            <script src=\"https://cdnjs.cloudflare.com/ajax/libs/mathjax/2.7.5/MathJax.js?config=TeX-AMS-MML_SVG\"></script><script type=\"text/javascript\">if (window.MathJax) {MathJax.Hub.Config({SVG: {font: \"STIX-Web\"}});}</script>                <script type=\"text/javascript\">window.PlotlyConfig = {MathJaxConfig: 'local'};</script>\n",
              "        <script src=\"https://cdn.plot.ly/plotly-2.8.3.min.js\"></script>                <div id=\"2e27d68c-f888-451d-aefc-c2999b18aa29\" class=\"plotly-graph-div\" style=\"height:525px; width:100%;\"></div>            <script type=\"text/javascript\">                                    window.PLOTLYENV=window.PLOTLYENV || {};                                    if (document.getElementById(\"2e27d68c-f888-451d-aefc-c2999b18aa29\")) {                    Plotly.newPlot(                        \"2e27d68c-f888-451d-aefc-c2999b18aa29\",                        [{\"marker\":{\"color\":[0,1,2,3,4,8,14,15,17,18,19],\"colorbar\":{\"title\":{\"text\":\"Trial\"},\"x\":1.0,\"xpad\":40},\"colorscale\":[[0.0,\"rgb(247,251,255)\"],[0.125,\"rgb(222,235,247)\"],[0.25,\"rgb(198,219,239)\"],[0.375,\"rgb(158,202,225)\"],[0.5,\"rgb(107,174,214)\"],[0.625,\"rgb(66,146,198)\"],[0.75,\"rgb(33,113,181)\"],[0.875,\"rgb(8,81,156)\"],[1.0,\"rgb(8,48,107)\"]],\"line\":{\"color\":\"Grey\",\"width\":0.5}},\"mode\":\"markers\",\"showlegend\":false,\"x\":[0.00017496238466290127,0.0016142203351917478,1.4483832834261326e-05,0.03955128688733634,2.3484371132479736e-05,0.0001706053184721144,0.021434493469228568,0.0013700512931635281,0.009919987407471208,0.00041391643021731144,0.003447198232149919],\"y\":[1.0,1.0,0.990990990990991,0.990990990990991,0.990990990990991,1.0,0.990990990990991,1.0,1.0,1.0,1.0],\"type\":\"scatter\"}],                        {\"title\":{\"text\":\"Slice Plot\"},\"template\":{\"data\":{\"bar\":[{\"error_x\":{\"color\":\"#2a3f5f\"},\"error_y\":{\"color\":\"#2a3f5f\"},\"marker\":{\"line\":{\"color\":\"#E5ECF6\",\"width\":0.5},\"pattern\":{\"fillmode\":\"overlay\",\"size\":10,\"solidity\":0.2}},\"type\":\"bar\"}],\"barpolar\":[{\"marker\":{\"line\":{\"color\":\"#E5ECF6\",\"width\":0.5},\"pattern\":{\"fillmode\":\"overlay\",\"size\":10,\"solidity\":0.2}},\"type\":\"barpolar\"}],\"carpet\":[{\"aaxis\":{\"endlinecolor\":\"#2a3f5f\",\"gridcolor\":\"white\",\"linecolor\":\"white\",\"minorgridcolor\":\"white\",\"startlinecolor\":\"#2a3f5f\"},\"baxis\":{\"endlinecolor\":\"#2a3f5f\",\"gridcolor\":\"white\",\"linecolor\":\"white\",\"minorgridcolor\":\"white\",\"startlinecolor\":\"#2a3f5f\"},\"type\":\"carpet\"}],\"choropleth\":[{\"colorbar\":{\"outlinewidth\":0,\"ticks\":\"\"},\"type\":\"choropleth\"}],\"contour\":[{\"colorbar\":{\"outlinewidth\":0,\"ticks\":\"\"},\"colorscale\":[[0.0,\"#0d0887\"],[0.1111111111111111,\"#46039f\"],[0.2222222222222222,\"#7201a8\"],[0.3333333333333333,\"#9c179e\"],[0.4444444444444444,\"#bd3786\"],[0.5555555555555556,\"#d8576b\"],[0.6666666666666666,\"#ed7953\"],[0.7777777777777778,\"#fb9f3a\"],[0.8888888888888888,\"#fdca26\"],[1.0,\"#f0f921\"]],\"type\":\"contour\"}],\"contourcarpet\":[{\"colorbar\":{\"outlinewidth\":0,\"ticks\":\"\"},\"type\":\"contourcarpet\"}],\"heatmap\":[{\"colorbar\":{\"outlinewidth\":0,\"ticks\":\"\"},\"colorscale\":[[0.0,\"#0d0887\"],[0.1111111111111111,\"#46039f\"],[0.2222222222222222,\"#7201a8\"],[0.3333333333333333,\"#9c179e\"],[0.4444444444444444,\"#bd3786\"],[0.5555555555555556,\"#d8576b\"],[0.6666666666666666,\"#ed7953\"],[0.7777777777777778,\"#fb9f3a\"],[0.8888888888888888,\"#fdca26\"],[1.0,\"#f0f921\"]],\"type\":\"heatmap\"}],\"heatmapgl\":[{\"colorbar\":{\"outlinewidth\":0,\"ticks\":\"\"},\"colorscale\":[[0.0,\"#0d0887\"],[0.1111111111111111,\"#46039f\"],[0.2222222222222222,\"#7201a8\"],[0.3333333333333333,\"#9c179e\"],[0.4444444444444444,\"#bd3786\"],[0.5555555555555556,\"#d8576b\"],[0.6666666666666666,\"#ed7953\"],[0.7777777777777778,\"#fb9f3a\"],[0.8888888888888888,\"#fdca26\"],[1.0,\"#f0f921\"]],\"type\":\"heatmapgl\"}],\"histogram\":[{\"marker\":{\"pattern\":{\"fillmode\":\"overlay\",\"size\":10,\"solidity\":0.2}},\"type\":\"histogram\"}],\"histogram2d\":[{\"colorbar\":{\"outlinewidth\":0,\"ticks\":\"\"},\"colorscale\":[[0.0,\"#0d0887\"],[0.1111111111111111,\"#46039f\"],[0.2222222222222222,\"#7201a8\"],[0.3333333333333333,\"#9c179e\"],[0.4444444444444444,\"#bd3786\"],[0.5555555555555556,\"#d8576b\"],[0.6666666666666666,\"#ed7953\"],[0.7777777777777778,\"#fb9f3a\"],[0.8888888888888888,\"#fdca26\"],[1.0,\"#f0f921\"]],\"type\":\"histogram2d\"}],\"histogram2dcontour\":[{\"colorbar\":{\"outlinewidth\":0,\"ticks\":\"\"},\"colorscale\":[[0.0,\"#0d0887\"],[0.1111111111111111,\"#46039f\"],[0.2222222222222222,\"#7201a8\"],[0.3333333333333333,\"#9c179e\"],[0.4444444444444444,\"#bd3786\"],[0.5555555555555556,\"#d8576b\"],[0.6666666666666666,\"#ed7953\"],[0.7777777777777778,\"#fb9f3a\"],[0.8888888888888888,\"#fdca26\"],[1.0,\"#f0f921\"]],\"type\":\"histogram2dcontour\"}],\"mesh3d\":[{\"colorbar\":{\"outlinewidth\":0,\"ticks\":\"\"},\"type\":\"mesh3d\"}],\"parcoords\":[{\"line\":{\"colorbar\":{\"outlinewidth\":0,\"ticks\":\"\"}},\"type\":\"parcoords\"}],\"pie\":[{\"automargin\":true,\"type\":\"pie\"}],\"scatter\":[{\"marker\":{\"colorbar\":{\"outlinewidth\":0,\"ticks\":\"\"}},\"type\":\"scatter\"}],\"scatter3d\":[{\"line\":{\"colorbar\":{\"outlinewidth\":0,\"ticks\":\"\"}},\"marker\":{\"colorbar\":{\"outlinewidth\":0,\"ticks\":\"\"}},\"type\":\"scatter3d\"}],\"scattercarpet\":[{\"marker\":{\"colorbar\":{\"outlinewidth\":0,\"ticks\":\"\"}},\"type\":\"scattercarpet\"}],\"scattergeo\":[{\"marker\":{\"colorbar\":{\"outlinewidth\":0,\"ticks\":\"\"}},\"type\":\"scattergeo\"}],\"scattergl\":[{\"marker\":{\"colorbar\":{\"outlinewidth\":0,\"ticks\":\"\"}},\"type\":\"scattergl\"}],\"scattermapbox\":[{\"marker\":{\"colorbar\":{\"outlinewidth\":0,\"ticks\":\"\"}},\"type\":\"scattermapbox\"}],\"scatterpolar\":[{\"marker\":{\"colorbar\":{\"outlinewidth\":0,\"ticks\":\"\"}},\"type\":\"scatterpolar\"}],\"scatterpolargl\":[{\"marker\":{\"colorbar\":{\"outlinewidth\":0,\"ticks\":\"\"}},\"type\":\"scatterpolargl\"}],\"scatterternary\":[{\"marker\":{\"colorbar\":{\"outlinewidth\":0,\"ticks\":\"\"}},\"type\":\"scatterternary\"}],\"surface\":[{\"colorbar\":{\"outlinewidth\":0,\"ticks\":\"\"},\"colorscale\":[[0.0,\"#0d0887\"],[0.1111111111111111,\"#46039f\"],[0.2222222222222222,\"#7201a8\"],[0.3333333333333333,\"#9c179e\"],[0.4444444444444444,\"#bd3786\"],[0.5555555555555556,\"#d8576b\"],[0.6666666666666666,\"#ed7953\"],[0.7777777777777778,\"#fb9f3a\"],[0.8888888888888888,\"#fdca26\"],[1.0,\"#f0f921\"]],\"type\":\"surface\"}],\"table\":[{\"cells\":{\"fill\":{\"color\":\"#EBF0F8\"},\"line\":{\"color\":\"white\"}},\"header\":{\"fill\":{\"color\":\"#C8D4E3\"},\"line\":{\"color\":\"white\"}},\"type\":\"table\"}]},\"layout\":{\"annotationdefaults\":{\"arrowcolor\":\"#2a3f5f\",\"arrowhead\":0,\"arrowwidth\":1},\"autotypenumbers\":\"strict\",\"coloraxis\":{\"colorbar\":{\"outlinewidth\":0,\"ticks\":\"\"}},\"colorscale\":{\"diverging\":[[0,\"#8e0152\"],[0.1,\"#c51b7d\"],[0.2,\"#de77ae\"],[0.3,\"#f1b6da\"],[0.4,\"#fde0ef\"],[0.5,\"#f7f7f7\"],[0.6,\"#e6f5d0\"],[0.7,\"#b8e186\"],[0.8,\"#7fbc41\"],[0.9,\"#4d9221\"],[1,\"#276419\"]],\"sequential\":[[0.0,\"#0d0887\"],[0.1111111111111111,\"#46039f\"],[0.2222222222222222,\"#7201a8\"],[0.3333333333333333,\"#9c179e\"],[0.4444444444444444,\"#bd3786\"],[0.5555555555555556,\"#d8576b\"],[0.6666666666666666,\"#ed7953\"],[0.7777777777777778,\"#fb9f3a\"],[0.8888888888888888,\"#fdca26\"],[1.0,\"#f0f921\"]],\"sequentialminus\":[[0.0,\"#0d0887\"],[0.1111111111111111,\"#46039f\"],[0.2222222222222222,\"#7201a8\"],[0.3333333333333333,\"#9c179e\"],[0.4444444444444444,\"#bd3786\"],[0.5555555555555556,\"#d8576b\"],[0.6666666666666666,\"#ed7953\"],[0.7777777777777778,\"#fb9f3a\"],[0.8888888888888888,\"#fdca26\"],[1.0,\"#f0f921\"]]},\"colorway\":[\"#636efa\",\"#EF553B\",\"#00cc96\",\"#ab63fa\",\"#FFA15A\",\"#19d3f3\",\"#FF6692\",\"#B6E880\",\"#FF97FF\",\"#FECB52\"],\"font\":{\"color\":\"#2a3f5f\"},\"geo\":{\"bgcolor\":\"white\",\"lakecolor\":\"white\",\"landcolor\":\"#E5ECF6\",\"showlakes\":true,\"showland\":true,\"subunitcolor\":\"white\"},\"hoverlabel\":{\"align\":\"left\"},\"hovermode\":\"closest\",\"mapbox\":{\"style\":\"light\"},\"paper_bgcolor\":\"white\",\"plot_bgcolor\":\"#E5ECF6\",\"polar\":{\"angularaxis\":{\"gridcolor\":\"white\",\"linecolor\":\"white\",\"ticks\":\"\"},\"bgcolor\":\"#E5ECF6\",\"radialaxis\":{\"gridcolor\":\"white\",\"linecolor\":\"white\",\"ticks\":\"\"}},\"scene\":{\"xaxis\":{\"backgroundcolor\":\"#E5ECF6\",\"gridcolor\":\"white\",\"gridwidth\":2,\"linecolor\":\"white\",\"showbackground\":true,\"ticks\":\"\",\"zerolinecolor\":\"white\"},\"yaxis\":{\"backgroundcolor\":\"#E5ECF6\",\"gridcolor\":\"white\",\"gridwidth\":2,\"linecolor\":\"white\",\"showbackground\":true,\"ticks\":\"\",\"zerolinecolor\":\"white\"},\"zaxis\":{\"backgroundcolor\":\"#E5ECF6\",\"gridcolor\":\"white\",\"gridwidth\":2,\"linecolor\":\"white\",\"showbackground\":true,\"ticks\":\"\",\"zerolinecolor\":\"white\"}},\"shapedefaults\":{\"line\":{\"color\":\"#2a3f5f\"}},\"ternary\":{\"aaxis\":{\"gridcolor\":\"white\",\"linecolor\":\"white\",\"ticks\":\"\"},\"baxis\":{\"gridcolor\":\"white\",\"linecolor\":\"white\",\"ticks\":\"\"},\"bgcolor\":\"#E5ECF6\",\"caxis\":{\"gridcolor\":\"white\",\"linecolor\":\"white\",\"ticks\":\"\"}},\"title\":{\"x\":0.05},\"xaxis\":{\"automargin\":true,\"gridcolor\":\"white\",\"linecolor\":\"white\",\"ticks\":\"\",\"title\":{\"standoff\":15},\"zerolinecolor\":\"white\",\"zerolinewidth\":2},\"yaxis\":{\"automargin\":true,\"gridcolor\":\"white\",\"linecolor\":\"white\",\"ticks\":\"\",\"title\":{\"standoff\":15},\"zerolinecolor\":\"white\",\"zerolinewidth\":2}}},\"xaxis\":{\"title\":{\"text\":\"alpha\"},\"type\":\"log\"},\"yaxis\":{\"title\":{\"text\":\"Objective Value\"}}},                        {\"responsive\": true}                    ).then(function(){\n",
              "                            \n",
              "var gd = document.getElementById('2e27d68c-f888-451d-aefc-c2999b18aa29');\n",
              "var x = new MutationObserver(function (mutations, observer) {{\n",
              "        var display = window.getComputedStyle(gd).display;\n",
              "        if (!display || display === 'none') {{\n",
              "            console.log([gd, 'removed!']);\n",
              "            Plotly.purge(gd);\n",
              "            observer.disconnect();\n",
              "        }}\n",
              "}});\n",
              "\n",
              "// Listen for the removal of the full notebook cells\n",
              "var notebookContainer = gd.closest('#notebook-container');\n",
              "if (notebookContainer) {{\n",
              "    x.observe(notebookContainer, {childList: true});\n",
              "}}\n",
              "\n",
              "// Listen for the clearing of the current output cell\n",
              "var outputEl = gd.closest('.output');\n",
              "if (outputEl) {{\n",
              "    x.observe(outputEl, {childList: true});\n",
              "}}\n",
              "\n",
              "                        })                };                            </script>        </div>\n",
              "</body>\n",
              "</html>"
            ]
          },
          "metadata": {}
        }
      ]
    },
    {
      "cell_type": "code",
      "source": [
        "plot_param_importances(study)"
      ],
      "metadata": {
        "colab": {
          "base_uri": "https://localhost:8080/",
          "height": 542
        },
        "id": "S-NQJhihFaOh",
        "outputId": "682c8fbc-a05d-4aa8-e5a9-2c62e56b41a6"
      },
      "execution_count": 50,
      "outputs": [
        {
          "output_type": "display_data",
          "data": {
            "text/html": [
              "<html>\n",
              "<head><meta charset=\"utf-8\" /></head>\n",
              "<body>\n",
              "    <div>            <script src=\"https://cdnjs.cloudflare.com/ajax/libs/mathjax/2.7.5/MathJax.js?config=TeX-AMS-MML_SVG\"></script><script type=\"text/javascript\">if (window.MathJax) {MathJax.Hub.Config({SVG: {font: \"STIX-Web\"}});}</script>                <script type=\"text/javascript\">window.PlotlyConfig = {MathJaxConfig: 'local'};</script>\n",
              "        <script src=\"https://cdn.plot.ly/plotly-2.8.3.min.js\"></script>                <div id=\"b4d47ea2-5e68-41dc-9262-e8aa8edc10c5\" class=\"plotly-graph-div\" style=\"height:525px; width:100%;\"></div>            <script type=\"text/javascript\">                                    window.PLOTLYENV=window.PLOTLYENV || {};                                    if (document.getElementById(\"b4d47ea2-5e68-41dc-9262-e8aa8edc10c5\")) {                    Plotly.newPlot(                        \"b4d47ea2-5e68-41dc-9262-e8aa8edc10c5\",                        [{\"cliponaxis\":false,\"hovertemplate\":[\"alpha (FloatDistribution): 1.0<extra></extra>\"],\"marker\":{\"color\":\"rgb(66,146,198)\"},\"orientation\":\"h\",\"text\":[\"1.00\"],\"textposition\":\"outside\",\"x\":[1.0],\"y\":[\"alpha\"],\"type\":\"bar\"}],                        {\"showlegend\":false,\"title\":{\"text\":\"Hyperparameter Importances\"},\"xaxis\":{\"title\":{\"text\":\"Importance for Objective Value\"}},\"yaxis\":{\"title\":{\"text\":\"Hyperparameter\"}},\"template\":{\"data\":{\"bar\":[{\"error_x\":{\"color\":\"#2a3f5f\"},\"error_y\":{\"color\":\"#2a3f5f\"},\"marker\":{\"line\":{\"color\":\"#E5ECF6\",\"width\":0.5},\"pattern\":{\"fillmode\":\"overlay\",\"size\":10,\"solidity\":0.2}},\"type\":\"bar\"}],\"barpolar\":[{\"marker\":{\"line\":{\"color\":\"#E5ECF6\",\"width\":0.5},\"pattern\":{\"fillmode\":\"overlay\",\"size\":10,\"solidity\":0.2}},\"type\":\"barpolar\"}],\"carpet\":[{\"aaxis\":{\"endlinecolor\":\"#2a3f5f\",\"gridcolor\":\"white\",\"linecolor\":\"white\",\"minorgridcolor\":\"white\",\"startlinecolor\":\"#2a3f5f\"},\"baxis\":{\"endlinecolor\":\"#2a3f5f\",\"gridcolor\":\"white\",\"linecolor\":\"white\",\"minorgridcolor\":\"white\",\"startlinecolor\":\"#2a3f5f\"},\"type\":\"carpet\"}],\"choropleth\":[{\"colorbar\":{\"outlinewidth\":0,\"ticks\":\"\"},\"type\":\"choropleth\"}],\"contour\":[{\"colorbar\":{\"outlinewidth\":0,\"ticks\":\"\"},\"colorscale\":[[0.0,\"#0d0887\"],[0.1111111111111111,\"#46039f\"],[0.2222222222222222,\"#7201a8\"],[0.3333333333333333,\"#9c179e\"],[0.4444444444444444,\"#bd3786\"],[0.5555555555555556,\"#d8576b\"],[0.6666666666666666,\"#ed7953\"],[0.7777777777777778,\"#fb9f3a\"],[0.8888888888888888,\"#fdca26\"],[1.0,\"#f0f921\"]],\"type\":\"contour\"}],\"contourcarpet\":[{\"colorbar\":{\"outlinewidth\":0,\"ticks\":\"\"},\"type\":\"contourcarpet\"}],\"heatmap\":[{\"colorbar\":{\"outlinewidth\":0,\"ticks\":\"\"},\"colorscale\":[[0.0,\"#0d0887\"],[0.1111111111111111,\"#46039f\"],[0.2222222222222222,\"#7201a8\"],[0.3333333333333333,\"#9c179e\"],[0.4444444444444444,\"#bd3786\"],[0.5555555555555556,\"#d8576b\"],[0.6666666666666666,\"#ed7953\"],[0.7777777777777778,\"#fb9f3a\"],[0.8888888888888888,\"#fdca26\"],[1.0,\"#f0f921\"]],\"type\":\"heatmap\"}],\"heatmapgl\":[{\"colorbar\":{\"outlinewidth\":0,\"ticks\":\"\"},\"colorscale\":[[0.0,\"#0d0887\"],[0.1111111111111111,\"#46039f\"],[0.2222222222222222,\"#7201a8\"],[0.3333333333333333,\"#9c179e\"],[0.4444444444444444,\"#bd3786\"],[0.5555555555555556,\"#d8576b\"],[0.6666666666666666,\"#ed7953\"],[0.7777777777777778,\"#fb9f3a\"],[0.8888888888888888,\"#fdca26\"],[1.0,\"#f0f921\"]],\"type\":\"heatmapgl\"}],\"histogram\":[{\"marker\":{\"pattern\":{\"fillmode\":\"overlay\",\"size\":10,\"solidity\":0.2}},\"type\":\"histogram\"}],\"histogram2d\":[{\"colorbar\":{\"outlinewidth\":0,\"ticks\":\"\"},\"colorscale\":[[0.0,\"#0d0887\"],[0.1111111111111111,\"#46039f\"],[0.2222222222222222,\"#7201a8\"],[0.3333333333333333,\"#9c179e\"],[0.4444444444444444,\"#bd3786\"],[0.5555555555555556,\"#d8576b\"],[0.6666666666666666,\"#ed7953\"],[0.7777777777777778,\"#fb9f3a\"],[0.8888888888888888,\"#fdca26\"],[1.0,\"#f0f921\"]],\"type\":\"histogram2d\"}],\"histogram2dcontour\":[{\"colorbar\":{\"outlinewidth\":0,\"ticks\":\"\"},\"colorscale\":[[0.0,\"#0d0887\"],[0.1111111111111111,\"#46039f\"],[0.2222222222222222,\"#7201a8\"],[0.3333333333333333,\"#9c179e\"],[0.4444444444444444,\"#bd3786\"],[0.5555555555555556,\"#d8576b\"],[0.6666666666666666,\"#ed7953\"],[0.7777777777777778,\"#fb9f3a\"],[0.8888888888888888,\"#fdca26\"],[1.0,\"#f0f921\"]],\"type\":\"histogram2dcontour\"}],\"mesh3d\":[{\"colorbar\":{\"outlinewidth\":0,\"ticks\":\"\"},\"type\":\"mesh3d\"}],\"parcoords\":[{\"line\":{\"colorbar\":{\"outlinewidth\":0,\"ticks\":\"\"}},\"type\":\"parcoords\"}],\"pie\":[{\"automargin\":true,\"type\":\"pie\"}],\"scatter\":[{\"marker\":{\"colorbar\":{\"outlinewidth\":0,\"ticks\":\"\"}},\"type\":\"scatter\"}],\"scatter3d\":[{\"line\":{\"colorbar\":{\"outlinewidth\":0,\"ticks\":\"\"}},\"marker\":{\"colorbar\":{\"outlinewidth\":0,\"ticks\":\"\"}},\"type\":\"scatter3d\"}],\"scattercarpet\":[{\"marker\":{\"colorbar\":{\"outlinewidth\":0,\"ticks\":\"\"}},\"type\":\"scattercarpet\"}],\"scattergeo\":[{\"marker\":{\"colorbar\":{\"outlinewidth\":0,\"ticks\":\"\"}},\"type\":\"scattergeo\"}],\"scattergl\":[{\"marker\":{\"colorbar\":{\"outlinewidth\":0,\"ticks\":\"\"}},\"type\":\"scattergl\"}],\"scattermapbox\":[{\"marker\":{\"colorbar\":{\"outlinewidth\":0,\"ticks\":\"\"}},\"type\":\"scattermapbox\"}],\"scatterpolar\":[{\"marker\":{\"colorbar\":{\"outlinewidth\":0,\"ticks\":\"\"}},\"type\":\"scatterpolar\"}],\"scatterpolargl\":[{\"marker\":{\"colorbar\":{\"outlinewidth\":0,\"ticks\":\"\"}},\"type\":\"scatterpolargl\"}],\"scatterternary\":[{\"marker\":{\"colorbar\":{\"outlinewidth\":0,\"ticks\":\"\"}},\"type\":\"scatterternary\"}],\"surface\":[{\"colorbar\":{\"outlinewidth\":0,\"ticks\":\"\"},\"colorscale\":[[0.0,\"#0d0887\"],[0.1111111111111111,\"#46039f\"],[0.2222222222222222,\"#7201a8\"],[0.3333333333333333,\"#9c179e\"],[0.4444444444444444,\"#bd3786\"],[0.5555555555555556,\"#d8576b\"],[0.6666666666666666,\"#ed7953\"],[0.7777777777777778,\"#fb9f3a\"],[0.8888888888888888,\"#fdca26\"],[1.0,\"#f0f921\"]],\"type\":\"surface\"}],\"table\":[{\"cells\":{\"fill\":{\"color\":\"#EBF0F8\"},\"line\":{\"color\":\"white\"}},\"header\":{\"fill\":{\"color\":\"#C8D4E3\"},\"line\":{\"color\":\"white\"}},\"type\":\"table\"}]},\"layout\":{\"annotationdefaults\":{\"arrowcolor\":\"#2a3f5f\",\"arrowhead\":0,\"arrowwidth\":1},\"autotypenumbers\":\"strict\",\"coloraxis\":{\"colorbar\":{\"outlinewidth\":0,\"ticks\":\"\"}},\"colorscale\":{\"diverging\":[[0,\"#8e0152\"],[0.1,\"#c51b7d\"],[0.2,\"#de77ae\"],[0.3,\"#f1b6da\"],[0.4,\"#fde0ef\"],[0.5,\"#f7f7f7\"],[0.6,\"#e6f5d0\"],[0.7,\"#b8e186\"],[0.8,\"#7fbc41\"],[0.9,\"#4d9221\"],[1,\"#276419\"]],\"sequential\":[[0.0,\"#0d0887\"],[0.1111111111111111,\"#46039f\"],[0.2222222222222222,\"#7201a8\"],[0.3333333333333333,\"#9c179e\"],[0.4444444444444444,\"#bd3786\"],[0.5555555555555556,\"#d8576b\"],[0.6666666666666666,\"#ed7953\"],[0.7777777777777778,\"#fb9f3a\"],[0.8888888888888888,\"#fdca26\"],[1.0,\"#f0f921\"]],\"sequentialminus\":[[0.0,\"#0d0887\"],[0.1111111111111111,\"#46039f\"],[0.2222222222222222,\"#7201a8\"],[0.3333333333333333,\"#9c179e\"],[0.4444444444444444,\"#bd3786\"],[0.5555555555555556,\"#d8576b\"],[0.6666666666666666,\"#ed7953\"],[0.7777777777777778,\"#fb9f3a\"],[0.8888888888888888,\"#fdca26\"],[1.0,\"#f0f921\"]]},\"colorway\":[\"#636efa\",\"#EF553B\",\"#00cc96\",\"#ab63fa\",\"#FFA15A\",\"#19d3f3\",\"#FF6692\",\"#B6E880\",\"#FF97FF\",\"#FECB52\"],\"font\":{\"color\":\"#2a3f5f\"},\"geo\":{\"bgcolor\":\"white\",\"lakecolor\":\"white\",\"landcolor\":\"#E5ECF6\",\"showlakes\":true,\"showland\":true,\"subunitcolor\":\"white\"},\"hoverlabel\":{\"align\":\"left\"},\"hovermode\":\"closest\",\"mapbox\":{\"style\":\"light\"},\"paper_bgcolor\":\"white\",\"plot_bgcolor\":\"#E5ECF6\",\"polar\":{\"angularaxis\":{\"gridcolor\":\"white\",\"linecolor\":\"white\",\"ticks\":\"\"},\"bgcolor\":\"#E5ECF6\",\"radialaxis\":{\"gridcolor\":\"white\",\"linecolor\":\"white\",\"ticks\":\"\"}},\"scene\":{\"xaxis\":{\"backgroundcolor\":\"#E5ECF6\",\"gridcolor\":\"white\",\"gridwidth\":2,\"linecolor\":\"white\",\"showbackground\":true,\"ticks\":\"\",\"zerolinecolor\":\"white\"},\"yaxis\":{\"backgroundcolor\":\"#E5ECF6\",\"gridcolor\":\"white\",\"gridwidth\":2,\"linecolor\":\"white\",\"showbackground\":true,\"ticks\":\"\",\"zerolinecolor\":\"white\"},\"zaxis\":{\"backgroundcolor\":\"#E5ECF6\",\"gridcolor\":\"white\",\"gridwidth\":2,\"linecolor\":\"white\",\"showbackground\":true,\"ticks\":\"\",\"zerolinecolor\":\"white\"}},\"shapedefaults\":{\"line\":{\"color\":\"#2a3f5f\"}},\"ternary\":{\"aaxis\":{\"gridcolor\":\"white\",\"linecolor\":\"white\",\"ticks\":\"\"},\"baxis\":{\"gridcolor\":\"white\",\"linecolor\":\"white\",\"ticks\":\"\"},\"bgcolor\":\"#E5ECF6\",\"caxis\":{\"gridcolor\":\"white\",\"linecolor\":\"white\",\"ticks\":\"\"}},\"title\":{\"x\":0.05},\"xaxis\":{\"automargin\":true,\"gridcolor\":\"white\",\"linecolor\":\"white\",\"ticks\":\"\",\"title\":{\"standoff\":15},\"zerolinecolor\":\"white\",\"zerolinewidth\":2},\"yaxis\":{\"automargin\":true,\"gridcolor\":\"white\",\"linecolor\":\"white\",\"ticks\":\"\",\"title\":{\"standoff\":15},\"zerolinecolor\":\"white\",\"zerolinewidth\":2}}}},                        {\"responsive\": true}                    ).then(function(){\n",
              "                            \n",
              "var gd = document.getElementById('b4d47ea2-5e68-41dc-9262-e8aa8edc10c5');\n",
              "var x = new MutationObserver(function (mutations, observer) {{\n",
              "        var display = window.getComputedStyle(gd).display;\n",
              "        if (!display || display === 'none') {{\n",
              "            console.log([gd, 'removed!']);\n",
              "            Plotly.purge(gd);\n",
              "            observer.disconnect();\n",
              "        }}\n",
              "}});\n",
              "\n",
              "// Listen for the removal of the full notebook cells\n",
              "var notebookContainer = gd.closest('#notebook-container');\n",
              "if (notebookContainer) {{\n",
              "    x.observe(notebookContainer, {childList: true});\n",
              "}}\n",
              "\n",
              "// Listen for the clearing of the current output cell\n",
              "var outputEl = gd.closest('.output');\n",
              "if (outputEl) {{\n",
              "    x.observe(outputEl, {childList: true});\n",
              "}}\n",
              "\n",
              "                        })                };                            </script>        </div>\n",
              "</body>\n",
              "</html>"
            ]
          },
          "metadata": {}
        }
      ]
    },
    {
      "cell_type": "code",
      "source": [
        "plot_edf(study)"
      ],
      "metadata": {
        "colab": {
          "base_uri": "https://localhost:8080/",
          "height": 542
        },
        "id": "sg3RjvFSFbt_",
        "outputId": "fa958bff-27df-41b7-f405-63ff0e52c2ff"
      },
      "execution_count": 51,
      "outputs": [
        {
          "output_type": "display_data",
          "data": {
            "text/html": [
              "<html>\n",
              "<head><meta charset=\"utf-8\" /></head>\n",
              "<body>\n",
              "    <div>            <script src=\"https://cdnjs.cloudflare.com/ajax/libs/mathjax/2.7.5/MathJax.js?config=TeX-AMS-MML_SVG\"></script><script type=\"text/javascript\">if (window.MathJax) {MathJax.Hub.Config({SVG: {font: \"STIX-Web\"}});}</script>                <script type=\"text/javascript\">window.PlotlyConfig = {MathJaxConfig: 'local'};</script>\n",
              "        <script src=\"https://cdn.plot.ly/plotly-2.8.3.min.js\"></script>                <div id=\"e3507edb-df81-4c28-a1e2-d73c9b7fa855\" class=\"plotly-graph-div\" style=\"height:525px; width:100%;\"></div>            <script type=\"text/javascript\">                                    window.PLOTLYENV=window.PLOTLYENV || {};                                    if (document.getElementById(\"e3507edb-df81-4c28-a1e2-d73c9b7fa855\")) {                    Plotly.newPlot(                        \"e3507edb-df81-4c28-a1e2-d73c9b7fa855\",                        [{\"mode\":\"lines\",\"name\":\"no-name-3ae68bbf-8d38-4f38-91ae-df88fad04afc\",\"x\":[0.990990990990991,0.991081991081991,0.9911729911729912,0.9912639912639912,0.9913549913549914,0.9914459914459914,0.9915369915369915,0.9916279916279916,0.9917189917189917,0.9918099918099917,0.9919009919009919,0.991991991991992,0.9920829920829921,0.9921739921739922,0.9922649922649922,0.9923559923559924,0.9924469924469924,0.9925379925379926,0.9926289926289926,0.9927199927199927,0.9928109928109928,0.9929019929019929,0.9929929929929929,0.9930839930839931,0.9931749931749931,0.9932659932659933,0.9933569933569933,0.9934479934479934,0.9935389935389936,0.9936299936299936,0.9937209937209938,0.9938119938119938,0.9939029939029939,0.993993993993994,0.9940849940849941,0.9941759941759941,0.9942669942669943,0.9943579943579943,0.9944489944489945,0.9945399945399945,0.9946309946309946,0.9947219947219947,0.9948129948129948,0.9949039949039948,0.994994994994995,0.995085995085995,0.9951769951769952,0.9952679952679953,0.9953589953589953,0.9954499954499955,0.9955409955409955,0.9956319956319957,0.9957229957229957,0.9958139958139958,0.9959049959049959,0.995995995995996,0.996086996086996,0.9961779961779962,0.9962689962689962,0.9963599963599964,0.9964509964509964,0.9965419965419965,0.9966329966329966,0.9967239967239967,0.9968149968149969,0.9969059969059969,0.996996996996997,0.9970879970879971,0.9971789971789972,0.9972699972699972,0.9973609973609974,0.9974519974519974,0.9975429975429976,0.9976339976339976,0.9977249977249977,0.9978159978159978,0.9979069979069979,0.997997997997998,0.9980889980889981,0.9981799981799981,0.9982709982709983,0.9983619983619983,0.9984529984529984,0.9985439985439986,0.9986349986349986,0.9987259987259988,0.9988169988169988,0.9989079989079989,0.998998998998999,0.9990899990899991,0.9991809991809992,0.9992719992719993,0.9993629993629993,0.9994539994539995,0.9995449995449995,0.9996359996359996,0.9997269997269997,0.9998179998179998,0.999908999909,1.0],\"y\":[0.36363636363636365,0.36363636363636365,0.36363636363636365,0.36363636363636365,0.36363636363636365,0.36363636363636365,0.36363636363636365,0.36363636363636365,0.36363636363636365,0.36363636363636365,0.36363636363636365,0.36363636363636365,0.36363636363636365,0.36363636363636365,0.36363636363636365,0.36363636363636365,0.36363636363636365,0.36363636363636365,0.36363636363636365,0.36363636363636365,0.36363636363636365,0.36363636363636365,0.36363636363636365,0.36363636363636365,0.36363636363636365,0.36363636363636365,0.36363636363636365,0.36363636363636365,0.36363636363636365,0.36363636363636365,0.36363636363636365,0.36363636363636365,0.36363636363636365,0.36363636363636365,0.36363636363636365,0.36363636363636365,0.36363636363636365,0.36363636363636365,0.36363636363636365,0.36363636363636365,0.36363636363636365,0.36363636363636365,0.36363636363636365,0.36363636363636365,0.36363636363636365,0.36363636363636365,0.36363636363636365,0.36363636363636365,0.36363636363636365,0.36363636363636365,0.36363636363636365,0.36363636363636365,0.36363636363636365,0.36363636363636365,0.36363636363636365,0.36363636363636365,0.36363636363636365,0.36363636363636365,0.36363636363636365,0.36363636363636365,0.36363636363636365,0.36363636363636365,0.36363636363636365,0.36363636363636365,0.36363636363636365,0.36363636363636365,0.36363636363636365,0.36363636363636365,0.36363636363636365,0.36363636363636365,0.36363636363636365,0.36363636363636365,0.36363636363636365,0.36363636363636365,0.36363636363636365,0.36363636363636365,0.36363636363636365,0.36363636363636365,0.36363636363636365,0.36363636363636365,0.36363636363636365,0.36363636363636365,0.36363636363636365,0.36363636363636365,0.36363636363636365,0.36363636363636365,0.36363636363636365,0.36363636363636365,0.36363636363636365,0.36363636363636365,0.36363636363636365,0.36363636363636365,0.36363636363636365,0.36363636363636365,0.36363636363636365,0.36363636363636365,0.36363636363636365,0.36363636363636365,0.36363636363636365,1.0],\"type\":\"scatter\"}],                        {\"title\":{\"text\":\"Empirical Distribution Function Plot\"},\"xaxis\":{\"title\":{\"text\":\"Objective Value\"}},\"yaxis\":{\"title\":{\"text\":\"Cumulative Probability\"},\"range\":[0,1]},\"template\":{\"data\":{\"bar\":[{\"error_x\":{\"color\":\"#2a3f5f\"},\"error_y\":{\"color\":\"#2a3f5f\"},\"marker\":{\"line\":{\"color\":\"#E5ECF6\",\"width\":0.5},\"pattern\":{\"fillmode\":\"overlay\",\"size\":10,\"solidity\":0.2}},\"type\":\"bar\"}],\"barpolar\":[{\"marker\":{\"line\":{\"color\":\"#E5ECF6\",\"width\":0.5},\"pattern\":{\"fillmode\":\"overlay\",\"size\":10,\"solidity\":0.2}},\"type\":\"barpolar\"}],\"carpet\":[{\"aaxis\":{\"endlinecolor\":\"#2a3f5f\",\"gridcolor\":\"white\",\"linecolor\":\"white\",\"minorgridcolor\":\"white\",\"startlinecolor\":\"#2a3f5f\"},\"baxis\":{\"endlinecolor\":\"#2a3f5f\",\"gridcolor\":\"white\",\"linecolor\":\"white\",\"minorgridcolor\":\"white\",\"startlinecolor\":\"#2a3f5f\"},\"type\":\"carpet\"}],\"choropleth\":[{\"colorbar\":{\"outlinewidth\":0,\"ticks\":\"\"},\"type\":\"choropleth\"}],\"contour\":[{\"colorbar\":{\"outlinewidth\":0,\"ticks\":\"\"},\"colorscale\":[[0.0,\"#0d0887\"],[0.1111111111111111,\"#46039f\"],[0.2222222222222222,\"#7201a8\"],[0.3333333333333333,\"#9c179e\"],[0.4444444444444444,\"#bd3786\"],[0.5555555555555556,\"#d8576b\"],[0.6666666666666666,\"#ed7953\"],[0.7777777777777778,\"#fb9f3a\"],[0.8888888888888888,\"#fdca26\"],[1.0,\"#f0f921\"]],\"type\":\"contour\"}],\"contourcarpet\":[{\"colorbar\":{\"outlinewidth\":0,\"ticks\":\"\"},\"type\":\"contourcarpet\"}],\"heatmap\":[{\"colorbar\":{\"outlinewidth\":0,\"ticks\":\"\"},\"colorscale\":[[0.0,\"#0d0887\"],[0.1111111111111111,\"#46039f\"],[0.2222222222222222,\"#7201a8\"],[0.3333333333333333,\"#9c179e\"],[0.4444444444444444,\"#bd3786\"],[0.5555555555555556,\"#d8576b\"],[0.6666666666666666,\"#ed7953\"],[0.7777777777777778,\"#fb9f3a\"],[0.8888888888888888,\"#fdca26\"],[1.0,\"#f0f921\"]],\"type\":\"heatmap\"}],\"heatmapgl\":[{\"colorbar\":{\"outlinewidth\":0,\"ticks\":\"\"},\"colorscale\":[[0.0,\"#0d0887\"],[0.1111111111111111,\"#46039f\"],[0.2222222222222222,\"#7201a8\"],[0.3333333333333333,\"#9c179e\"],[0.4444444444444444,\"#bd3786\"],[0.5555555555555556,\"#d8576b\"],[0.6666666666666666,\"#ed7953\"],[0.7777777777777778,\"#fb9f3a\"],[0.8888888888888888,\"#fdca26\"],[1.0,\"#f0f921\"]],\"type\":\"heatmapgl\"}],\"histogram\":[{\"marker\":{\"pattern\":{\"fillmode\":\"overlay\",\"size\":10,\"solidity\":0.2}},\"type\":\"histogram\"}],\"histogram2d\":[{\"colorbar\":{\"outlinewidth\":0,\"ticks\":\"\"},\"colorscale\":[[0.0,\"#0d0887\"],[0.1111111111111111,\"#46039f\"],[0.2222222222222222,\"#7201a8\"],[0.3333333333333333,\"#9c179e\"],[0.4444444444444444,\"#bd3786\"],[0.5555555555555556,\"#d8576b\"],[0.6666666666666666,\"#ed7953\"],[0.7777777777777778,\"#fb9f3a\"],[0.8888888888888888,\"#fdca26\"],[1.0,\"#f0f921\"]],\"type\":\"histogram2d\"}],\"histogram2dcontour\":[{\"colorbar\":{\"outlinewidth\":0,\"ticks\":\"\"},\"colorscale\":[[0.0,\"#0d0887\"],[0.1111111111111111,\"#46039f\"],[0.2222222222222222,\"#7201a8\"],[0.3333333333333333,\"#9c179e\"],[0.4444444444444444,\"#bd3786\"],[0.5555555555555556,\"#d8576b\"],[0.6666666666666666,\"#ed7953\"],[0.7777777777777778,\"#fb9f3a\"],[0.8888888888888888,\"#fdca26\"],[1.0,\"#f0f921\"]],\"type\":\"histogram2dcontour\"}],\"mesh3d\":[{\"colorbar\":{\"outlinewidth\":0,\"ticks\":\"\"},\"type\":\"mesh3d\"}],\"parcoords\":[{\"line\":{\"colorbar\":{\"outlinewidth\":0,\"ticks\":\"\"}},\"type\":\"parcoords\"}],\"pie\":[{\"automargin\":true,\"type\":\"pie\"}],\"scatter\":[{\"marker\":{\"colorbar\":{\"outlinewidth\":0,\"ticks\":\"\"}},\"type\":\"scatter\"}],\"scatter3d\":[{\"line\":{\"colorbar\":{\"outlinewidth\":0,\"ticks\":\"\"}},\"marker\":{\"colorbar\":{\"outlinewidth\":0,\"ticks\":\"\"}},\"type\":\"scatter3d\"}],\"scattercarpet\":[{\"marker\":{\"colorbar\":{\"outlinewidth\":0,\"ticks\":\"\"}},\"type\":\"scattercarpet\"}],\"scattergeo\":[{\"marker\":{\"colorbar\":{\"outlinewidth\":0,\"ticks\":\"\"}},\"type\":\"scattergeo\"}],\"scattergl\":[{\"marker\":{\"colorbar\":{\"outlinewidth\":0,\"ticks\":\"\"}},\"type\":\"scattergl\"}],\"scattermapbox\":[{\"marker\":{\"colorbar\":{\"outlinewidth\":0,\"ticks\":\"\"}},\"type\":\"scattermapbox\"}],\"scatterpolar\":[{\"marker\":{\"colorbar\":{\"outlinewidth\":0,\"ticks\":\"\"}},\"type\":\"scatterpolar\"}],\"scatterpolargl\":[{\"marker\":{\"colorbar\":{\"outlinewidth\":0,\"ticks\":\"\"}},\"type\":\"scatterpolargl\"}],\"scatterternary\":[{\"marker\":{\"colorbar\":{\"outlinewidth\":0,\"ticks\":\"\"}},\"type\":\"scatterternary\"}],\"surface\":[{\"colorbar\":{\"outlinewidth\":0,\"ticks\":\"\"},\"colorscale\":[[0.0,\"#0d0887\"],[0.1111111111111111,\"#46039f\"],[0.2222222222222222,\"#7201a8\"],[0.3333333333333333,\"#9c179e\"],[0.4444444444444444,\"#bd3786\"],[0.5555555555555556,\"#d8576b\"],[0.6666666666666666,\"#ed7953\"],[0.7777777777777778,\"#fb9f3a\"],[0.8888888888888888,\"#fdca26\"],[1.0,\"#f0f921\"]],\"type\":\"surface\"}],\"table\":[{\"cells\":{\"fill\":{\"color\":\"#EBF0F8\"},\"line\":{\"color\":\"white\"}},\"header\":{\"fill\":{\"color\":\"#C8D4E3\"},\"line\":{\"color\":\"white\"}},\"type\":\"table\"}]},\"layout\":{\"annotationdefaults\":{\"arrowcolor\":\"#2a3f5f\",\"arrowhead\":0,\"arrowwidth\":1},\"autotypenumbers\":\"strict\",\"coloraxis\":{\"colorbar\":{\"outlinewidth\":0,\"ticks\":\"\"}},\"colorscale\":{\"diverging\":[[0,\"#8e0152\"],[0.1,\"#c51b7d\"],[0.2,\"#de77ae\"],[0.3,\"#f1b6da\"],[0.4,\"#fde0ef\"],[0.5,\"#f7f7f7\"],[0.6,\"#e6f5d0\"],[0.7,\"#b8e186\"],[0.8,\"#7fbc41\"],[0.9,\"#4d9221\"],[1,\"#276419\"]],\"sequential\":[[0.0,\"#0d0887\"],[0.1111111111111111,\"#46039f\"],[0.2222222222222222,\"#7201a8\"],[0.3333333333333333,\"#9c179e\"],[0.4444444444444444,\"#bd3786\"],[0.5555555555555556,\"#d8576b\"],[0.6666666666666666,\"#ed7953\"],[0.7777777777777778,\"#fb9f3a\"],[0.8888888888888888,\"#fdca26\"],[1.0,\"#f0f921\"]],\"sequentialminus\":[[0.0,\"#0d0887\"],[0.1111111111111111,\"#46039f\"],[0.2222222222222222,\"#7201a8\"],[0.3333333333333333,\"#9c179e\"],[0.4444444444444444,\"#bd3786\"],[0.5555555555555556,\"#d8576b\"],[0.6666666666666666,\"#ed7953\"],[0.7777777777777778,\"#fb9f3a\"],[0.8888888888888888,\"#fdca26\"],[1.0,\"#f0f921\"]]},\"colorway\":[\"#636efa\",\"#EF553B\",\"#00cc96\",\"#ab63fa\",\"#FFA15A\",\"#19d3f3\",\"#FF6692\",\"#B6E880\",\"#FF97FF\",\"#FECB52\"],\"font\":{\"color\":\"#2a3f5f\"},\"geo\":{\"bgcolor\":\"white\",\"lakecolor\":\"white\",\"landcolor\":\"#E5ECF6\",\"showlakes\":true,\"showland\":true,\"subunitcolor\":\"white\"},\"hoverlabel\":{\"align\":\"left\"},\"hovermode\":\"closest\",\"mapbox\":{\"style\":\"light\"},\"paper_bgcolor\":\"white\",\"plot_bgcolor\":\"#E5ECF6\",\"polar\":{\"angularaxis\":{\"gridcolor\":\"white\",\"linecolor\":\"white\",\"ticks\":\"\"},\"bgcolor\":\"#E5ECF6\",\"radialaxis\":{\"gridcolor\":\"white\",\"linecolor\":\"white\",\"ticks\":\"\"}},\"scene\":{\"xaxis\":{\"backgroundcolor\":\"#E5ECF6\",\"gridcolor\":\"white\",\"gridwidth\":2,\"linecolor\":\"white\",\"showbackground\":true,\"ticks\":\"\",\"zerolinecolor\":\"white\"},\"yaxis\":{\"backgroundcolor\":\"#E5ECF6\",\"gridcolor\":\"white\",\"gridwidth\":2,\"linecolor\":\"white\",\"showbackground\":true,\"ticks\":\"\",\"zerolinecolor\":\"white\"},\"zaxis\":{\"backgroundcolor\":\"#E5ECF6\",\"gridcolor\":\"white\",\"gridwidth\":2,\"linecolor\":\"white\",\"showbackground\":true,\"ticks\":\"\",\"zerolinecolor\":\"white\"}},\"shapedefaults\":{\"line\":{\"color\":\"#2a3f5f\"}},\"ternary\":{\"aaxis\":{\"gridcolor\":\"white\",\"linecolor\":\"white\",\"ticks\":\"\"},\"baxis\":{\"gridcolor\":\"white\",\"linecolor\":\"white\",\"ticks\":\"\"},\"bgcolor\":\"#E5ECF6\",\"caxis\":{\"gridcolor\":\"white\",\"linecolor\":\"white\",\"ticks\":\"\"}},\"title\":{\"x\":0.05},\"xaxis\":{\"automargin\":true,\"gridcolor\":\"white\",\"linecolor\":\"white\",\"ticks\":\"\",\"title\":{\"standoff\":15},\"zerolinecolor\":\"white\",\"zerolinewidth\":2},\"yaxis\":{\"automargin\":true,\"gridcolor\":\"white\",\"linecolor\":\"white\",\"ticks\":\"\",\"title\":{\"standoff\":15},\"zerolinecolor\":\"white\",\"zerolinewidth\":2}}}},                        {\"responsive\": true}                    ).then(function(){\n",
              "                            \n",
              "var gd = document.getElementById('e3507edb-df81-4c28-a1e2-d73c9b7fa855');\n",
              "var x = new MutationObserver(function (mutations, observer) {{\n",
              "        var display = window.getComputedStyle(gd).display;\n",
              "        if (!display || display === 'none') {{\n",
              "            console.log([gd, 'removed!']);\n",
              "            Plotly.purge(gd);\n",
              "            observer.disconnect();\n",
              "        }}\n",
              "}});\n",
              "\n",
              "// Listen for the removal of the full notebook cells\n",
              "var notebookContainer = gd.closest('#notebook-container');\n",
              "if (notebookContainer) {{\n",
              "    x.observe(notebookContainer, {childList: true});\n",
              "}}\n",
              "\n",
              "// Listen for the clearing of the current output cell\n",
              "var outputEl = gd.closest('.output');\n",
              "if (outputEl) {{\n",
              "    x.observe(outputEl, {childList: true});\n",
              "}}\n",
              "\n",
              "                        })                };                            </script>        </div>\n",
              "</body>\n",
              "</html>"
            ]
          },
          "metadata": {}
        }
      ]
    }
  ]
}