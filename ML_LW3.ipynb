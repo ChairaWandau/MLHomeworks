{
  "nbformat": 4,
  "nbformat_minor": 0,
  "metadata": {
    "colab": {
      "provenance": [],
      "collapsed_sections": [],
      "authorship_tag": "ABX9TyMuUliMUQMwwQhj70pwDaCm",
      "include_colab_link": true
    },
    "kernelspec": {
      "name": "python3",
      "display_name": "Python 3"
    },
    "language_info": {
      "name": "python"
    }
  },
  "cells": [
    {
      "cell_type": "markdown",
      "metadata": {
        "id": "view-in-github",
        "colab_type": "text"
      },
      "source": [
        "<a href=\"https://colab.research.google.com/github/ChairaWandau/MLHomeworks/blob/main/ML_LW3.ipynb\" target=\"_parent\"><img src=\"https://colab.research.google.com/assets/colab-badge.svg\" alt=\"Open In Colab\"/></a>"
      ]
    },
    {
      "cell_type": "markdown",
      "source": [
        "#Лабораторная работа №3\n",
        "Студентка Самсонова Валерия, группа М8О-107М-22"
      ],
      "metadata": {
        "id": "ax6mVmaoYv0n"
      }
    },
    {
      "cell_type": "markdown",
      "source": [
        "Выполнить реализацию GD в Numba и сравнить с реализацией в ЛР №1"
      ],
      "metadata": {
        "id": "EpgzqPoWTPCF"
      }
    },
    {
      "cell_type": "markdown",
      "source": [
        "##Часть 1"
      ],
      "metadata": {
        "id": "WVp-1K7fT79U"
      }
    },
    {
      "cell_type": "markdown",
      "source": [
        "Подключаем необходимые библиотеки"
      ],
      "metadata": {
        "id": "TQLek9FmYwbr"
      }
    },
    {
      "cell_type": "code",
      "execution_count": 1,
      "metadata": {
        "id": "qycV87o1YsOE"
      },
      "outputs": [],
      "source": [
        "import numpy as np\n",
        "import numba as nb\n",
        "from numba import jit\n",
        "from datetime import datetime\n",
        "from typing import Tuple, Mapping"
      ]
    },
    {
      "cell_type": "markdown",
      "source": [
        "Записываем функцию Гольдшейна-Прайса и ее частные производные"
      ],
      "metadata": {
        "id": "VMADqOgcPs2y"
      }
    },
    {
      "cell_type": "code",
      "source": [
        "#Функция Гольдшейна-Прайса\n",
        "def GP_E(x,y):\n",
        "  return (1+(x+y+1)**2 * (19-14*x+3*x**2-14*y+6*x*y+3*y**2))*(30+(2*x-3*y)**2 * (18-32*x+12*x**2+48*y-36*x*y+27*y**2))\n",
        "#Производная по x\n",
        "def GP_dEdx(x,y):\n",
        "  return 24*(8*x**3-4*x**2*(9*y-4)+6*x*(9*y**2+8*y+1)-9*y*(3*y**2+4*y+1))*((3*x**2+2*x*(3*y-7)+3*y**2-14*y+19)*(x+y+1)**2+1)+12*(x**3+x**2*(3*y-2)+x*(3*y**2-4*y-1)+y**3-2*y**2-y+2)*((12*x**2-4*x*(9*y+8)+3*(9*y**2+16*y+6))*(2*x-3*y)**2+30)\n",
        "#Производная по y\n",
        "def GP_dEdy(x,y):\n",
        "  return 12*(x**3+x**2*(3*y-2)+x*(3*y**2-4*y-1)+y**3-2*y**2-y+2)*((12*x**2-4*x*(9*y+8)+3*(9*y**2+16*y+6))*(2*x-3*y)**2+30)-36*(8*x**3-4*x**2*(9*y+4)+6*x*(9*y**2+8*y+1)-9*y*(3*y**2+4*y+1))*((3*x**2+2*x*(3*y-7)+3*y**2-14*y+19)*(x+y+1)**2+1)"
      ],
      "metadata": {
        "id": "QHbPhbPMPtA1"
      },
      "execution_count": 4,
      "outputs": []
    },
    {
      "cell_type": "markdown",
      "source": [
        "Записываем функцию Химмельблау и ее частные производные"
      ],
      "metadata": {
        "id": "c6bN4X6-PtTN"
      }
    },
    {
      "cell_type": "code",
      "source": [
        "#Функция Химмельблау\n",
        "def H_E(x,y):\n",
        "  return (x**2+y-11)**2+(x+y**2-7)**2\n",
        "#Производная по x\n",
        "def H_dEdx(x,y):\n",
        "  return 2*(2*x*(x**2+y-11)+x+y**2-7)\n",
        "#Производная по y\n",
        "def H_dEdy(x,y):\n",
        "  return 2*(x**2+2*y*(x+y**2-7)+y-11)"
      ],
      "metadata": {
        "id": "-I-YIfmSPwce"
      },
      "execution_count": 5,
      "outputs": []
    },
    {
      "cell_type": "markdown",
      "source": [
        "Метод градиентного спуска из ЛР №1"
      ],
      "metadata": {
        "id": "7JC7MSifP1t9"
      }
    },
    {
      "cell_type": "code",
      "source": [
        "def GradientDescent(E, dEdx, dEdy, x0, y0, LearningRate, Iterations):\n",
        "  '''\n",
        "  E - функция\n",
        "  dEdx, dEdy - частные производные функции\n",
        "  x0, y0 - начальные приближения точки\n",
        "  LearningRate - скорость обучения\n",
        "  Iterations - количество итераций\n",
        "  '''\n",
        "  #Алгоритм градиентного спуска\n",
        "  x1=x0-LearningRate * dEdx(x0,y0)\n",
        "  y1=y0-LearningRate * dEdy(x0,y0)\n",
        "  for _ in range(Iterations):\n",
        "    x0=x1\n",
        "    y0=y1\n",
        "    x1=x0-LearningRate * dEdx(x0,y0)\n",
        "    y1=y0-LearningRate * dEdy(x0,y0)\n",
        "  return x1,y1, E(x1,y1)"
      ],
      "metadata": {
        "id": "oTOZ35fJP2HZ"
      },
      "execution_count": 6,
      "outputs": []
    },
    {
      "cell_type": "markdown",
      "source": [
        "Тест для функции Гольдшейна-Прайса"
      ],
      "metadata": {
        "id": "F_HWKxxPP4KI"
      }
    },
    {
      "cell_type": "code",
      "source": [
        "start_time_without_NUMBA_GP = datetime.now()\n",
        "x, y, GPStopPoint = GradientDescent(GP_E, GP_dEdx, GP_dEdy, -0.2, 0.2, 0.0001, 500000)\n",
        "time_without_NUMBA_GP = datetime.now() - start_time_without_NUMBA_GP\n",
        "print(\"Время работы без NUMBA\\n\", time_without_NUMBA_GP)\n",
        "print('x={0}, y={1}, E={2}'.format(x,y,GPStopPoint))"
      ],
      "metadata": {
        "colab": {
          "base_uri": "https://localhost:8080/"
        },
        "id": "ImjOAGppP4XB",
        "outputId": "a48dea93-15c7-4d2f-f735-4a9a93a363c2"
      },
      "execution_count": 39,
      "outputs": [
        {
          "output_type": "stream",
          "name": "stdout",
          "text": [
            "Время работы без NUMBA\n",
            " 0:00:02.195232\n",
            "x=-5.739370960047311e-16, y=-1.0000000000000013, E=2.999999999999986\n"
          ]
        }
      ]
    },
    {
      "cell_type": "markdown",
      "source": [
        "Тест для функции Химмельблау"
      ],
      "metadata": {
        "id": "x4ryPgfUP4eR"
      }
    },
    {
      "cell_type": "code",
      "source": [
        "start_time_without_NUMBA_H = datetime.now()\n",
        "x,y,HStopPoint = GradientDescent(H_E, H_dEdx, H_dEdy, -5, 5, 0.001, 500000)\n",
        "time_without_NUMBA_H = datetime.now() - start_time_without_NUMBA_H\n",
        "print(\"Время работы без NUMBA\\n\", time_without_NUMBA_H)\n",
        "print('x={0}, y={1}, E={2}'.format(x,y,HStopPoint))"
      ],
      "metadata": {
        "colab": {
          "base_uri": "https://localhost:8080/"
        },
        "id": "IePd1jxIP4on",
        "outputId": "fd69290d-5560-4239-a31d-0d0e4458b8ef"
      },
      "execution_count": 40,
      "outputs": [
        {
          "output_type": "stream",
          "name": "stdout",
          "text": [
            "Время работы без NUMBA\n",
            " 0:00:00.301633\n",
            "x=-2.805118086952748, y=3.1313125182505757, E=5.837570698635487e-28\n"
          ]
        }
      ]
    },
    {
      "cell_type": "markdown",
      "source": [
        "##Часть 2\n",
        "Реализация градиентного спуска через NUMBA"
      ],
      "metadata": {
        "id": "vhkSM3luTqzJ"
      }
    },
    {
      "cell_type": "markdown",
      "source": [
        "Записываем функцию Гольдшейна-Прайса и ее частные производные"
      ],
      "metadata": {
        "id": "WiNmSTnWUo3C"
      }
    },
    {
      "cell_type": "code",
      "source": [
        "#Функция Гольдшейна-Прайса\n",
        "@nb.njit(fastmath=True)\n",
        "def NB_GP_E(x: np.ndarray) -> np.float64:\n",
        "  return (1+(x[0]+x[1]+1)**2 * (19-14*x[0]+3*x[0]**2-14*x[1]+6*x[0]*x[1]+3*x[1]**2))*(30+(2*x[0]-3*x[1])**2 * (18-32*x[0]+12*x[0]**2+48*x[1]-36*x[0]*x[1]+27*x[1]**2))\n",
        "#Производная по x\n",
        "@nb.njit(fastmath=True)\n",
        "def NB_GP_dEdx(x: np.ndarray) -> np.float64:\n",
        "  return 24*(8*x[0]**3-4*x[0]**2*(9*x[1]-4)+6*x[0]*(9*x[1]**2+8*x[1]+1)-9*x[1]*(3*x[1]**2+4*x[1]+1))*((3*x[0]**2+2*x[0]*(3*x[1]-7)+3*x[1]**2-14*x[1]+19)*(x[0]+x[1]+1)**2+1)+12*(x[0]**3+x[0]**2*(3*x[1]-2)+x[0]*(3*x[1]**2-4*x[1]-1)+x[1]**3-2*x[1]**2-x[1]+2)*((12*x[0]**2-4*x[0]*(9*x[1]+8)+3*(9*x[1]**2+16*x[1]+6))*(2*x[0]-3*x[1])**2+30)\n",
        "#Производная по y\n",
        "@nb.njit(fastmath=True)\n",
        "def NB_GP_dEdy(x: np.ndarray) -> np.float64:\n",
        "  return 12*(x[0]**3+x[0]**2*(3*x[1]-2)+x[0]*(3*x[1]**2-4*x[1]-1)+x[1]**3-2*x[1]**2-x[1]+2)*((12*x[0]**2-4*x[0]*(9*x[1]+8)+3*(9*x[1]**2+16*x[1]+6))*(2*x[0]-3*x[1])**2+30)-36*(8*x[0]**3-4*x[0]**2*(9*x[1]+4)+6*x[0]*(9*x[1]**2+8*x[1]+1)-9*x[1]*(3*x[1]**2+4*x[1]+1))*((3*x[0]**2+2*x[0]*(3*x[1]-7)+3*x[1]**2-14*x[1]+19)*(x[0]+x[1]+1)**2+1)"
      ],
      "metadata": {
        "id": "TivLctvMTuWz"
      },
      "execution_count": 9,
      "outputs": []
    },
    {
      "cell_type": "markdown",
      "source": [
        "Записываем функцию Химмельблау и ее частные производные"
      ],
      "metadata": {
        "id": "5NM-I_mEUsHZ"
      }
    },
    {
      "cell_type": "code",
      "source": [
        "#Функция Химмельблау\n",
        "@nb.njit(fastmath=True)\n",
        "def NB_H_E(x: np.ndarray):\n",
        "  return (x[0]**2+x[1]-11)**2+(x[0]+x[1]**2-7)**2\n",
        "#Производная по x\n",
        "@nb.njit(fastmath=True)\n",
        "def NB_H_dEdx(x: np.ndarray):\n",
        "  return 2*(2*x[0]*(x[0]**2+x[1]-11)+x[0]+x[1]**2-7)\n",
        "#Производная по y\n",
        "@nb.njit(fastmath=True)\n",
        "def NB_H_dEdy(x: np.ndarray):\n",
        "  return 2*(x[0]**2+2*x[1]*(x[0]+x[1]**2-7)+x[1]-11)"
      ],
      "metadata": {
        "id": "rDOaOX6XUuAc"
      },
      "execution_count": 10,
      "outputs": []
    },
    {
      "cell_type": "markdown",
      "source": [
        "Метод градиентного спуска c NUMBA"
      ],
      "metadata": {
        "id": "EhWkTDZaXCTn"
      }
    },
    {
      "cell_type": "code",
      "source": [
        "@nb.njit(fastmath=True)\n",
        "def NB_GradientDescent(E: Mapping, dEdx: Mapping, dEdy: Mapping, x:np.ndarray,LearningRate, Iterations):\n",
        "  '''\n",
        "  E - функция\n",
        "  dEdx, dEdy - частные производные функции\n",
        "  x - начальные приближения точки\n",
        "  LearningRate - скорость обучения\n",
        "  Iterations - количество итераций\n",
        "  '''\n",
        "  #Алгоритм градиентного спуска\n",
        "  x0 = x[0];\n",
        "  y0 = x[1];\n",
        "  x1=x0-LearningRate * dEdx(np.array([x0, y0]))\n",
        "  y1=y0-LearningRate * dEdy(np.array([x0, y0]))\n",
        "  for _ in range(Iterations):\n",
        "    x0=x1\n",
        "    y0=y1\n",
        "    x1=x0-LearningRate * dEdx(np.array([x0, y0]))\n",
        "    y1=y0-LearningRate * dEdy(np.array([x0, y0]))\n",
        "  return x1,y1, E(np.array([x1,y1]))"
      ],
      "metadata": {
        "id": "9hIOMPYlXEgI"
      },
      "execution_count": 11,
      "outputs": []
    },
    {
      "cell_type": "markdown",
      "source": [
        "Тест для функции Гольдшейна-Прайса"
      ],
      "metadata": {
        "id": "rB1CuLcmY_je"
      }
    },
    {
      "cell_type": "code",
      "source": [
        "start_time_with_NUMBA_GP = datetime.now()\n",
        "x,y,NB_GPStopPoint = NB_GradientDescent(NB_GP_E, NB_GP_dEdx, NB_GP_dEdy, np.array([-0.2, 0.2]), 0.0001, 50000)\n",
        "time_with_NUMBA_GP = datetime.now() - start_time_with_NUMBA_GP\n",
        "print(\"Время работы с NUMBA:\\n\", time_with_NUMBA_GP)\n",
        "print('x={0}, y={1}, E={2}'.format(x,y,NB_GPStopPoint))"
      ],
      "metadata": {
        "colab": {
          "base_uri": "https://localhost:8080/"
        },
        "outputId": "2ad34e7f-4096-4fa6-aaa7-3e6164101adb",
        "id": "xgHPc1DlY_je"
      },
      "execution_count": 42,
      "outputs": [
        {
          "output_type": "stream",
          "name": "stdout",
          "text": [
            "Время работы с NUMBA:\n",
            " 0:00:00.006462\n",
            "x=-5.551115123125774e-16, y=-1.0000000000000013, E=2.9999999999999813\n"
          ]
        }
      ]
    },
    {
      "cell_type": "markdown",
      "source": [
        "Тест для функции Химмельблау"
      ],
      "metadata": {
        "id": "KoaneCguY_jf"
      }
    },
    {
      "cell_type": "code",
      "source": [
        "start_time_with_NUMBA_H = datetime.now()\n",
        "x,y,NB_HStopPoint = NB_GradientDescent(NB_H_E, NB_H_dEdx, NB_H_dEdy, np.array([-5,5]), 0.001, 500000)\n",
        "time_with_NUMBA_H = datetime.now() - start_time_with_NUMBA_H\n",
        "print(\"Время работы с NUMBA:\\n\", time_with_NUMBA_H)\n",
        "print('x={0}, y={1}, E={2}'.format(x,y,NB_HStopPoint))"
      ],
      "metadata": {
        "colab": {
          "base_uri": "https://localhost:8080/"
        },
        "outputId": "7c8ef6dc-cb3f-4a39-8962-db569132ae53",
        "id": "tFkXSgkAY_jf"
      },
      "execution_count": 43,
      "outputs": [
        {
          "output_type": "stream",
          "name": "stdout",
          "text": [
            "Время работы с NUMBA:\n",
            " 0:00:00.048319\n",
            "x=-2.805118086952748, y=3.1313125182505757, E=6.11339851131986e-28\n"
          ]
        }
      ]
    },
    {
      "cell_type": "markdown",
      "source": [
        "Сравнение времени работы программы без NUMBA и с NUMBA"
      ],
      "metadata": {
        "id": "aLHgVA70D9zy"
      }
    },
    {
      "cell_type": "code",
      "source": [
        "print(\"Время работы программы для функции Гольдшейна-Прайса без NUMBA больше в {0} раз, по сравнению со временем работы с NUMBA.\".format(round(time_without_NUMBA_GP/time_with_NUMBA_GP)))\n",
        "print(\"Время работы программы для функции Химмельблау без NUMBA больше в {0} раз, по сравнению со временем работы с NUMBA.\".format(round(time_without_NUMBA_H/time_with_NUMBA_H)))"
      ],
      "metadata": {
        "colab": {
          "base_uri": "https://localhost:8080/"
        },
        "id": "Ovm0N09qEEcD",
        "outputId": "9fb54415-5081-4c72-c4fa-28973f55c382"
      },
      "execution_count": 44,
      "outputs": [
        {
          "output_type": "stream",
          "name": "stdout",
          "text": [
            "Время работы программы для функции Гольдшейна-Прайса без NUMBA больше в 340 раз, по сравнению со временем работы с NUMBA.\n",
            "Время работы программы для функции Химмельблау без NUMBA больше в 6 раз, по сравнению со временем работы с NUMBA.\n"
          ]
        }
      ]
    }
  ]
}